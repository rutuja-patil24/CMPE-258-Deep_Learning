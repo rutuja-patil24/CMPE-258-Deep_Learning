{
  "nbformat": 4,
  "nbformat_minor": 0,
  "metadata": {
    "colab": {
      "provenance": [],
      "gpuType": "T4",
      "authorship_tag": "ABX9TyMtGiVXzYYsUD8iwuSuC8Q7",
      "include_colab_link": true
    },
    "kernelspec": {
      "name": "python3",
      "display_name": "Python 3"
    },
    "language_info": {
      "name": "python"
    },
    "accelerator": "GPU"
  },
  "cells": [
    {
      "cell_type": "markdown",
      "metadata": {
        "id": "view-in-github",
        "colab_type": "text"
      },
      "source": [
        "<a href=\"https://colab.research.google.com/github/rutuja-patil24/CMPE-258-Deep_Learning/blob/main/Assignment_08/LangGraph%20Agent%20Design%20Patterns/Pattern_4_Orchestrator_Worker_Pattern_(LangGraph).ipynb\" target=\"_parent\"><img src=\"https://colab.research.google.com/assets/colab-badge.svg\" alt=\"Open In Colab\"/></a>"
      ]
    },
    {
      "cell_type": "markdown",
      "source": [
        "## Step 1: Imports"
      ],
      "metadata": {
        "id": "ArULb1m7qKh6"
      }
    },
    {
      "cell_type": "code",
      "source": [
        "!pip install -q langgraph langchain-openai openai"
      ],
      "metadata": {
        "colab": {
          "base_uri": "https://localhost:8080/"
        },
        "id": "dwSWtJd7qXyq",
        "outputId": "a2f80491-a90a-46fe-ec92-f1939b49b695"
      },
      "execution_count": 1,
      "outputs": [
        {
          "output_type": "stream",
          "name": "stdout",
          "text": [
            "\u001b[2K     \u001b[90m━━━━━━━━━━━━━━━━━━━━━━━━━━━━━━━━━━━━━━━━\u001b[0m \u001b[32m43.5/43.5 kB\u001b[0m \u001b[31m1.9 MB/s\u001b[0m eta \u001b[36m0:00:00\u001b[0m\n",
            "\u001b[2K   \u001b[90m━━━━━━━━━━━━━━━━━━━━━━━━━━━━━━━━━━━━━━━━\u001b[0m \u001b[32m148.9/148.9 kB\u001b[0m \u001b[31m5.8 MB/s\u001b[0m eta \u001b[36m0:00:00\u001b[0m\n",
            "\u001b[2K   \u001b[90m━━━━━━━━━━━━━━━━━━━━━━━━━━━━━━━━━━━━━━━━\u001b[0m \u001b[32m62.4/62.4 kB\u001b[0m \u001b[31m4.5 MB/s\u001b[0m eta \u001b[36m0:00:00\u001b[0m\n",
            "\u001b[2K   \u001b[90m━━━━━━━━━━━━━━━━━━━━━━━━━━━━━━━━━━━━━━━━\u001b[0m \u001b[32m42.3/42.3 kB\u001b[0m \u001b[31m2.5 MB/s\u001b[0m eta \u001b[36m0:00:00\u001b[0m\n",
            "\u001b[2K   \u001b[90m━━━━━━━━━━━━━━━━━━━━━━━━━━━━━━━━━━━━━━━━\u001b[0m \u001b[32m47.3/47.3 kB\u001b[0m \u001b[31m3.7 MB/s\u001b[0m eta \u001b[36m0:00:00\u001b[0m\n",
            "\u001b[2K   \u001b[90m━━━━━━━━━━━━━━━━━━━━━━━━━━━━━━━━━━━━━━━━\u001b[0m \u001b[32m1.2/1.2 MB\u001b[0m \u001b[31m32.8 MB/s\u001b[0m eta \u001b[36m0:00:00\u001b[0m\n",
            "\u001b[2K   \u001b[90m━━━━━━━━━━━━━━━━━━━━━━━━━━━━━━━━━━━━━━━━\u001b[0m \u001b[32m194.8/194.8 kB\u001b[0m \u001b[31m13.2 MB/s\u001b[0m eta \u001b[36m0:00:00\u001b[0m\n",
            "\u001b[2K   \u001b[90m━━━━━━━━━━━━━━━━━━━━━━━━━━━━━━━━━━━━━━━━\u001b[0m \u001b[32m223.6/223.6 kB\u001b[0m \u001b[31m15.0 MB/s\u001b[0m eta \u001b[36m0:00:00\u001b[0m\n",
            "\u001b[?25h"
          ]
        }
      ]
    },
    {
      "cell_type": "code",
      "source": [
        "!pip install -q langchain-community"
      ],
      "metadata": {
        "colab": {
          "base_uri": "https://localhost:8080/"
        },
        "id": "Z83tIkpDqgF3",
        "outputId": "dcf72a86-676b-485a-f552-646cfb0258e9"
      },
      "execution_count": 2,
      "outputs": [
        {
          "output_type": "stream",
          "name": "stdout",
          "text": [
            "\u001b[?25l   \u001b[90m━━━━━━━━━━━━━━━━━━━━━━━━━━━━━━━━━━━━━━━━\u001b[0m \u001b[32m0.0/2.5 MB\u001b[0m \u001b[31m?\u001b[0m eta \u001b[36m-:--:--\u001b[0m\r\u001b[2K   \u001b[91m━━━━━━━━━━━━━━━━━━━━━━━━\u001b[0m\u001b[90m╺\u001b[0m\u001b[90m━━━━━━━━━━━━━━━\u001b[0m \u001b[32m1.5/2.5 MB\u001b[0m \u001b[31m46.1 MB/s\u001b[0m eta \u001b[36m0:00:01\u001b[0m\r\u001b[2K   \u001b[91m━━━━━━━━━━━━━━━━━━━━━━━━━━━━━━━━━━━━━━━\u001b[0m\u001b[91m╸\u001b[0m \u001b[32m2.5/2.5 MB\u001b[0m \u001b[31m59.7 MB/s\u001b[0m eta \u001b[36m0:00:01\u001b[0m\r\u001b[2K   \u001b[90m━━━━━━━━━━━━━━━━━━━━━━━━━━━━━━━━━━━━━━━━\u001b[0m \u001b[32m2.5/2.5 MB\u001b[0m \u001b[31m32.2 MB/s\u001b[0m eta \u001b[36m0:00:00\u001b[0m\n",
            "\u001b[?25h\u001b[?25l   \u001b[90m━━━━━━━━━━━━━━━━━━━━━━━━━━━━━━━━━━━━━━━━\u001b[0m \u001b[32m0.0/44.4 kB\u001b[0m \u001b[31m?\u001b[0m eta \u001b[36m-:--:--\u001b[0m\r\u001b[2K   \u001b[90m━━━━━━━━━━━━━━━━━━━━━━━━━━━━━━━━━━━━━━━━\u001b[0m \u001b[32m44.4/44.4 kB\u001b[0m \u001b[31m3.0 MB/s\u001b[0m eta \u001b[36m0:00:00\u001b[0m\n",
            "\u001b[?25h\u001b[?25l   \u001b[90m━━━━━━━━━━━━━━━━━━━━━━━━━━━━━━━━━━━━━━━━\u001b[0m \u001b[32m0.0/50.9 kB\u001b[0m \u001b[31m?\u001b[0m eta \u001b[36m-:--:--\u001b[0m\r\u001b[2K   \u001b[90m━━━━━━━━━━━━━━━━━━━━━━━━━━━━━━━━━━━━━━━━\u001b[0m \u001b[32m50.9/50.9 kB\u001b[0m \u001b[31m4.0 MB/s\u001b[0m eta \u001b[36m0:00:00\u001b[0m\n",
            "\u001b[?25h"
          ]
        }
      ]
    },
    {
      "cell_type": "code",
      "source": [
        "from langchain.chat_models import ChatOpenAI\n",
        "from langchain.prompts import ChatPromptTemplate\n",
        "from langgraph.graph import StateGraph, END\n",
        "from typing import TypedDict\n",
        "import os\n",
        "import getpass\n",
        "\n",
        "#  Prompt user to enter keys securely (not visible in UI)\n",
        "os.environ[\"OPENAI_API_KEY\"] = getpass.getpass(\"Enter your OpenAI API key: \")\n",
        "os.environ[\"LANGCHAIN_API_KEY\"] = getpass.getpass(\"Enter your LangSmith API key: \")\n",
        "os.environ[\"LANGCHAIN_PROJECT\"] = \"orchestrator-worker\"\n",
        "os.environ[\"LANGCHAIN_TRACING_V2\"] = \"true\"\n",
        "\n",
        ""
      ],
      "metadata": {
        "colab": {
          "base_uri": "https://localhost:8080/"
        },
        "id": "wWrUmpDvvruQ",
        "outputId": "b6afd966-2c38-49ad-e342-14a2a9586dc9"
      },
      "execution_count": 6,
      "outputs": [
        {
          "name": "stdout",
          "output_type": "stream",
          "text": [
            "Enter your OpenAI API key: ··········\n",
            "Enter your LangSmith API key: ··········\n"
          ]
        }
      ]
    },
    {
      "cell_type": "markdown",
      "source": [
        "##Step 2: Define State"
      ],
      "metadata": {
        "id": "1xfJ96xpqlVv"
      }
    },
    {
      "cell_type": "code",
      "source": [
        "class EditState(TypedDict):\n",
        "    submission: str\n",
        "    feedback: str\n",
        "    final_version: str"
      ],
      "metadata": {
        "id": "8ZpDgP_nqpzZ"
      },
      "execution_count": 4,
      "outputs": []
    },
    {
      "cell_type": "markdown",
      "source": [
        "##Step 3: Initialize LLM"
      ],
      "metadata": {
        "id": "LwiZY-gfquTP"
      }
    },
    {
      "cell_type": "code",
      "source": [
        "llm = ChatOpenAI(model=\"gpt-3.5-turbo\", temperature=0.7)"
      ],
      "metadata": {
        "id": "Ew-aLmttqtYI",
        "colab": {
          "base_uri": "https://localhost:8080/"
        },
        "outputId": "1b5755c2-0e58-49a1-e4a2-9d20ea238989"
      },
      "execution_count": 5,
      "outputs": [
        {
          "output_type": "stream",
          "name": "stderr",
          "text": [
            "<ipython-input-5-59122b76da0b>:1: LangChainDeprecationWarning: The class `ChatOpenAI` was deprecated in LangChain 0.0.10 and will be removed in 1.0. An updated version of the class exists in the :class:`~langchain-openai package and should be used instead. To use it run `pip install -U :class:`~langchain-openai` and import as `from :class:`~langchain_openai import ChatOpenAI``.\n",
            "  llm = ChatOpenAI(model=\"gpt-3.5-turbo\", temperature=0.7)\n"
          ]
        }
      ]
    },
    {
      "cell_type": "markdown",
      "source": [
        "##Step 4: Orchestrator Node"
      ],
      "metadata": {
        "id": "XKXDk3X9q4ZG"
      }
    },
    {
      "cell_type": "code",
      "source": [
        "def review_submission(state: EditState) -> dict:\n",
        "    prompt = ChatPromptTemplate.from_template(\n",
        "        \"You're an editor reviewing this article:\\n\\n{submission}\\n\\n\"\n",
        "        \"Give feedback on tone, grammar, and structure in 2-3 lines.\"\n",
        "    )\n",
        "    result = (prompt | llm).invoke({\"submission\": state[\"submission\"]})\n",
        "    return {\"feedback\": result.content}\n"
      ],
      "metadata": {
        "id": "I_zmp2h6q6lE"
      },
      "execution_count": 7,
      "outputs": []
    },
    {
      "cell_type": "markdown",
      "source": [
        "## Step 5: Worker Node"
      ],
      "metadata": {
        "id": "Lql_f2pNq9p8"
      }
    },
    {
      "cell_type": "code",
      "source": [
        "def revise_article(state: EditState) -> dict:\n",
        "    prompt = ChatPromptTemplate.from_template(\n",
        "        \"Here is the article:\\n\\n{submission}\\n\\n\"\n",
        "        \"And here's the feedback:\\n{feedback}\\n\\n\"\n",
        "        \"Revise the article accordingly and return only the final version.\"\n",
        "    )\n",
        "    result = (prompt | llm).invoke({\n",
        "        \"submission\": state[\"submission\"],\n",
        "        \"feedback\": state[\"feedback\"]\n",
        "    })\n",
        "    return {\"final_version\": result.content}\n"
      ],
      "metadata": {
        "id": "TPZ-dJK7rAIj"
      },
      "execution_count": 8,
      "outputs": []
    },
    {
      "cell_type": "markdown",
      "source": [
        "##Step 6: Build Workflow"
      ],
      "metadata": {
        "id": "6WrTD3tOrC5H"
      }
    },
    {
      "cell_type": "code",
      "source": [
        "builder = StateGraph(EditState)\n",
        "builder.add_node(\"review\", review_submission)\n",
        "builder.add_node(\"revise\", revise_article)\n",
        "builder.set_entry_point(\"review\")\n",
        "builder.add_edge(\"review\", \"revise\")\n",
        "builder.add_edge(\"revise\", END)\n",
        "workflow = builder.compile()"
      ],
      "metadata": {
        "id": "xp6P1UXprFfF"
      },
      "execution_count": 9,
      "outputs": []
    },
    {
      "cell_type": "markdown",
      "source": [
        "##Step 7: Run Workflow"
      ],
      "metadata": {
        "id": "q5ljjQ_ArIj2"
      }
    },
    {
      "cell_type": "code",
      "source": [
        "inputs = {\n",
        "    \"submission\": \"ChatGPT is good tool. It help me write better. I think every people should use it.\"\n",
        "}\n",
        "final_state = workflow.invoke(inputs)\n",
        "\n",
        "from pprint import pprint\n",
        "pprint(final_state)\n"
      ],
      "metadata": {
        "colab": {
          "base_uri": "https://localhost:8080/"
        },
        "id": "fuKvHFsprKA-",
        "outputId": "9619cdbd-d840-416f-ed8b-e64d94ba7750"
      },
      "execution_count": 10,
      "outputs": [
        {
          "output_type": "stream",
          "name": "stdout",
          "text": [
            "{'feedback': 'The article lacks proper grammar and punctuation, and the tone '\n",
            "             'is overly informal. It would benefit from more detailed '\n",
            "             \"explanations of how ChatGPT improves writing and why it's \"\n",
            "             'recommended for everyone to use. Consider expanding on the '\n",
            "             'benefits and features of ChatGPT in a more professional tone.',\n",
            " 'final_version': 'ChatGPT is a valuable tool that has significantly improved '\n",
            "                  'my writing skills. Its user-friendly interface and advanced '\n",
            "                  'capabilities have helped me enhance the quality of my work. '\n",
            "                  'I believe that ChatGPT is a must-have for anyone looking to '\n",
            "                  'improve their writing abilities.\\n'\n",
            "                  '\\n'\n",
            "                  'ChatGPT offers a wide range of features that make it an '\n",
            "                  'essential tool for writers of all levels. From generating '\n",
            "                  'creative ideas to providing helpful suggestions for '\n",
            "                  'sentence structure and grammar, ChatGPT is a versatile '\n",
            "                  'platform that can benefit anyone looking to enhance their '\n",
            "                  'writing skills.\\n'\n",
            "                  '\\n'\n",
            "                  'I highly recommend ChatGPT to anyone who wants to take '\n",
            "                  'their writing to the next level. Give it a try and '\n",
            "                  'experience the difference it can make in your writing!',\n",
            " 'submission': 'ChatGPT is good tool. It help me write better. I think every '\n",
            "               'people should use it.'}\n"
          ]
        }
      ]
    },
    {
      "cell_type": "markdown",
      "source": [
        "##Step 8: Display Outputs"
      ],
      "metadata": {
        "id": "MhJpebKjrkES"
      }
    },
    {
      "cell_type": "code",
      "source": [
        "print(\" Original Submission:\\n\", final_state['submission'])\n",
        "print(\"\\n Feedback from Editor:\\n\", final_state['feedback'])\n",
        "print(\"\\n Final Revised Version:\\n\", final_state['final_version'])\n",
        "\n",
        "# Optional: Save output to markdown or text file\n",
        "with open(\"orchestrator_worker_output.txt\", \"w\") as f:\n",
        "    f.write(\" Original Submission:\\n\" + final_state['submission'] + \"\\n\\n\")\n",
        "    f.write(\"Feedback from Editor:\\n\" + final_state['feedback'] + \"\\n\\n\")\n",
        "    f.write(\" Final Revised Version:\\n\" + final_state['final_version'])\n"
      ],
      "metadata": {
        "colab": {
          "base_uri": "https://localhost:8080/"
        },
        "id": "_gjEmAcrrhl0",
        "outputId": "cf2bd5f6-23b9-4fdf-c996-c538ae75e5f2"
      },
      "execution_count": 11,
      "outputs": [
        {
          "output_type": "stream",
          "name": "stdout",
          "text": [
            " Original Submission:\n",
            " ChatGPT is good tool. It help me write better. I think every people should use it.\n",
            "\n",
            " Feedback from Editor:\n",
            " The article lacks proper grammar and punctuation, and the tone is overly informal. It would benefit from more detailed explanations of how ChatGPT improves writing and why it's recommended for everyone to use. Consider expanding on the benefits and features of ChatGPT in a more professional tone.\n",
            "\n",
            " Final Revised Version:\n",
            " ChatGPT is a valuable tool that has significantly improved my writing skills. Its user-friendly interface and advanced capabilities have helped me enhance the quality of my work. I believe that ChatGPT is a must-have for anyone looking to improve their writing abilities.\n",
            "\n",
            "ChatGPT offers a wide range of features that make it an essential tool for writers of all levels. From generating creative ideas to providing helpful suggestions for sentence structure and grammar, ChatGPT is a versatile platform that can benefit anyone looking to enhance their writing skills.\n",
            "\n",
            "I highly recommend ChatGPT to anyone who wants to take their writing to the next level. Give it a try and experience the difference it can make in your writing!\n"
          ]
        }
      ]
    },
    {
      "cell_type": "code",
      "source": [
        "from langsmith import traceable, Client\n",
        "\n",
        "client = Client()\n",
        "\n",
        "# After your run\n",
        "runs = client.list_runs(project_name=\"Orchestrator-Worker\", limit=1)\n",
        "latest_run = next(runs)\n",
        "\n",
        "print(f\"🔗 View Trace: https://smith.langchain.com/public/{latest_run.id}\")\n"
      ],
      "metadata": {
        "colab": {
          "base_uri": "https://localhost:8080/"
        },
        "id": "f1n_QzH9NfmQ",
        "outputId": "7ad38370-d8e4-4d75-e32a-2335f0ba304e"
      },
      "execution_count": null,
      "outputs": [
        {
          "output_type": "stream",
          "name": "stdout",
          "text": [
            "🔗 View Trace: https://smith.langchain.com/public/1133a08f-4501-4b3c-8f28-68dad92e0f1b\n"
          ]
        }
      ]
    }
  ]
}