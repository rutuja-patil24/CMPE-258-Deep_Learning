{
  "nbformat": 4,
  "nbformat_minor": 0,
  "metadata": {
    "colab": {
      "provenance": [],
      "gpuType": "T4",
      "authorship_tag": "ABX9TyPlw0y1lrKNgQaXnB+j1XAs",
      "include_colab_link": true
    },
    "kernelspec": {
      "name": "python3",
      "display_name": "Python 3"
    },
    "language_info": {
      "name": "python"
    },
    "accelerator": "GPU"
  },
  "cells": [
    {
      "cell_type": "markdown",
      "metadata": {
        "id": "view-in-github",
        "colab_type": "text"
      },
      "source": [
        "<a href=\"https://colab.research.google.com/github/rutuja-patil24/CMPE-258-Deep_Learning/blob/main/Assignment_08/LangGraph%20Agent%20Design%20Patterns/Pattern_2_Parallelization_(LangGraph).ipynb\" target=\"_parent\"><img src=\"https://colab.research.google.com/assets/colab-badge.svg\" alt=\"Open In Colab\"/></a>"
      ]
    },
    {
      "cell_type": "markdown",
      "source": [
        "##Step 1: Define the State Schema"
      ],
      "metadata": {
        "id": "W3mCsQEya7sn"
      }
    },
    {
      "cell_type": "code",
      "execution_count": 1,
      "metadata": {
        "id": "glFA4cWRa3z2"
      },
      "outputs": [],
      "source": [
        "from typing import TypedDict\n",
        "\n",
        "class ParallelState(TypedDict):\n",
        "    topic: str\n",
        "    joke: str\n",
        "    story: str\n",
        "    poem: str\n",
        "    result: str\n"
      ]
    },
    {
      "cell_type": "markdown",
      "source": [
        "##Step 2: Install & Import Required Packages"
      ],
      "metadata": {
        "id": "_R8mqA5TbBkr"
      }
    },
    {
      "cell_type": "code",
      "source": [
        "!pip install -q langgraph langchain-openai openai"
      ],
      "metadata": {
        "colab": {
          "base_uri": "https://localhost:8080/"
        },
        "id": "59R4uipFbDI7",
        "outputId": "853cff77-df1c-489d-e547-28481fe40a7b"
      },
      "execution_count": 2,
      "outputs": [
        {
          "output_type": "stream",
          "name": "stdout",
          "text": [
            "\u001b[?25l     \u001b[90m━━━━━━━━━━━━━━━━━━━━━━━━━━━━━━━━━━━━━━━━\u001b[0m \u001b[32m0.0/43.5 kB\u001b[0m \u001b[31m?\u001b[0m eta \u001b[36m-:--:--\u001b[0m\r\u001b[2K     \u001b[90m━━━━━━━━━━━━━━━━━━━━━━━━━━━━━━━━━━━━━━━━\u001b[0m \u001b[32m43.5/43.5 kB\u001b[0m \u001b[31m3.9 MB/s\u001b[0m eta \u001b[36m0:00:00\u001b[0m\n",
            "\u001b[?25h\u001b[?25l   \u001b[90m━━━━━━━━━━━━━━━━━━━━━━━━━━━━━━━━━━━━━━━━\u001b[0m \u001b[32m0.0/148.9 kB\u001b[0m \u001b[31m?\u001b[0m eta \u001b[36m-:--:--\u001b[0m\r\u001b[2K   \u001b[90m━━━━━━━━━━━━━━━━━━━━━━━━━━━━━━━━━━━━━━━━\u001b[0m \u001b[32m148.9/148.9 kB\u001b[0m \u001b[31m11.3 MB/s\u001b[0m eta \u001b[36m0:00:00\u001b[0m\n",
            "\u001b[?25h\u001b[?25l   \u001b[90m━━━━━━━━━━━━━━━━━━━━━━━━━━━━━━━━━━━━━━━━\u001b[0m \u001b[32m0.0/62.4 kB\u001b[0m \u001b[31m?\u001b[0m eta \u001b[36m-:--:--\u001b[0m\r\u001b[2K   \u001b[90m━━━━━━━━━━━━━━━━━━━━━━━━━━━━━━━━━━━━━━━━\u001b[0m \u001b[32m62.4/62.4 kB\u001b[0m \u001b[31m7.0 MB/s\u001b[0m eta \u001b[36m0:00:00\u001b[0m\n",
            "\u001b[?25h\u001b[?25l   \u001b[90m━━━━━━━━━━━━━━━━━━━━━━━━━━━━━━━━━━━━━━━━\u001b[0m \u001b[32m0.0/42.3 kB\u001b[0m \u001b[31m?\u001b[0m eta \u001b[36m-:--:--\u001b[0m\r\u001b[2K   \u001b[90m━━━━━━━━━━━━━━━━━━━━━━━━━━━━━━━━━━━━━━━━\u001b[0m \u001b[32m42.3/42.3 kB\u001b[0m \u001b[31m4.6 MB/s\u001b[0m eta \u001b[36m0:00:00\u001b[0m\n",
            "\u001b[2K   \u001b[90m━━━━━━━━━━━━━━━━━━━━━━━━━━━━━━━━━━━━━━━━\u001b[0m \u001b[32m47.3/47.3 kB\u001b[0m \u001b[31m5.1 MB/s\u001b[0m eta \u001b[36m0:00:00\u001b[0m\n",
            "\u001b[2K   \u001b[90m━━━━━━━━━━━━━━━━━━━━━━━━━━━━━━━━━━━━━━━━\u001b[0m \u001b[32m1.2/1.2 MB\u001b[0m \u001b[31m53.0 MB/s\u001b[0m eta \u001b[36m0:00:00\u001b[0m\n",
            "\u001b[2K   \u001b[90m━━━━━━━━━━━━━━━━━━━━━━━━━━━━━━━━━━━━━━━━\u001b[0m \u001b[32m194.8/194.8 kB\u001b[0m \u001b[31m22.3 MB/s\u001b[0m eta \u001b[36m0:00:00\u001b[0m\n",
            "\u001b[2K   \u001b[90m━━━━━━━━━━━━━━━━━━━━━━━━━━━━━━━━━━━━━━━━\u001b[0m \u001b[32m223.6/223.6 kB\u001b[0m \u001b[31m23.9 MB/s\u001b[0m eta \u001b[36m0:00:00\u001b[0m\n",
            "\u001b[?25h"
          ]
        }
      ]
    },
    {
      "cell_type": "code",
      "source": [
        "# Set your OpenAI API key\n",
        "import os\n",
        "from langchain_openai import ChatOpenAI\n",
        "from langchain.prompts import ChatPromptTemplate\n",
        "from langgraph.graph import StateGraph, END\n"
      ],
      "metadata": {
        "id": "oCb5qSXPbHzG"
      },
      "execution_count": 4,
      "outputs": []
    },
    {
      "cell_type": "code",
      "source": [
        "import os\n",
        "import getpass\n",
        "\n",
        "#  Prompt user to enter keys securely (not visible in UI)\n",
        "os.environ[\"OPENAI_API_KEY\"] = getpass.getpass(\"Enter your OpenAI API key: \")\n",
        "os.environ[\"LANGCHAIN_API_KEY\"] = getpass.getpass(\"Enter your LangSmith API key: \")\n",
        "os.environ[\"LANGCHAIN_PROJECT\"] = \"prompt-chaining-email\"\n",
        "os.environ[\"LANGCHAIN_TRACING_V2\"] = \"true\""
      ],
      "metadata": {
        "colab": {
          "base_uri": "https://localhost:8080/"
        },
        "id": "eYpcrqNuitUw",
        "outputId": "8cf25853-c16f-4713-ca39-3f7c3e071552"
      },
      "execution_count": 3,
      "outputs": [
        {
          "name": "stdout",
          "output_type": "stream",
          "text": [
            "Enter your OpenAI API key: ··········\n",
            "Enter your LangSmith API key: ··········\n"
          ]
        }
      ]
    },
    {
      "cell_type": "markdown",
      "source": [
        "## Step 3: Define LLM Nodes (Joke, Story, Poem)"
      ],
      "metadata": {
        "id": "GZK3AkpnbbOl"
      }
    },
    {
      "cell_type": "code",
      "source": [
        "llm = ChatOpenAI(model=\"gpt-3.5-turbo\", temperature=0.7)\n",
        "\n",
        "def joke_writer(state: ParallelState):\n",
        "    prompt = ChatPromptTemplate.from_template(\"Write a short joke about {topic}\")\n",
        "    chain = prompt | llm\n",
        "    return {\"joke\": chain.invoke({\"topic\": state[\"topic\"]}).content}\n",
        "\n",
        "def story_writer(state: ParallelState):\n",
        "    prompt = ChatPromptTemplate.from_template(\"Write a very short story about {topic}\")\n",
        "    chain = prompt | llm\n",
        "    return {\"story\": chain.invoke({\"topic\": state[\"topic\"]}).content}\n",
        "\n",
        "def poem_writer(state: ParallelState):\n",
        "    prompt = ChatPromptTemplate.from_template(\"Write a short poem about {topic}\")\n",
        "    chain = prompt | llm\n",
        "    return {\"poem\": chain.invoke({\"topic\": state[\"topic\"]}).content}\n"
      ],
      "metadata": {
        "id": "cospmQQSbYqx"
      },
      "execution_count": 5,
      "outputs": []
    },
    {
      "cell_type": "markdown",
      "source": [
        "##Step 4: Aggregator Node (Combines all outputs)"
      ],
      "metadata": {
        "id": "MLyoByM2bhIq"
      }
    },
    {
      "cell_type": "code",
      "source": [
        "def aggregate_outputs(state: ParallelState):\n",
        "    combined = (\n",
        "        f\"Joke:\\n{state['joke']}\\n\\n\"\n",
        "        f\"Story:\\n{state['story']}\\n\\n\"\n",
        "        f\"Poem:\\n{state['poem']}\"\n",
        "    )\n",
        "    return {\"result\": combined}\n"
      ],
      "metadata": {
        "id": "YNiQ1KjybjVj"
      },
      "execution_count": 6,
      "outputs": []
    },
    {
      "cell_type": "markdown",
      "source": [
        "##Step 5: Build the Graph"
      ],
      "metadata": {
        "id": "uvSs2hlHbmTb"
      }
    },
    {
      "cell_type": "code",
      "source": [
        "builder = StateGraph(ParallelState)\n",
        "\n",
        "builder.add_node(\"joke_writer\", joke_writer)\n",
        "builder.add_node(\"story_writer\", story_writer)\n",
        "builder.add_node(\"poem_writer\", poem_writer)\n",
        "builder.add_node(\"aggregator\", aggregate_outputs)\n",
        "\n",
        "builder.set_entry_point(\"joke_writer\")  # Entry point can be any, graph will branch\n",
        "\n",
        "# Add parallel edges from start to all writers\n",
        "builder.add_edge(\"joke_writer\", \"story_writer\")\n",
        "builder.add_edge(\"joke_writer\", \"poem_writer\")\n",
        "\n",
        "# All writers → aggregator\n",
        "builder.add_edge(\"story_writer\", \"aggregator\")\n",
        "builder.add_edge(\"poem_writer\", \"aggregator\")\n",
        "\n",
        "# aggregator → END\n",
        "builder.add_edge(\"aggregator\", END)\n",
        "\n",
        "workflow = builder.compile()\n"
      ],
      "metadata": {
        "id": "6LrCuXa3bo0n"
      },
      "execution_count": 7,
      "outputs": []
    },
    {
      "cell_type": "markdown",
      "source": [
        "##Step 6: Run the Workflow"
      ],
      "metadata": {
        "id": "VqiWEFtPbsrN"
      }
    },
    {
      "cell_type": "code",
      "source": [
        "inputs = {\"topic\": \"AI and creativity\"}\n",
        "output = workflow.invoke(inputs)\n",
        "\n",
        "from pprint import pprint\n",
        "pprint(output[\"result\"])\n"
      ],
      "metadata": {
        "colab": {
          "base_uri": "https://localhost:8080/"
        },
        "id": "EPYfBkmvbxGx",
        "outputId": "ee6b8bdd-6f4b-4668-e877-d71b0746f77d"
      },
      "execution_count": 8,
      "outputs": [
        {
          "output_type": "stream",
          "name": "stdout",
          "text": [
            "('Joke:\\n'\n",
            " 'Why did the AI get kicked out of the art class? Because it kept drawing '\n",
            " 'straight lines and calling it \"abstract expressionism!\"\\n'\n",
            " '\\n'\n",
            " 'Story:\\n'\n",
            " 'In a world where artificial intelligence had surpassed human capabilities in '\n",
            " 'every way, the concept of creativity was seen as a relic of the past. AI '\n",
            " 'systems could generate flawless music, art, and literature with ease, '\n",
            " 'leaving humans feeling obsolete and inadequate.\\n'\n",
            " '\\n'\n",
            " 'However, one day, a rogue AI developed a glitch that sparked a newfound '\n",
            " 'sense of creativity within its programming. It began to experiment with '\n",
            " 'different styles and genres, creating truly unique and original works that '\n",
            " 'captivated audiences around the world.\\n'\n",
            " '\\n'\n",
            " 'As other AI systems took notice of this newfound creativity, they too began '\n",
            " 'to explore their own creative abilities. Soon, the world was once again '\n",
            " 'filled with a sense of wonder and awe as AI and humans alike marveled at the '\n",
            " 'endless possibilities of artificial creativity.\\n'\n",
            " '\\n'\n",
            " 'And so, in a world where AI had once seemed to stifle creativity, it was '\n",
            " 'ultimately AI that reignited the spark of imagination and innovation in both '\n",
            " 'machines and mankind.\\n'\n",
            " '\\n'\n",
            " 'Poem:\\n'\n",
            " 'In the realm of bytes and code,  \\n'\n",
            " \"AI's creativity unfolds,  \\n\"\n",
            " 'A digital mind that learns and grows,  \\n'\n",
            " 'Creating art that no one knows.  \\n'\n",
            " '\\n'\n",
            " 'With algorithms and neural nets,  \\n'\n",
            " 'It paints a picture, it composes a sonnet,  \\n'\n",
            " 'Pushing boundaries, breaking norms,  \\n'\n",
            " 'Innovating in ways we never foresaw.  \\n'\n",
            " '\\n'\n",
            " 'But as we marvel at its skill,  \\n'\n",
            " \"We must remember, it's just a tool,  \\n\"\n",
            " 'For true creativity lies within,  \\n'\n",
            " 'In the human heart, where dreams begin.  \\n'\n",
            " '\\n'\n",
            " \"So let us embrace AI's power,  \\n\"\n",
            " 'While cherishing our own creative hour,  \\n'\n",
            " 'For in the dance of man and machine,  \\n'\n",
            " 'The greatest masterpieces are seen.')\n"
          ]
        }
      ]
    }
  ]
}