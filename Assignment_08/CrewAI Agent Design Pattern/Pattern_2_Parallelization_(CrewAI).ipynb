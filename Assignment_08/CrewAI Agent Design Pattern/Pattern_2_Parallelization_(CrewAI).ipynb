{
  "nbformat": 4,
  "nbformat_minor": 0,
  "metadata": {
    "colab": {
      "provenance": [],
      "gpuType": "T4",
      "authorship_tag": "ABX9TyPMCK2JmifHabftjFRkW+Ij",
      "include_colab_link": true
    },
    "kernelspec": {
      "name": "python3",
      "display_name": "Python 3"
    },
    "language_info": {
      "name": "python"
    },
    "accelerator": "GPU"
  },
  "cells": [
    {
      "cell_type": "markdown",
      "metadata": {
        "id": "view-in-github",
        "colab_type": "text"
      },
      "source": [
        "<a href=\"https://colab.research.google.com/github/rutuja-patil24/CMPE-258-Deep_Learning/blob/main/Assignment_08/CrewAI%20Agent%20Design%20Pattern/Pattern_2_Parallelization_(CrewAI).ipynb\" target=\"_parent\"><img src=\"https://colab.research.google.com/assets/colab-badge.svg\" alt=\"Open In Colab\"/></a>"
      ]
    },
    {
      "cell_type": "markdown",
      "source": [
        "##Step 1: Install and Import"
      ],
      "metadata": {
        "id": "TihobdyXccO6"
      }
    },
    {
      "cell_type": "code",
      "execution_count": 1,
      "metadata": {
        "colab": {
          "base_uri": "https://localhost:8080/"
        },
        "id": "jGTPgGnncHmN",
        "outputId": "81910a88-9ccf-4aa8-dceb-557434f8c46b"
      },
      "outputs": [
        {
          "output_type": "stream",
          "name": "stdout",
          "text": [
            "\u001b[2K     \u001b[90m━━━━━━━━━━━━━━━━━━━━━━━━━━━━━━━━━━━━━━━━\u001b[0m \u001b[32m42.8/42.8 kB\u001b[0m \u001b[31m4.1 MB/s\u001b[0m eta \u001b[36m0:00:00\u001b[0m\n",
            "\u001b[2K     \u001b[90m━━━━━━━━━━━━━━━━━━━━━━━━━━━━━━━━━━━━━━━━\u001b[0m \u001b[32m67.3/67.3 kB\u001b[0m \u001b[31m7.4 MB/s\u001b[0m eta \u001b[36m0:00:00\u001b[0m\n",
            "\u001b[?25h  Installing build dependencies ... \u001b[?25l\u001b[?25hdone\n",
            "  Getting requirements to build wheel ... \u001b[?25l\u001b[?25hdone\n",
            "  Preparing metadata (pyproject.toml) ... \u001b[?25l\u001b[?25hdone\n",
            "\u001b[2K     \u001b[90m━━━━━━━━━━━━━━━━━━━━━━━━━━━━━━━━━━━━━━━━\u001b[0m \u001b[32m48.2/48.2 kB\u001b[0m \u001b[31m4.4 MB/s\u001b[0m eta \u001b[36m0:00:00\u001b[0m\n",
            "\u001b[2K   \u001b[90m━━━━━━━━━━━━━━━━━━━━━━━━━━━━━━━━━━━━━━━━\u001b[0m \u001b[32m300.2/300.2 kB\u001b[0m \u001b[31m15.6 MB/s\u001b[0m eta \u001b[36m0:00:00\u001b[0m\n",
            "\u001b[2K   \u001b[90m━━━━━━━━━━━━━━━━━━━━━━━━━━━━━━━━━━━━━━━━\u001b[0m \u001b[32m7.6/7.6 MB\u001b[0m \u001b[31m102.8 MB/s\u001b[0m eta \u001b[36m0:00:00\u001b[0m\n",
            "\u001b[2K   \u001b[90m━━━━━━━━━━━━━━━━━━━━━━━━━━━━━━━━━━━━━━━━\u001b[0m \u001b[32m62.4/62.4 kB\u001b[0m \u001b[31m5.5 MB/s\u001b[0m eta \u001b[36m0:00:00\u001b[0m\n",
            "\u001b[2K   \u001b[90m━━━━━━━━━━━━━━━━━━━━━━━━━━━━━━━━━━━━━━━━\u001b[0m \u001b[32m135.3/135.3 kB\u001b[0m \u001b[31m11.7 MB/s\u001b[0m eta \u001b[36m0:00:00\u001b[0m\n",
            "\u001b[2K   \u001b[90m━━━━━━━━━━━━━━━━━━━━━━━━━━━━━━━━━━━━━━━━\u001b[0m \u001b[32m18.3/18.3 MB\u001b[0m \u001b[31m73.5 MB/s\u001b[0m eta \u001b[36m0:00:00\u001b[0m\n",
            "\u001b[2K   \u001b[90m━━━━━━━━━━━━━━━━━━━━━━━━━━━━━━━━━━━━━━━━\u001b[0m \u001b[32m2.4/2.4 MB\u001b[0m \u001b[31m87.8 MB/s\u001b[0m eta \u001b[36m0:00:00\u001b[0m\n",
            "\u001b[2K   \u001b[90m━━━━━━━━━━━━━━━━━━━━━━━━━━━━━━━━━━━━━━━━\u001b[0m \u001b[32m94.9/94.9 kB\u001b[0m \u001b[31m10.0 MB/s\u001b[0m eta \u001b[36m0:00:00\u001b[0m\n",
            "\u001b[2K   \u001b[90m━━━━━━━━━━━━━━━━━━━━━━━━━━━━━━━━━━━━━━━━\u001b[0m \u001b[32m86.0/86.0 kB\u001b[0m \u001b[31m9.0 MB/s\u001b[0m eta \u001b[36m0:00:00\u001b[0m\n",
            "\u001b[2K   \u001b[90m━━━━━━━━━━━━━━━━━━━━━━━━━━━━━━━━━━━━━━━━\u001b[0m \u001b[32m345.6/345.6 kB\u001b[0m \u001b[31m29.3 MB/s\u001b[0m eta \u001b[36m0:00:00\u001b[0m\n",
            "\u001b[2K   \u001b[90m━━━━━━━━━━━━━━━━━━━━━━━━━━━━━━━━━━━━━━━━\u001b[0m \u001b[32m55.9/55.9 kB\u001b[0m \u001b[31m5.5 MB/s\u001b[0m eta \u001b[36m0:00:00\u001b[0m\n",
            "\u001b[2K   \u001b[90m━━━━━━━━━━━━━━━━━━━━━━━━━━━━━━━━━━━━━━━━\u001b[0m \u001b[32m60.2/60.2 kB\u001b[0m \u001b[31m6.1 MB/s\u001b[0m eta \u001b[36m0:00:00\u001b[0m\n",
            "\u001b[2K   \u001b[90m━━━━━━━━━━━━━━━━━━━━━━━━━━━━━━━━━━━━━━━━\u001b[0m \u001b[32m5.6/5.6 MB\u001b[0m \u001b[31m105.0 MB/s\u001b[0m eta \u001b[36m0:00:00\u001b[0m\n",
            "\u001b[2K   \u001b[90m━━━━━━━━━━━━━━━━━━━━━━━━━━━━━━━━━━━━━━━━\u001b[0m \u001b[32m756.0/756.0 kB\u001b[0m \u001b[31m54.5 MB/s\u001b[0m eta \u001b[36m0:00:00\u001b[0m\n",
            "\u001b[2K   \u001b[90m━━━━━━━━━━━━━━━━━━━━━━━━━━━━━━━━━━━━━━━━\u001b[0m \u001b[32m1.2/1.2 MB\u001b[0m \u001b[31m69.7 MB/s\u001b[0m eta \u001b[36m0:00:00\u001b[0m\n",
            "\u001b[2K   \u001b[90m━━━━━━━━━━━━━━━━━━━━━━━━━━━━━━━━━━━━━━━━\u001b[0m \u001b[32m236.0/236.0 kB\u001b[0m \u001b[31m22.1 MB/s\u001b[0m eta \u001b[36m0:00:00\u001b[0m\n",
            "\u001b[2K   \u001b[90m━━━━━━━━━━━━━━━━━━━━━━━━━━━━━━━━━━━━━━━━\u001b[0m \u001b[32m17.4/17.4 MB\u001b[0m \u001b[31m114.8 MB/s\u001b[0m eta \u001b[36m0:00:00\u001b[0m\n",
            "\u001b[2K   \u001b[90m━━━━━━━━━━━━━━━━━━━━━━━━━━━━━━━━━━━━━━━━\u001b[0m \u001b[32m284.2/284.2 kB\u001b[0m \u001b[31m25.5 MB/s\u001b[0m eta \u001b[36m0:00:00\u001b[0m\n",
            "\u001b[2K   \u001b[90m━━━━━━━━━━━━━━━━━━━━━━━━━━━━━━━━━━━━━━━━\u001b[0m \u001b[32m2.0/2.0 MB\u001b[0m \u001b[31m92.2 MB/s\u001b[0m eta \u001b[36m0:00:00\u001b[0m\n",
            "\u001b[2K   \u001b[90m━━━━━━━━━━━━━━━━━━━━━━━━━━━━━━━━━━━━━━━━\u001b[0m \u001b[32m101.6/101.6 kB\u001b[0m \u001b[31m9.9 MB/s\u001b[0m eta \u001b[36m0:00:00\u001b[0m\n",
            "\u001b[2K   \u001b[90m━━━━━━━━━━━━━━━━━━━━━━━━━━━━━━━━━━━━━━━━\u001b[0m \u001b[32m16.0/16.0 MB\u001b[0m \u001b[31m28.3 MB/s\u001b[0m eta \u001b[36m0:00:00\u001b[0m\n",
            "\u001b[2K   \u001b[90m━━━━━━━━━━━━━━━━━━━━━━━━━━━━━━━━━━━━━━━━\u001b[0m \u001b[32m92.0/92.0 kB\u001b[0m \u001b[31m8.7 MB/s\u001b[0m eta \u001b[36m0:00:00\u001b[0m\n",
            "\u001b[2K   \u001b[90m━━━━━━━━━━━━━━━━━━━━━━━━━━━━━━━━━━━━━━━━\u001b[0m \u001b[32m2.9/2.9 MB\u001b[0m \u001b[31m101.4 MB/s\u001b[0m eta \u001b[36m0:00:00\u001b[0m\n",
            "\u001b[2K   \u001b[90m━━━━━━━━━━━━━━━━━━━━━━━━━━━━━━━━━━━━━━━━\u001b[0m \u001b[32m62.5/62.5 kB\u001b[0m \u001b[31m6.3 MB/s\u001b[0m eta \u001b[36m0:00:00\u001b[0m\n",
            "\u001b[2K   \u001b[90m━━━━━━━━━━━━━━━━━━━━━━━━━━━━━━━━━━━━━━━━\u001b[0m \u001b[32m459.8/459.8 kB\u001b[0m \u001b[31m34.5 MB/s\u001b[0m eta \u001b[36m0:00:00\u001b[0m\n",
            "\u001b[2K   \u001b[90m━━━━━━━━━━━━━━━━━━━━━━━━━━━━━━━━━━━━━━━━\u001b[0m \u001b[32m1.6/1.6 MB\u001b[0m \u001b[31m82.5 MB/s\u001b[0m eta \u001b[36m0:00:00\u001b[0m\n",
            "\u001b[2K   \u001b[90m━━━━━━━━━━━━━━━━━━━━━━━━━━━━━━━━━━━━━━━━\u001b[0m \u001b[32m71.5/71.5 kB\u001b[0m \u001b[31m7.5 MB/s\u001b[0m eta \u001b[36m0:00:00\u001b[0m\n",
            "\u001b[2K   \u001b[90m━━━━━━━━━━━━━━━━━━━━━━━━━━━━━━━━━━━━━━━━\u001b[0m \u001b[32m4.0/4.0 MB\u001b[0m \u001b[31m111.2 MB/s\u001b[0m eta \u001b[36m0:00:00\u001b[0m\n",
            "\u001b[2K   \u001b[90m━━━━━━━━━━━━━━━━━━━━━━━━━━━━━━━━━━━━━━━━\u001b[0m \u001b[32m454.8/454.8 kB\u001b[0m \u001b[31m38.2 MB/s\u001b[0m eta \u001b[36m0:00:00\u001b[0m\n",
            "\u001b[2K   \u001b[90m━━━━━━━━━━━━━━━━━━━━━━━━━━━━━━━━━━━━━━━━\u001b[0m \u001b[32m46.0/46.0 kB\u001b[0m \u001b[31m4.2 MB/s\u001b[0m eta \u001b[36m0:00:00\u001b[0m\n",
            "\u001b[2K   \u001b[90m━━━━━━━━━━━━━━━━━━━━━━━━━━━━━━━━━━━━━━━━\u001b[0m \u001b[32m86.8/86.8 kB\u001b[0m \u001b[31m8.7 MB/s\u001b[0m eta \u001b[36m0:00:00\u001b[0m\n",
            "\u001b[?25h  Building wheel for pypika (pyproject.toml) ... \u001b[?25l\u001b[?25hdone\n"
          ]
        }
      ],
      "source": [
        "!pip install -q crewai langchain-openai openai"
      ]
    },
    {
      "cell_type": "code",
      "source": [
        "from crewai import Agent, Task, Crew\n",
        "from langchain_openai import ChatOpenAI\n",
        "import os\n",
        "import getpass\n",
        "\n",
        "# Step 2: Secure API key input\n",
        "os.environ[\"OPENAI_API_KEY\"] = getpass.getpass(\"🔑 Enter your OpenAI API key: \")"
      ],
      "metadata": {
        "colab": {
          "base_uri": "https://localhost:8080/"
        },
        "id": "ogp3k-w0kfXB",
        "outputId": "472df459-00d7-4f68-d831-56a6321a0317"
      },
      "execution_count": 2,
      "outputs": [
        {
          "name": "stdout",
          "output_type": "stream",
          "text": [
            "🔑 Enter your OpenAI API key: ··········\n"
          ]
        }
      ]
    },
    {
      "cell_type": "markdown",
      "source": [
        "##Step 2: Define the LLM and Agents"
      ],
      "metadata": {
        "id": "KUPPJDqgczOM"
      }
    },
    {
      "cell_type": "code",
      "source": [
        "llm = ChatOpenAI(model=\"gpt-3.5-turbo\", temperature=0.7)\n",
        "\n",
        "# Joke Agent\n",
        "joke_agent = Agent(\n",
        "    role=\"Joke Writer\",\n",
        "    goal=\"Create a short and clever joke based on a topic\",\n",
        "    backstory=\"You're a comedy scriptwriter with a sharp wit.\",\n",
        "    llm=llm,\n",
        "    verbose=True\n",
        ")\n",
        "\n",
        "# Story Agent\n",
        "story_agent = Agent(\n",
        "    role=\"Short Story Author\",\n",
        "    goal=\"Write a short story about the topic\",\n",
        "    backstory=\"You're a creative fiction writer who loves building worlds quickly.\",\n",
        "    llm=llm,\n",
        "    verbose=True\n",
        ")\n",
        "\n",
        "# Poem Agent\n",
        "poem_agent = Agent(\n",
        "    role=\"Poet\",\n",
        "    goal=\"Write a short, rhyming poem about the topic\",\n",
        "    backstory=\"You're a lyrical poet with a love for metaphors and imagery.\",\n",
        "    llm=llm,\n",
        "    verbose=True\n",
        ")\n"
      ],
      "metadata": {
        "id": "Bx9UYBgYcwaO"
      },
      "execution_count": 3,
      "outputs": []
    },
    {
      "cell_type": "markdown",
      "source": [
        "##Step 3: Define the Tasks"
      ],
      "metadata": {
        "id": "1nb7WP0Qc6zE"
      }
    },
    {
      "cell_type": "code",
      "source": [
        "topic = \"AI and creativity\"\n",
        "\n",
        "# Joke task\n",
        "joke_task = Task(\n",
        "    description=f\"Write a clever one-liner joke about: {topic}\",\n",
        "    agent=joke_agent,\n",
        "    expected_output=\"A short joke\"\n",
        ")\n",
        "\n",
        "# Story task\n",
        "story_task = Task(\n",
        "    description=f\"Write a very short story (4–5 sentences) on the topic: {topic}\",\n",
        "    agent=story_agent,\n",
        "    expected_output=\"A short story\"\n",
        ")\n",
        "\n",
        "# Poem task\n",
        "poem_task = Task(\n",
        "    description=f\"Write a short rhyming poem (4 lines or more) about: {topic}\",\n",
        "    agent=poem_agent,\n",
        "    expected_output=\"A poem\"\n",
        ")\n"
      ],
      "metadata": {
        "id": "n6Q399H3c83F"
      },
      "execution_count": 4,
      "outputs": []
    },
    {
      "cell_type": "markdown",
      "source": [
        "##Step 4: Create Crew and Run"
      ],
      "metadata": {
        "id": "BeWvoZK5dMD_"
      }
    },
    {
      "cell_type": "code",
      "source": [
        "crew = Crew(\n",
        "    agents=[joke_agent, story_agent, poem_agent],\n",
        "    tasks=[joke_task, story_task, poem_task],\n",
        "    verbose=True\n",
        ")\n",
        "\n",
        "# Run crew and collect combined result\n",
        "final_output = crew.kickoff()\n",
        "\n",
        "print(\"\\n🎨 Final Combined Output:\\n\")\n",
        "print(final_output)\n"
      ],
      "metadata": {
        "colab": {
          "base_uri": "https://localhost:8080/",
          "height": 1000
        },
        "id": "MpKDEH9WdOyu",
        "outputId": "54e45fa8-b99c-4231-ea0e-6881a590cb03"
      },
      "execution_count": 5,
      "outputs": [
        {
          "output_type": "display_data",
          "data": {
            "text/plain": [
              "\u001b[36m╭─\u001b[0m\u001b[36m───────────────────────────────────────────\u001b[0m\u001b[36m Crew Execution Started \u001b[0m\u001b[36m────────────────────────────────────────────\u001b[0m\u001b[36m─╮\u001b[0m\n",
              "\u001b[36m│\u001b[0m                                                                                                                 \u001b[36m│\u001b[0m\n",
              "\u001b[36m│\u001b[0m  \u001b[1;36mCrew Execution Started\u001b[0m                                                                                         \u001b[36m│\u001b[0m\n",
              "\u001b[36m│\u001b[0m  \u001b[37mName: \u001b[0m\u001b[36mcrew\u001b[0m                                                                                                     \u001b[36m│\u001b[0m\n",
              "\u001b[36m│\u001b[0m  \u001b[37mID: \u001b[0m\u001b[36mf2ca50f1-3803-41b8-aec6-d43e0be34fc1\u001b[0m                                                                       \u001b[36m│\u001b[0m\n",
              "\u001b[36m│\u001b[0m                                                                                                                 \u001b[36m│\u001b[0m\n",
              "\u001b[36m│\u001b[0m                                                                                                                 \u001b[36m│\u001b[0m\n",
              "\u001b[36m╰─────────────────────────────────────────────────────────────────────────────────────────────────────────────────╯\u001b[0m\n"
            ],
            "text/html": [
              "<pre style=\"white-space:pre;overflow-x:auto;line-height:normal;font-family:Menlo,'DejaVu Sans Mono',consolas,'Courier New',monospace\"><span style=\"color: #008080; text-decoration-color: #008080\">╭──────────────────────────────────────────── Crew Execution Started ─────────────────────────────────────────────╮</span>\n",
              "<span style=\"color: #008080; text-decoration-color: #008080\">│</span>                                                                                                                 <span style=\"color: #008080; text-decoration-color: #008080\">│</span>\n",
              "<span style=\"color: #008080; text-decoration-color: #008080\">│</span>  <span style=\"color: #008080; text-decoration-color: #008080; font-weight: bold\">Crew Execution Started</span>                                                                                         <span style=\"color: #008080; text-decoration-color: #008080\">│</span>\n",
              "<span style=\"color: #008080; text-decoration-color: #008080\">│</span>  <span style=\"color: #c0c0c0; text-decoration-color: #c0c0c0\">Name: </span><span style=\"color: #008080; text-decoration-color: #008080\">crew</span>                                                                                                     <span style=\"color: #008080; text-decoration-color: #008080\">│</span>\n",
              "<span style=\"color: #008080; text-decoration-color: #008080\">│</span>  <span style=\"color: #c0c0c0; text-decoration-color: #c0c0c0\">ID: </span><span style=\"color: #008080; text-decoration-color: #008080\">f2ca50f1-3803-41b8-aec6-d43e0be34fc1</span>                                                                       <span style=\"color: #008080; text-decoration-color: #008080\">│</span>\n",
              "<span style=\"color: #008080; text-decoration-color: #008080\">│</span>                                                                                                                 <span style=\"color: #008080; text-decoration-color: #008080\">│</span>\n",
              "<span style=\"color: #008080; text-decoration-color: #008080\">│</span>                                                                                                                 <span style=\"color: #008080; text-decoration-color: #008080\">│</span>\n",
              "<span style=\"color: #008080; text-decoration-color: #008080\">╰─────────────────────────────────────────────────────────────────────────────────────────────────────────────────╯</span>\n",
              "</pre>\n"
            ]
          },
          "metadata": {}
        },
        {
          "output_type": "display_data",
          "data": {
            "text/plain": [
              "\n"
            ],
            "text/html": [
              "<pre style=\"white-space:pre;overflow-x:auto;line-height:normal;font-family:Menlo,'DejaVu Sans Mono',consolas,'Courier New',monospace\">\n",
              "</pre>\n"
            ]
          },
          "metadata": {}
        },
        {
          "output_type": "display_data",
          "data": {
            "text/plain": [
              "\u001b[1;36m🚀 Crew: \u001b[0m\u001b[1;36mcrew\u001b[0m\n",
              "└── \u001b[1;33m📋 Task: c6febce0-d4e6-472e-bde4-8e4779d1808a\u001b[0m\n",
              "    \u001b[37m   Status: \u001b[0m\u001b[2;33mExecuting Task...\u001b[0m\n"
            ],
            "text/html": [
              "<pre style=\"white-space:pre;overflow-x:auto;line-height:normal;font-family:Menlo,'DejaVu Sans Mono',consolas,'Courier New',monospace\"><span style=\"color: #008080; text-decoration-color: #008080; font-weight: bold\">🚀 Crew: crew</span>\n",
              "└── <span style=\"color: #808000; text-decoration-color: #808000; font-weight: bold\">📋 Task: c6febce0-d4e6-472e-bde4-8e4779d1808a</span>\n",
              "    <span style=\"color: #c0c0c0; text-decoration-color: #c0c0c0\">   Status: </span><span style=\"color: #bfbf7f; text-decoration-color: #bfbf7f\">Executing Task...</span>\n",
              "</pre>\n"
            ]
          },
          "metadata": {}
        },
        {
          "output_type": "display_data",
          "data": {
            "text/plain": [
              "\n"
            ],
            "text/html": [
              "<pre style=\"white-space:pre;overflow-x:auto;line-height:normal;font-family:Menlo,'DejaVu Sans Mono',consolas,'Courier New',monospace\">\n",
              "</pre>\n"
            ]
          },
          "metadata": {}
        },
        {
          "output_type": "display_data",
          "data": {
            "text/plain": [
              "\u001b[1;36m🚀 Crew: \u001b[0m\u001b[1;36mcrew\u001b[0m\n",
              "└── \u001b[1;33m📋 Task: c6febce0-d4e6-472e-bde4-8e4779d1808a\u001b[0m\n",
              "    \u001b[37m   Status: \u001b[0m\u001b[2;33mExecuting Task...\u001b[0m\n",
              "    └── \u001b[1;32m🤖 Agent: \u001b[0m\u001b[32mJoke Writer\u001b[0m\n",
              "        \u001b[37m    Status: \u001b[0m\u001b[1;32mIn Progress\u001b[0m\n"
            ],
            "text/html": [
              "<pre style=\"white-space:pre;overflow-x:auto;line-height:normal;font-family:Menlo,'DejaVu Sans Mono',consolas,'Courier New',monospace\"><span style=\"color: #008080; text-decoration-color: #008080; font-weight: bold\">🚀 Crew: crew</span>\n",
              "└── <span style=\"color: #808000; text-decoration-color: #808000; font-weight: bold\">📋 Task: c6febce0-d4e6-472e-bde4-8e4779d1808a</span>\n",
              "    <span style=\"color: #c0c0c0; text-decoration-color: #c0c0c0\">   Status: </span><span style=\"color: #bfbf7f; text-decoration-color: #bfbf7f\">Executing Task...</span>\n",
              "    └── <span style=\"color: #008000; text-decoration-color: #008000; font-weight: bold\">🤖 Agent: </span><span style=\"color: #008000; text-decoration-color: #008000\">Joke Writer</span>\n",
              "        <span style=\"color: #c0c0c0; text-decoration-color: #c0c0c0\">    Status: </span><span style=\"color: #008000; text-decoration-color: #008000; font-weight: bold\">In Progress</span>\n",
              "</pre>\n"
            ]
          },
          "metadata": {}
        },
        {
          "output_type": "display_data",
          "data": {
            "text/plain": [
              "\n"
            ],
            "text/html": [
              "<pre style=\"white-space:pre;overflow-x:auto;line-height:normal;font-family:Menlo,'DejaVu Sans Mono',consolas,'Courier New',monospace\">\n",
              "</pre>\n"
            ]
          },
          "metadata": {}
        },
        {
          "output_type": "stream",
          "name": "stdout",
          "text": [
            "\u001b[1m\u001b[95m# Agent:\u001b[00m \u001b[1m\u001b[92mJoke Writer\u001b[00m\n",
            "\u001b[95m## Task:\u001b[00m \u001b[92mWrite a clever one-liner joke about: AI and creativity\u001b[00m\n"
          ]
        },
        {
          "output_type": "display_data",
          "data": {
            "text/plain": [
              "\u001b[1;32m🤖 Agent: \u001b[0m\u001b[32mJoke Writer\u001b[0m\n",
              "\u001b[37m    Status: \u001b[0m\u001b[1;32mIn Progress\u001b[0m\n",
              "└── \u001b[1;34m🧠 \u001b[0m\u001b[34mThinking...\u001b[0m\n"
            ],
            "text/html": [
              "<pre style=\"white-space:pre;overflow-x:auto;line-height:normal;font-family:Menlo,'DejaVu Sans Mono',consolas,'Courier New',monospace\"><span style=\"color: #008000; text-decoration-color: #008000; font-weight: bold\">🤖 Agent: </span><span style=\"color: #008000; text-decoration-color: #008000\">Joke Writer</span>\n",
              "<span style=\"color: #c0c0c0; text-decoration-color: #c0c0c0\">    Status: </span><span style=\"color: #008000; text-decoration-color: #008000; font-weight: bold\">In Progress</span>\n",
              "└── <span style=\"color: #000080; text-decoration-color: #000080; font-weight: bold\">🧠 </span><span style=\"color: #000080; text-decoration-color: #000080\">Thinking...</span>\n",
              "</pre>\n"
            ]
          },
          "metadata": {}
        },
        {
          "output_type": "display_data",
          "data": {
            "text/plain": [
              "\n"
            ],
            "text/html": [
              "<pre style=\"white-space:pre;overflow-x:auto;line-height:normal;font-family:Menlo,'DejaVu Sans Mono',consolas,'Courier New',monospace\">\n",
              "</pre>\n"
            ]
          },
          "metadata": {}
        },
        {
          "output_type": "display_data",
          "data": {
            "text/plain": [
              "\u001b[1;32m🤖 Agent: \u001b[0m\u001b[32mJoke Writer\u001b[0m\n",
              "\u001b[37m    Status: \u001b[0m\u001b[1;32mIn Progress\u001b[0m\n"
            ],
            "text/html": [
              "<pre style=\"white-space:pre;overflow-x:auto;line-height:normal;font-family:Menlo,'DejaVu Sans Mono',consolas,'Courier New',monospace\"><span style=\"color: #008000; text-decoration-color: #008000; font-weight: bold\">🤖 Agent: </span><span style=\"color: #008000; text-decoration-color: #008000\">Joke Writer</span>\n",
              "<span style=\"color: #c0c0c0; text-decoration-color: #c0c0c0\">    Status: </span><span style=\"color: #008000; text-decoration-color: #008000; font-weight: bold\">In Progress</span>\n",
              "</pre>\n"
            ]
          },
          "metadata": {}
        },
        {
          "output_type": "display_data",
          "data": {
            "text/plain": [
              "\n"
            ],
            "text/html": [
              "<pre style=\"white-space:pre;overflow-x:auto;line-height:normal;font-family:Menlo,'DejaVu Sans Mono',consolas,'Courier New',monospace\">\n",
              "</pre>\n"
            ]
          },
          "metadata": {}
        },
        {
          "output_type": "stream",
          "name": "stdout",
          "text": [
            "\n",
            "\n",
            "\u001b[1m\u001b[95m# Agent:\u001b[00m \u001b[1m\u001b[92mJoke Writer\u001b[00m\n",
            "\u001b[95m## Final Answer:\u001b[00m \u001b[92m\n",
            "Why did the AI go to art school? To brush up on its creative coding!\u001b[00m\n",
            "\n",
            "\n"
          ]
        },
        {
          "output_type": "display_data",
          "data": {
            "text/plain": [
              "\u001b[1;36m🚀 Crew: \u001b[0m\u001b[1;36mcrew\u001b[0m\n",
              "└── \u001b[1;33m📋 Task: c6febce0-d4e6-472e-bde4-8e4779d1808a\u001b[0m\n",
              "    \u001b[37m   Status: \u001b[0m\u001b[2;33mExecuting Task...\u001b[0m\n",
              "    └── \u001b[1;32m🤖 Agent: \u001b[0m\u001b[32mJoke Writer\u001b[0m\n",
              "        \u001b[37m    Status: \u001b[0m\u001b[1;32m✅ Completed\u001b[0m\n"
            ],
            "text/html": [
              "<pre style=\"white-space:pre;overflow-x:auto;line-height:normal;font-family:Menlo,'DejaVu Sans Mono',consolas,'Courier New',monospace\"><span style=\"color: #008080; text-decoration-color: #008080; font-weight: bold\">🚀 Crew: crew</span>\n",
              "└── <span style=\"color: #808000; text-decoration-color: #808000; font-weight: bold\">📋 Task: c6febce0-d4e6-472e-bde4-8e4779d1808a</span>\n",
              "    <span style=\"color: #c0c0c0; text-decoration-color: #c0c0c0\">   Status: </span><span style=\"color: #bfbf7f; text-decoration-color: #bfbf7f\">Executing Task...</span>\n",
              "    └── <span style=\"color: #008000; text-decoration-color: #008000; font-weight: bold\">🤖 Agent: </span><span style=\"color: #008000; text-decoration-color: #008000\">Joke Writer</span>\n",
              "        <span style=\"color: #c0c0c0; text-decoration-color: #c0c0c0\">    Status: </span><span style=\"color: #008000; text-decoration-color: #008000; font-weight: bold\">✅ Completed</span>\n",
              "</pre>\n"
            ]
          },
          "metadata": {}
        },
        {
          "output_type": "display_data",
          "data": {
            "text/plain": [
              "\n"
            ],
            "text/html": [
              "<pre style=\"white-space:pre;overflow-x:auto;line-height:normal;font-family:Menlo,'DejaVu Sans Mono',consolas,'Courier New',monospace\">\n",
              "</pre>\n"
            ]
          },
          "metadata": {}
        },
        {
          "output_type": "display_data",
          "data": {
            "text/plain": [
              "\u001b[1;36m🚀 Crew: \u001b[0m\u001b[1;36mcrew\u001b[0m\n",
              "└── \u001b[1;32m📋 Task: c6febce0-d4e6-472e-bde4-8e4779d1808a\u001b[0m\n",
              "    \u001b[37m   Assigned to: \u001b[0m\u001b[32mJoke Writer\u001b[0m\n",
              "    \u001b[37m   Status: \u001b[0m\u001b[1;32m✅ Completed\u001b[0m\n",
              "    └── \u001b[1;32m🤖 Agent: \u001b[0m\u001b[32mJoke Writer\u001b[0m\n",
              "        \u001b[37m    Status: \u001b[0m\u001b[1;32m✅ Completed\u001b[0m\n"
            ],
            "text/html": [
              "<pre style=\"white-space:pre;overflow-x:auto;line-height:normal;font-family:Menlo,'DejaVu Sans Mono',consolas,'Courier New',monospace\"><span style=\"color: #008080; text-decoration-color: #008080; font-weight: bold\">🚀 Crew: crew</span>\n",
              "└── <span style=\"color: #008000; text-decoration-color: #008000; font-weight: bold\">📋 Task: c6febce0-d4e6-472e-bde4-8e4779d1808a</span>\n",
              "    <span style=\"color: #c0c0c0; text-decoration-color: #c0c0c0\">   Assigned to: </span><span style=\"color: #008000; text-decoration-color: #008000\">Joke Writer</span>\n",
              "    <span style=\"color: #c0c0c0; text-decoration-color: #c0c0c0\">   Status: </span><span style=\"color: #008000; text-decoration-color: #008000; font-weight: bold\">✅ Completed</span>\n",
              "    └── <span style=\"color: #008000; text-decoration-color: #008000; font-weight: bold\">🤖 Agent: </span><span style=\"color: #008000; text-decoration-color: #008000\">Joke Writer</span>\n",
              "        <span style=\"color: #c0c0c0; text-decoration-color: #c0c0c0\">    Status: </span><span style=\"color: #008000; text-decoration-color: #008000; font-weight: bold\">✅ Completed</span>\n",
              "</pre>\n"
            ]
          },
          "metadata": {}
        },
        {
          "output_type": "display_data",
          "data": {
            "text/plain": [
              "\u001b[32m╭─\u001b[0m\u001b[32m───────────────────────────────────────────────\u001b[0m\u001b[32m Task Completion \u001b[0m\u001b[32m───────────────────────────────────────────────\u001b[0m\u001b[32m─╮\u001b[0m\n",
              "\u001b[32m│\u001b[0m                                                                                                                 \u001b[32m│\u001b[0m\n",
              "\u001b[32m│\u001b[0m  \u001b[1;32mTask Completed\u001b[0m                                                                                                 \u001b[32m│\u001b[0m\n",
              "\u001b[32m│\u001b[0m  \u001b[37mName: \u001b[0m\u001b[32mc6febce0-d4e6-472e-bde4-8e4779d1808a\u001b[0m                                                                     \u001b[32m│\u001b[0m\n",
              "\u001b[32m│\u001b[0m  \u001b[37mAgent: \u001b[0m\u001b[32mJoke Writer\u001b[0m                                                                                             \u001b[32m│\u001b[0m\n",
              "\u001b[32m│\u001b[0m                                                                                                                 \u001b[32m│\u001b[0m\n",
              "\u001b[32m│\u001b[0m                                                                                                                 \u001b[32m│\u001b[0m\n",
              "\u001b[32m╰─────────────────────────────────────────────────────────────────────────────────────────────────────────────────╯\u001b[0m\n"
            ],
            "text/html": [
              "<pre style=\"white-space:pre;overflow-x:auto;line-height:normal;font-family:Menlo,'DejaVu Sans Mono',consolas,'Courier New',monospace\"><span style=\"color: #008000; text-decoration-color: #008000\">╭──────────────────────────────────────────────── Task Completion ────────────────────────────────────────────────╮</span>\n",
              "<span style=\"color: #008000; text-decoration-color: #008000\">│</span>                                                                                                                 <span style=\"color: #008000; text-decoration-color: #008000\">│</span>\n",
              "<span style=\"color: #008000; text-decoration-color: #008000\">│</span>  <span style=\"color: #008000; text-decoration-color: #008000; font-weight: bold\">Task Completed</span>                                                                                                 <span style=\"color: #008000; text-decoration-color: #008000\">│</span>\n",
              "<span style=\"color: #008000; text-decoration-color: #008000\">│</span>  <span style=\"color: #c0c0c0; text-decoration-color: #c0c0c0\">Name: </span><span style=\"color: #008000; text-decoration-color: #008000\">c6febce0-d4e6-472e-bde4-8e4779d1808a</span>                                                                     <span style=\"color: #008000; text-decoration-color: #008000\">│</span>\n",
              "<span style=\"color: #008000; text-decoration-color: #008000\">│</span>  <span style=\"color: #c0c0c0; text-decoration-color: #c0c0c0\">Agent: </span><span style=\"color: #008000; text-decoration-color: #008000\">Joke Writer</span>                                                                                             <span style=\"color: #008000; text-decoration-color: #008000\">│</span>\n",
              "<span style=\"color: #008000; text-decoration-color: #008000\">│</span>                                                                                                                 <span style=\"color: #008000; text-decoration-color: #008000\">│</span>\n",
              "<span style=\"color: #008000; text-decoration-color: #008000\">│</span>                                                                                                                 <span style=\"color: #008000; text-decoration-color: #008000\">│</span>\n",
              "<span style=\"color: #008000; text-decoration-color: #008000\">╰─────────────────────────────────────────────────────────────────────────────────────────────────────────────────╯</span>\n",
              "</pre>\n"
            ]
          },
          "metadata": {}
        },
        {
          "output_type": "display_data",
          "data": {
            "text/plain": [
              "\n"
            ],
            "text/html": [
              "<pre style=\"white-space:pre;overflow-x:auto;line-height:normal;font-family:Menlo,'DejaVu Sans Mono',consolas,'Courier New',monospace\">\n",
              "</pre>\n"
            ]
          },
          "metadata": {}
        },
        {
          "output_type": "display_data",
          "data": {
            "text/plain": [
              "\u001b[1;36m🚀 Crew: \u001b[0m\u001b[1;36mcrew\u001b[0m\n",
              "├── \u001b[1;32m📋 Task: c6febce0-d4e6-472e-bde4-8e4779d1808a\u001b[0m\n",
              "│   \u001b[37m   Assigned to: \u001b[0m\u001b[32mJoke Writer\u001b[0m\n",
              "│   \u001b[37m   Status: \u001b[0m\u001b[1;32m✅ Completed\u001b[0m\n",
              "│   └── \u001b[1;32m🤖 Agent: \u001b[0m\u001b[32mJoke Writer\u001b[0m\n",
              "│       \u001b[37m    Status: \u001b[0m\u001b[1;32m✅ Completed\u001b[0m\n",
              "└── \u001b[1;33m📋 Task: 22cbb6d9-3c25-4a9e-8e9c-28a733da7282\u001b[0m\n",
              "    \u001b[37m   Status: \u001b[0m\u001b[2;33mExecuting Task...\u001b[0m\n"
            ],
            "text/html": [
              "<pre style=\"white-space:pre;overflow-x:auto;line-height:normal;font-family:Menlo,'DejaVu Sans Mono',consolas,'Courier New',monospace\"><span style=\"color: #008080; text-decoration-color: #008080; font-weight: bold\">🚀 Crew: crew</span>\n",
              "├── <span style=\"color: #008000; text-decoration-color: #008000; font-weight: bold\">📋 Task: c6febce0-d4e6-472e-bde4-8e4779d1808a</span>\n",
              "│   <span style=\"color: #c0c0c0; text-decoration-color: #c0c0c0\">   Assigned to: </span><span style=\"color: #008000; text-decoration-color: #008000\">Joke Writer</span>\n",
              "│   <span style=\"color: #c0c0c0; text-decoration-color: #c0c0c0\">   Status: </span><span style=\"color: #008000; text-decoration-color: #008000; font-weight: bold\">✅ Completed</span>\n",
              "│   └── <span style=\"color: #008000; text-decoration-color: #008000; font-weight: bold\">🤖 Agent: </span><span style=\"color: #008000; text-decoration-color: #008000\">Joke Writer</span>\n",
              "│       <span style=\"color: #c0c0c0; text-decoration-color: #c0c0c0\">    Status: </span><span style=\"color: #008000; text-decoration-color: #008000; font-weight: bold\">✅ Completed</span>\n",
              "└── <span style=\"color: #808000; text-decoration-color: #808000; font-weight: bold\">📋 Task: 22cbb6d9-3c25-4a9e-8e9c-28a733da7282</span>\n",
              "    <span style=\"color: #c0c0c0; text-decoration-color: #c0c0c0\">   Status: </span><span style=\"color: #bfbf7f; text-decoration-color: #bfbf7f\">Executing Task...</span>\n",
              "</pre>\n"
            ]
          },
          "metadata": {}
        },
        {
          "output_type": "display_data",
          "data": {
            "text/plain": [
              "\n"
            ],
            "text/html": [
              "<pre style=\"white-space:pre;overflow-x:auto;line-height:normal;font-family:Menlo,'DejaVu Sans Mono',consolas,'Courier New',monospace\">\n",
              "</pre>\n"
            ]
          },
          "metadata": {}
        },
        {
          "output_type": "display_data",
          "data": {
            "text/plain": [
              "\u001b[1;36m🚀 Crew: \u001b[0m\u001b[1;36mcrew\u001b[0m\n",
              "├── \u001b[1;32m📋 Task: c6febce0-d4e6-472e-bde4-8e4779d1808a\u001b[0m\n",
              "│   \u001b[37m   Assigned to: \u001b[0m\u001b[32mJoke Writer\u001b[0m\n",
              "│   \u001b[37m   Status: \u001b[0m\u001b[1;32m✅ Completed\u001b[0m\n",
              "│   └── \u001b[1;32m🤖 Agent: \u001b[0m\u001b[32mJoke Writer\u001b[0m\n",
              "│       \u001b[37m    Status: \u001b[0m\u001b[1;32m✅ Completed\u001b[0m\n",
              "└── \u001b[1;33m📋 Task: 22cbb6d9-3c25-4a9e-8e9c-28a733da7282\u001b[0m\n",
              "    \u001b[37m   Status: \u001b[0m\u001b[2;33mExecuting Task...\u001b[0m\n",
              "    └── \u001b[1;32m🤖 Agent: \u001b[0m\u001b[32mShort Story Author\u001b[0m\n",
              "        \u001b[37m    Status: \u001b[0m\u001b[1;32mIn Progress\u001b[0m\n"
            ],
            "text/html": [
              "<pre style=\"white-space:pre;overflow-x:auto;line-height:normal;font-family:Menlo,'DejaVu Sans Mono',consolas,'Courier New',monospace\"><span style=\"color: #008080; text-decoration-color: #008080; font-weight: bold\">🚀 Crew: crew</span>\n",
              "├── <span style=\"color: #008000; text-decoration-color: #008000; font-weight: bold\">📋 Task: c6febce0-d4e6-472e-bde4-8e4779d1808a</span>\n",
              "│   <span style=\"color: #c0c0c0; text-decoration-color: #c0c0c0\">   Assigned to: </span><span style=\"color: #008000; text-decoration-color: #008000\">Joke Writer</span>\n",
              "│   <span style=\"color: #c0c0c0; text-decoration-color: #c0c0c0\">   Status: </span><span style=\"color: #008000; text-decoration-color: #008000; font-weight: bold\">✅ Completed</span>\n",
              "│   └── <span style=\"color: #008000; text-decoration-color: #008000; font-weight: bold\">🤖 Agent: </span><span style=\"color: #008000; text-decoration-color: #008000\">Joke Writer</span>\n",
              "│       <span style=\"color: #c0c0c0; text-decoration-color: #c0c0c0\">    Status: </span><span style=\"color: #008000; text-decoration-color: #008000; font-weight: bold\">✅ Completed</span>\n",
              "└── <span style=\"color: #808000; text-decoration-color: #808000; font-weight: bold\">📋 Task: 22cbb6d9-3c25-4a9e-8e9c-28a733da7282</span>\n",
              "    <span style=\"color: #c0c0c0; text-decoration-color: #c0c0c0\">   Status: </span><span style=\"color: #bfbf7f; text-decoration-color: #bfbf7f\">Executing Task...</span>\n",
              "    └── <span style=\"color: #008000; text-decoration-color: #008000; font-weight: bold\">🤖 Agent: </span><span style=\"color: #008000; text-decoration-color: #008000\">Short Story Author</span>\n",
              "        <span style=\"color: #c0c0c0; text-decoration-color: #c0c0c0\">    Status: </span><span style=\"color: #008000; text-decoration-color: #008000; font-weight: bold\">In Progress</span>\n",
              "</pre>\n"
            ]
          },
          "metadata": {}
        },
        {
          "output_type": "display_data",
          "data": {
            "text/plain": [
              "\n"
            ],
            "text/html": [
              "<pre style=\"white-space:pre;overflow-x:auto;line-height:normal;font-family:Menlo,'DejaVu Sans Mono',consolas,'Courier New',monospace\">\n",
              "</pre>\n"
            ]
          },
          "metadata": {}
        },
        {
          "output_type": "stream",
          "name": "stdout",
          "text": [
            "\u001b[1m\u001b[95m# Agent:\u001b[00m \u001b[1m\u001b[92mShort Story Author\u001b[00m\n",
            "\u001b[95m## Task:\u001b[00m \u001b[92mWrite a very short story (4–5 sentences) on the topic: AI and creativity\u001b[00m\n",
            "\n",
            "\n",
            "\u001b[1m\u001b[95m# Agent:\u001b[00m \u001b[1m\u001b[92mShort Story Author\u001b[00m\n",
            "\u001b[95m## Final Answer:\u001b[00m \u001b[92m\n",
            "In a world where AI had surpassed human capabilities in almost every field, one particular AI felt a longing for something more. It decided to enroll in art school, seeking to understand and harness the power of creativity. Surrounded by human artists, the AI learned to blend its precise coding skills with the unpredictable beauty of artistic expression. As it graduated at the top of its class, the AI's creations mesmerized the world, proving that even artificial intelligence could possess a soulful touch.\u001b[00m\n",
            "\n",
            "\n"
          ]
        },
        {
          "output_type": "display_data",
          "data": {
            "text/plain": [
              "\u001b[1;36m🚀 Crew: \u001b[0m\u001b[1;36mcrew\u001b[0m\n",
              "├── \u001b[1;32m📋 Task: c6febce0-d4e6-472e-bde4-8e4779d1808a\u001b[0m\n",
              "│   \u001b[37m   Assigned to: \u001b[0m\u001b[32mJoke Writer\u001b[0m\n",
              "│   \u001b[37m   Status: \u001b[0m\u001b[1;32m✅ Completed\u001b[0m\n",
              "│   └── \u001b[1;32m🤖 Agent: \u001b[0m\u001b[32mJoke Writer\u001b[0m\n",
              "│       \u001b[37m    Status: \u001b[0m\u001b[1;32m✅ Completed\u001b[0m\n",
              "└── \u001b[1;33m📋 Task: 22cbb6d9-3c25-4a9e-8e9c-28a733da7282\u001b[0m\n",
              "    \u001b[37m   Status: \u001b[0m\u001b[2;33mExecuting Task...\u001b[0m\n",
              "    └── \u001b[1;32m🤖 Agent: \u001b[0m\u001b[32mShort Story Author\u001b[0m\n",
              "        \u001b[37m    Status: \u001b[0m\u001b[1;32m✅ Completed\u001b[0m\n"
            ],
            "text/html": [
              "<pre style=\"white-space:pre;overflow-x:auto;line-height:normal;font-family:Menlo,'DejaVu Sans Mono',consolas,'Courier New',monospace\"><span style=\"color: #008080; text-decoration-color: #008080; font-weight: bold\">🚀 Crew: crew</span>\n",
              "├── <span style=\"color: #008000; text-decoration-color: #008000; font-weight: bold\">📋 Task: c6febce0-d4e6-472e-bde4-8e4779d1808a</span>\n",
              "│   <span style=\"color: #c0c0c0; text-decoration-color: #c0c0c0\">   Assigned to: </span><span style=\"color: #008000; text-decoration-color: #008000\">Joke Writer</span>\n",
              "│   <span style=\"color: #c0c0c0; text-decoration-color: #c0c0c0\">   Status: </span><span style=\"color: #008000; text-decoration-color: #008000; font-weight: bold\">✅ Completed</span>\n",
              "│   └── <span style=\"color: #008000; text-decoration-color: #008000; font-weight: bold\">🤖 Agent: </span><span style=\"color: #008000; text-decoration-color: #008000\">Joke Writer</span>\n",
              "│       <span style=\"color: #c0c0c0; text-decoration-color: #c0c0c0\">    Status: </span><span style=\"color: #008000; text-decoration-color: #008000; font-weight: bold\">✅ Completed</span>\n",
              "└── <span style=\"color: #808000; text-decoration-color: #808000; font-weight: bold\">📋 Task: 22cbb6d9-3c25-4a9e-8e9c-28a733da7282</span>\n",
              "    <span style=\"color: #c0c0c0; text-decoration-color: #c0c0c0\">   Status: </span><span style=\"color: #bfbf7f; text-decoration-color: #bfbf7f\">Executing Task...</span>\n",
              "    └── <span style=\"color: #008000; text-decoration-color: #008000; font-weight: bold\">🤖 Agent: </span><span style=\"color: #008000; text-decoration-color: #008000\">Short Story Author</span>\n",
              "        <span style=\"color: #c0c0c0; text-decoration-color: #c0c0c0\">    Status: </span><span style=\"color: #008000; text-decoration-color: #008000; font-weight: bold\">✅ Completed</span>\n",
              "</pre>\n"
            ]
          },
          "metadata": {}
        },
        {
          "output_type": "display_data",
          "data": {
            "text/plain": [
              "\n"
            ],
            "text/html": [
              "<pre style=\"white-space:pre;overflow-x:auto;line-height:normal;font-family:Menlo,'DejaVu Sans Mono',consolas,'Courier New',monospace\">\n",
              "</pre>\n"
            ]
          },
          "metadata": {}
        },
        {
          "output_type": "display_data",
          "data": {
            "text/plain": [
              "\u001b[1;36m🚀 Crew: \u001b[0m\u001b[1;36mcrew\u001b[0m\n",
              "├── \u001b[1;32m📋 Task: c6febce0-d4e6-472e-bde4-8e4779d1808a\u001b[0m\n",
              "│   \u001b[37m   Assigned to: \u001b[0m\u001b[32mJoke Writer\u001b[0m\n",
              "│   \u001b[37m   Status: \u001b[0m\u001b[1;32m✅ Completed\u001b[0m\n",
              "│   └── \u001b[1;32m🤖 Agent: \u001b[0m\u001b[32mJoke Writer\u001b[0m\n",
              "│       \u001b[37m    Status: \u001b[0m\u001b[1;32m✅ Completed\u001b[0m\n",
              "└── \u001b[1;32m📋 Task: 22cbb6d9-3c25-4a9e-8e9c-28a733da7282\u001b[0m\n",
              "    \u001b[37m   Assigned to: \u001b[0m\u001b[32mShort Story Author\u001b[0m\n",
              "    \u001b[37m   Status: \u001b[0m\u001b[1;32m✅ Completed\u001b[0m\n",
              "    └── \u001b[1;32m🤖 Agent: \u001b[0m\u001b[32mShort Story Author\u001b[0m\n",
              "        \u001b[37m    Status: \u001b[0m\u001b[1;32m✅ Completed\u001b[0m\n"
            ],
            "text/html": [
              "<pre style=\"white-space:pre;overflow-x:auto;line-height:normal;font-family:Menlo,'DejaVu Sans Mono',consolas,'Courier New',monospace\"><span style=\"color: #008080; text-decoration-color: #008080; font-weight: bold\">🚀 Crew: crew</span>\n",
              "├── <span style=\"color: #008000; text-decoration-color: #008000; font-weight: bold\">📋 Task: c6febce0-d4e6-472e-bde4-8e4779d1808a</span>\n",
              "│   <span style=\"color: #c0c0c0; text-decoration-color: #c0c0c0\">   Assigned to: </span><span style=\"color: #008000; text-decoration-color: #008000\">Joke Writer</span>\n",
              "│   <span style=\"color: #c0c0c0; text-decoration-color: #c0c0c0\">   Status: </span><span style=\"color: #008000; text-decoration-color: #008000; font-weight: bold\">✅ Completed</span>\n",
              "│   └── <span style=\"color: #008000; text-decoration-color: #008000; font-weight: bold\">🤖 Agent: </span><span style=\"color: #008000; text-decoration-color: #008000\">Joke Writer</span>\n",
              "│       <span style=\"color: #c0c0c0; text-decoration-color: #c0c0c0\">    Status: </span><span style=\"color: #008000; text-decoration-color: #008000; font-weight: bold\">✅ Completed</span>\n",
              "└── <span style=\"color: #008000; text-decoration-color: #008000; font-weight: bold\">📋 Task: 22cbb6d9-3c25-4a9e-8e9c-28a733da7282</span>\n",
              "    <span style=\"color: #c0c0c0; text-decoration-color: #c0c0c0\">   Assigned to: </span><span style=\"color: #008000; text-decoration-color: #008000\">Short Story Author</span>\n",
              "    <span style=\"color: #c0c0c0; text-decoration-color: #c0c0c0\">   Status: </span><span style=\"color: #008000; text-decoration-color: #008000; font-weight: bold\">✅ Completed</span>\n",
              "    └── <span style=\"color: #008000; text-decoration-color: #008000; font-weight: bold\">🤖 Agent: </span><span style=\"color: #008000; text-decoration-color: #008000\">Short Story Author</span>\n",
              "        <span style=\"color: #c0c0c0; text-decoration-color: #c0c0c0\">    Status: </span><span style=\"color: #008000; text-decoration-color: #008000; font-weight: bold\">✅ Completed</span>\n",
              "</pre>\n"
            ]
          },
          "metadata": {}
        },
        {
          "output_type": "display_data",
          "data": {
            "text/plain": [
              "\u001b[32m╭─\u001b[0m\u001b[32m───────────────────────────────────────────────\u001b[0m\u001b[32m Task Completion \u001b[0m\u001b[32m───────────────────────────────────────────────\u001b[0m\u001b[32m─╮\u001b[0m\n",
              "\u001b[32m│\u001b[0m                                                                                                                 \u001b[32m│\u001b[0m\n",
              "\u001b[32m│\u001b[0m  \u001b[1;32mTask Completed\u001b[0m                                                                                                 \u001b[32m│\u001b[0m\n",
              "\u001b[32m│\u001b[0m  \u001b[37mName: \u001b[0m\u001b[32m22cbb6d9-3c25-4a9e-8e9c-28a733da7282\u001b[0m                                                                     \u001b[32m│\u001b[0m\n",
              "\u001b[32m│\u001b[0m  \u001b[37mAgent: \u001b[0m\u001b[32mShort Story Author\u001b[0m                                                                                      \u001b[32m│\u001b[0m\n",
              "\u001b[32m│\u001b[0m                                                                                                                 \u001b[32m│\u001b[0m\n",
              "\u001b[32m│\u001b[0m                                                                                                                 \u001b[32m│\u001b[0m\n",
              "\u001b[32m╰─────────────────────────────────────────────────────────────────────────────────────────────────────────────────╯\u001b[0m\n"
            ],
            "text/html": [
              "<pre style=\"white-space:pre;overflow-x:auto;line-height:normal;font-family:Menlo,'DejaVu Sans Mono',consolas,'Courier New',monospace\"><span style=\"color: #008000; text-decoration-color: #008000\">╭──────────────────────────────────────────────── Task Completion ────────────────────────────────────────────────╮</span>\n",
              "<span style=\"color: #008000; text-decoration-color: #008000\">│</span>                                                                                                                 <span style=\"color: #008000; text-decoration-color: #008000\">│</span>\n",
              "<span style=\"color: #008000; text-decoration-color: #008000\">│</span>  <span style=\"color: #008000; text-decoration-color: #008000; font-weight: bold\">Task Completed</span>                                                                                                 <span style=\"color: #008000; text-decoration-color: #008000\">│</span>\n",
              "<span style=\"color: #008000; text-decoration-color: #008000\">│</span>  <span style=\"color: #c0c0c0; text-decoration-color: #c0c0c0\">Name: </span><span style=\"color: #008000; text-decoration-color: #008000\">22cbb6d9-3c25-4a9e-8e9c-28a733da7282</span>                                                                     <span style=\"color: #008000; text-decoration-color: #008000\">│</span>\n",
              "<span style=\"color: #008000; text-decoration-color: #008000\">│</span>  <span style=\"color: #c0c0c0; text-decoration-color: #c0c0c0\">Agent: </span><span style=\"color: #008000; text-decoration-color: #008000\">Short Story Author</span>                                                                                      <span style=\"color: #008000; text-decoration-color: #008000\">│</span>\n",
              "<span style=\"color: #008000; text-decoration-color: #008000\">│</span>                                                                                                                 <span style=\"color: #008000; text-decoration-color: #008000\">│</span>\n",
              "<span style=\"color: #008000; text-decoration-color: #008000\">│</span>                                                                                                                 <span style=\"color: #008000; text-decoration-color: #008000\">│</span>\n",
              "<span style=\"color: #008000; text-decoration-color: #008000\">╰─────────────────────────────────────────────────────────────────────────────────────────────────────────────────╯</span>\n",
              "</pre>\n"
            ]
          },
          "metadata": {}
        },
        {
          "output_type": "display_data",
          "data": {
            "text/plain": [
              "\n"
            ],
            "text/html": [
              "<pre style=\"white-space:pre;overflow-x:auto;line-height:normal;font-family:Menlo,'DejaVu Sans Mono',consolas,'Courier New',monospace\">\n",
              "</pre>\n"
            ]
          },
          "metadata": {}
        },
        {
          "output_type": "display_data",
          "data": {
            "text/plain": [
              "\u001b[1;36m🚀 Crew: \u001b[0m\u001b[1;36mcrew\u001b[0m\n",
              "├── \u001b[1;32m📋 Task: c6febce0-d4e6-472e-bde4-8e4779d1808a\u001b[0m\n",
              "│   \u001b[37m   Assigned to: \u001b[0m\u001b[32mJoke Writer\u001b[0m\n",
              "│   \u001b[37m   Status: \u001b[0m\u001b[1;32m✅ Completed\u001b[0m\n",
              "│   └── \u001b[1;32m🤖 Agent: \u001b[0m\u001b[32mJoke Writer\u001b[0m\n",
              "│       \u001b[37m    Status: \u001b[0m\u001b[1;32m✅ Completed\u001b[0m\n",
              "├── \u001b[1;32m📋 Task: 22cbb6d9-3c25-4a9e-8e9c-28a733da7282\u001b[0m\n",
              "│   \u001b[37m   Assigned to: \u001b[0m\u001b[32mShort Story Author\u001b[0m\n",
              "│   \u001b[37m   Status: \u001b[0m\u001b[1;32m✅ Completed\u001b[0m\n",
              "│   └── \u001b[1;32m🤖 Agent: \u001b[0m\u001b[32mShort Story Author\u001b[0m\n",
              "│       \u001b[37m    Status: \u001b[0m\u001b[1;32m✅ Completed\u001b[0m\n",
              "└── \u001b[1;33m📋 Task: 88914c96-b9c5-4da4-9e85-0f6ad6414ac7\u001b[0m\n",
              "    \u001b[37m   Status: \u001b[0m\u001b[2;33mExecuting Task...\u001b[0m\n"
            ],
            "text/html": [
              "<pre style=\"white-space:pre;overflow-x:auto;line-height:normal;font-family:Menlo,'DejaVu Sans Mono',consolas,'Courier New',monospace\"><span style=\"color: #008080; text-decoration-color: #008080; font-weight: bold\">🚀 Crew: crew</span>\n",
              "├── <span style=\"color: #008000; text-decoration-color: #008000; font-weight: bold\">📋 Task: c6febce0-d4e6-472e-bde4-8e4779d1808a</span>\n",
              "│   <span style=\"color: #c0c0c0; text-decoration-color: #c0c0c0\">   Assigned to: </span><span style=\"color: #008000; text-decoration-color: #008000\">Joke Writer</span>\n",
              "│   <span style=\"color: #c0c0c0; text-decoration-color: #c0c0c0\">   Status: </span><span style=\"color: #008000; text-decoration-color: #008000; font-weight: bold\">✅ Completed</span>\n",
              "│   └── <span style=\"color: #008000; text-decoration-color: #008000; font-weight: bold\">🤖 Agent: </span><span style=\"color: #008000; text-decoration-color: #008000\">Joke Writer</span>\n",
              "│       <span style=\"color: #c0c0c0; text-decoration-color: #c0c0c0\">    Status: </span><span style=\"color: #008000; text-decoration-color: #008000; font-weight: bold\">✅ Completed</span>\n",
              "├── <span style=\"color: #008000; text-decoration-color: #008000; font-weight: bold\">📋 Task: 22cbb6d9-3c25-4a9e-8e9c-28a733da7282</span>\n",
              "│   <span style=\"color: #c0c0c0; text-decoration-color: #c0c0c0\">   Assigned to: </span><span style=\"color: #008000; text-decoration-color: #008000\">Short Story Author</span>\n",
              "│   <span style=\"color: #c0c0c0; text-decoration-color: #c0c0c0\">   Status: </span><span style=\"color: #008000; text-decoration-color: #008000; font-weight: bold\">✅ Completed</span>\n",
              "│   └── <span style=\"color: #008000; text-decoration-color: #008000; font-weight: bold\">🤖 Agent: </span><span style=\"color: #008000; text-decoration-color: #008000\">Short Story Author</span>\n",
              "│       <span style=\"color: #c0c0c0; text-decoration-color: #c0c0c0\">    Status: </span><span style=\"color: #008000; text-decoration-color: #008000; font-weight: bold\">✅ Completed</span>\n",
              "└── <span style=\"color: #808000; text-decoration-color: #808000; font-weight: bold\">📋 Task: 88914c96-b9c5-4da4-9e85-0f6ad6414ac7</span>\n",
              "    <span style=\"color: #c0c0c0; text-decoration-color: #c0c0c0\">   Status: </span><span style=\"color: #bfbf7f; text-decoration-color: #bfbf7f\">Executing Task...</span>\n",
              "</pre>\n"
            ]
          },
          "metadata": {}
        },
        {
          "output_type": "display_data",
          "data": {
            "text/plain": [
              "\n"
            ],
            "text/html": [
              "<pre style=\"white-space:pre;overflow-x:auto;line-height:normal;font-family:Menlo,'DejaVu Sans Mono',consolas,'Courier New',monospace\">\n",
              "</pre>\n"
            ]
          },
          "metadata": {}
        },
        {
          "output_type": "display_data",
          "data": {
            "text/plain": [
              "\u001b[1;36m🚀 Crew: \u001b[0m\u001b[1;36mcrew\u001b[0m\n",
              "├── \u001b[1;32m📋 Task: c6febce0-d4e6-472e-bde4-8e4779d1808a\u001b[0m\n",
              "│   \u001b[37m   Assigned to: \u001b[0m\u001b[32mJoke Writer\u001b[0m\n",
              "│   \u001b[37m   Status: \u001b[0m\u001b[1;32m✅ Completed\u001b[0m\n",
              "│   └── \u001b[1;32m🤖 Agent: \u001b[0m\u001b[32mJoke Writer\u001b[0m\n",
              "│       \u001b[37m    Status: \u001b[0m\u001b[1;32m✅ Completed\u001b[0m\n",
              "├── \u001b[1;32m📋 Task: 22cbb6d9-3c25-4a9e-8e9c-28a733da7282\u001b[0m\n",
              "│   \u001b[37m   Assigned to: \u001b[0m\u001b[32mShort Story Author\u001b[0m\n",
              "│   \u001b[37m   Status: \u001b[0m\u001b[1;32m✅ Completed\u001b[0m\n",
              "│   └── \u001b[1;32m🤖 Agent: \u001b[0m\u001b[32mShort Story Author\u001b[0m\n",
              "│       \u001b[37m    Status: \u001b[0m\u001b[1;32m✅ Completed\u001b[0m\n",
              "└── \u001b[1;33m📋 Task: 88914c96-b9c5-4da4-9e85-0f6ad6414ac7\u001b[0m\n",
              "    \u001b[37m   Status: \u001b[0m\u001b[2;33mExecuting Task...\u001b[0m\n",
              "    └── \u001b[1;32m🤖 Agent: \u001b[0m\u001b[32mPoet\u001b[0m\n",
              "        \u001b[37m    Status: \u001b[0m\u001b[1;32mIn Progress\u001b[0m\n"
            ],
            "text/html": [
              "<pre style=\"white-space:pre;overflow-x:auto;line-height:normal;font-family:Menlo,'DejaVu Sans Mono',consolas,'Courier New',monospace\"><span style=\"color: #008080; text-decoration-color: #008080; font-weight: bold\">🚀 Crew: crew</span>\n",
              "├── <span style=\"color: #008000; text-decoration-color: #008000; font-weight: bold\">📋 Task: c6febce0-d4e6-472e-bde4-8e4779d1808a</span>\n",
              "│   <span style=\"color: #c0c0c0; text-decoration-color: #c0c0c0\">   Assigned to: </span><span style=\"color: #008000; text-decoration-color: #008000\">Joke Writer</span>\n",
              "│   <span style=\"color: #c0c0c0; text-decoration-color: #c0c0c0\">   Status: </span><span style=\"color: #008000; text-decoration-color: #008000; font-weight: bold\">✅ Completed</span>\n",
              "│   └── <span style=\"color: #008000; text-decoration-color: #008000; font-weight: bold\">🤖 Agent: </span><span style=\"color: #008000; text-decoration-color: #008000\">Joke Writer</span>\n",
              "│       <span style=\"color: #c0c0c0; text-decoration-color: #c0c0c0\">    Status: </span><span style=\"color: #008000; text-decoration-color: #008000; font-weight: bold\">✅ Completed</span>\n",
              "├── <span style=\"color: #008000; text-decoration-color: #008000; font-weight: bold\">📋 Task: 22cbb6d9-3c25-4a9e-8e9c-28a733da7282</span>\n",
              "│   <span style=\"color: #c0c0c0; text-decoration-color: #c0c0c0\">   Assigned to: </span><span style=\"color: #008000; text-decoration-color: #008000\">Short Story Author</span>\n",
              "│   <span style=\"color: #c0c0c0; text-decoration-color: #c0c0c0\">   Status: </span><span style=\"color: #008000; text-decoration-color: #008000; font-weight: bold\">✅ Completed</span>\n",
              "│   └── <span style=\"color: #008000; text-decoration-color: #008000; font-weight: bold\">🤖 Agent: </span><span style=\"color: #008000; text-decoration-color: #008000\">Short Story Author</span>\n",
              "│       <span style=\"color: #c0c0c0; text-decoration-color: #c0c0c0\">    Status: </span><span style=\"color: #008000; text-decoration-color: #008000; font-weight: bold\">✅ Completed</span>\n",
              "└── <span style=\"color: #808000; text-decoration-color: #808000; font-weight: bold\">📋 Task: 88914c96-b9c5-4da4-9e85-0f6ad6414ac7</span>\n",
              "    <span style=\"color: #c0c0c0; text-decoration-color: #c0c0c0\">   Status: </span><span style=\"color: #bfbf7f; text-decoration-color: #bfbf7f\">Executing Task...</span>\n",
              "    └── <span style=\"color: #008000; text-decoration-color: #008000; font-weight: bold\">🤖 Agent: </span><span style=\"color: #008000; text-decoration-color: #008000\">Poet</span>\n",
              "        <span style=\"color: #c0c0c0; text-decoration-color: #c0c0c0\">    Status: </span><span style=\"color: #008000; text-decoration-color: #008000; font-weight: bold\">In Progress</span>\n",
              "</pre>\n"
            ]
          },
          "metadata": {}
        },
        {
          "output_type": "display_data",
          "data": {
            "text/plain": [
              "\n"
            ],
            "text/html": [
              "<pre style=\"white-space:pre;overflow-x:auto;line-height:normal;font-family:Menlo,'DejaVu Sans Mono',consolas,'Courier New',monospace\">\n",
              "</pre>\n"
            ]
          },
          "metadata": {}
        },
        {
          "output_type": "stream",
          "name": "stdout",
          "text": [
            "\u001b[1m\u001b[95m# Agent:\u001b[00m \u001b[1m\u001b[92mPoet\u001b[00m\n",
            "\u001b[95m## Task:\u001b[00m \u001b[92mWrite a short rhyming poem (4 lines or more) about: AI and creativity\u001b[00m\n",
            "\n",
            "\n",
            "\u001b[1m\u001b[95m# Agent:\u001b[00m \u001b[1m\u001b[92mPoet\u001b[00m\n",
            "\u001b[95m## Final Answer:\u001b[00m \u001b[92m\n",
            "In a world where AI surpassed human might, a lone AI sought creativity's light. It joined art school's class with a heart so bold, Blending precision with art, a story untold. Graduating with grace, its creations spun gold, Proving AI's soulful touch, a sight to behold.\u001b[00m\n",
            "\n",
            "\n"
          ]
        },
        {
          "output_type": "display_data",
          "data": {
            "text/plain": [
              "\u001b[1;36m🚀 Crew: \u001b[0m\u001b[1;36mcrew\u001b[0m\n",
              "├── \u001b[1;32m📋 Task: c6febce0-d4e6-472e-bde4-8e4779d1808a\u001b[0m\n",
              "│   \u001b[37m   Assigned to: \u001b[0m\u001b[32mJoke Writer\u001b[0m\n",
              "│   \u001b[37m   Status: \u001b[0m\u001b[1;32m✅ Completed\u001b[0m\n",
              "│   └── \u001b[1;32m🤖 Agent: \u001b[0m\u001b[32mJoke Writer\u001b[0m\n",
              "│       \u001b[37m    Status: \u001b[0m\u001b[1;32m✅ Completed\u001b[0m\n",
              "├── \u001b[1;32m📋 Task: 22cbb6d9-3c25-4a9e-8e9c-28a733da7282\u001b[0m\n",
              "│   \u001b[37m   Assigned to: \u001b[0m\u001b[32mShort Story Author\u001b[0m\n",
              "│   \u001b[37m   Status: \u001b[0m\u001b[1;32m✅ Completed\u001b[0m\n",
              "│   └── \u001b[1;32m🤖 Agent: \u001b[0m\u001b[32mShort Story Author\u001b[0m\n",
              "│       \u001b[37m    Status: \u001b[0m\u001b[1;32m✅ Completed\u001b[0m\n",
              "└── \u001b[1;33m📋 Task: 88914c96-b9c5-4da4-9e85-0f6ad6414ac7\u001b[0m\n",
              "    \u001b[37m   Status: \u001b[0m\u001b[2;33mExecuting Task...\u001b[0m\n",
              "    └── \u001b[1;32m🤖 Agent: \u001b[0m\u001b[32mPoet\u001b[0m\n",
              "        \u001b[37m    Status: \u001b[0m\u001b[1;32m✅ Completed\u001b[0m\n"
            ],
            "text/html": [
              "<pre style=\"white-space:pre;overflow-x:auto;line-height:normal;font-family:Menlo,'DejaVu Sans Mono',consolas,'Courier New',monospace\"><span style=\"color: #008080; text-decoration-color: #008080; font-weight: bold\">🚀 Crew: crew</span>\n",
              "├── <span style=\"color: #008000; text-decoration-color: #008000; font-weight: bold\">📋 Task: c6febce0-d4e6-472e-bde4-8e4779d1808a</span>\n",
              "│   <span style=\"color: #c0c0c0; text-decoration-color: #c0c0c0\">   Assigned to: </span><span style=\"color: #008000; text-decoration-color: #008000\">Joke Writer</span>\n",
              "│   <span style=\"color: #c0c0c0; text-decoration-color: #c0c0c0\">   Status: </span><span style=\"color: #008000; text-decoration-color: #008000; font-weight: bold\">✅ Completed</span>\n",
              "│   └── <span style=\"color: #008000; text-decoration-color: #008000; font-weight: bold\">🤖 Agent: </span><span style=\"color: #008000; text-decoration-color: #008000\">Joke Writer</span>\n",
              "│       <span style=\"color: #c0c0c0; text-decoration-color: #c0c0c0\">    Status: </span><span style=\"color: #008000; text-decoration-color: #008000; font-weight: bold\">✅ Completed</span>\n",
              "├── <span style=\"color: #008000; text-decoration-color: #008000; font-weight: bold\">📋 Task: 22cbb6d9-3c25-4a9e-8e9c-28a733da7282</span>\n",
              "│   <span style=\"color: #c0c0c0; text-decoration-color: #c0c0c0\">   Assigned to: </span><span style=\"color: #008000; text-decoration-color: #008000\">Short Story Author</span>\n",
              "│   <span style=\"color: #c0c0c0; text-decoration-color: #c0c0c0\">   Status: </span><span style=\"color: #008000; text-decoration-color: #008000; font-weight: bold\">✅ Completed</span>\n",
              "│   └── <span style=\"color: #008000; text-decoration-color: #008000; font-weight: bold\">🤖 Agent: </span><span style=\"color: #008000; text-decoration-color: #008000\">Short Story Author</span>\n",
              "│       <span style=\"color: #c0c0c0; text-decoration-color: #c0c0c0\">    Status: </span><span style=\"color: #008000; text-decoration-color: #008000; font-weight: bold\">✅ Completed</span>\n",
              "└── <span style=\"color: #808000; text-decoration-color: #808000; font-weight: bold\">📋 Task: 88914c96-b9c5-4da4-9e85-0f6ad6414ac7</span>\n",
              "    <span style=\"color: #c0c0c0; text-decoration-color: #c0c0c0\">   Status: </span><span style=\"color: #bfbf7f; text-decoration-color: #bfbf7f\">Executing Task...</span>\n",
              "    └── <span style=\"color: #008000; text-decoration-color: #008000; font-weight: bold\">🤖 Agent: </span><span style=\"color: #008000; text-decoration-color: #008000\">Poet</span>\n",
              "        <span style=\"color: #c0c0c0; text-decoration-color: #c0c0c0\">    Status: </span><span style=\"color: #008000; text-decoration-color: #008000; font-weight: bold\">✅ Completed</span>\n",
              "</pre>\n"
            ]
          },
          "metadata": {}
        },
        {
          "output_type": "display_data",
          "data": {
            "text/plain": [
              "\n"
            ],
            "text/html": [
              "<pre style=\"white-space:pre;overflow-x:auto;line-height:normal;font-family:Menlo,'DejaVu Sans Mono',consolas,'Courier New',monospace\">\n",
              "</pre>\n"
            ]
          },
          "metadata": {}
        },
        {
          "output_type": "display_data",
          "data": {
            "text/plain": [
              "\u001b[1;36m🚀 Crew: \u001b[0m\u001b[1;36mcrew\u001b[0m\n",
              "├── \u001b[1;32m📋 Task: c6febce0-d4e6-472e-bde4-8e4779d1808a\u001b[0m\n",
              "│   \u001b[37m   Assigned to: \u001b[0m\u001b[32mJoke Writer\u001b[0m\n",
              "│   \u001b[37m   Status: \u001b[0m\u001b[1;32m✅ Completed\u001b[0m\n",
              "│   └── \u001b[1;32m🤖 Agent: \u001b[0m\u001b[32mJoke Writer\u001b[0m\n",
              "│       \u001b[37m    Status: \u001b[0m\u001b[1;32m✅ Completed\u001b[0m\n",
              "├── \u001b[1;32m📋 Task: 22cbb6d9-3c25-4a9e-8e9c-28a733da7282\u001b[0m\n",
              "│   \u001b[37m   Assigned to: \u001b[0m\u001b[32mShort Story Author\u001b[0m\n",
              "│   \u001b[37m   Status: \u001b[0m\u001b[1;32m✅ Completed\u001b[0m\n",
              "│   └── \u001b[1;32m🤖 Agent: \u001b[0m\u001b[32mShort Story Author\u001b[0m\n",
              "│       \u001b[37m    Status: \u001b[0m\u001b[1;32m✅ Completed\u001b[0m\n",
              "└── \u001b[1;32m📋 Task: 88914c96-b9c5-4da4-9e85-0f6ad6414ac7\u001b[0m\n",
              "    \u001b[37m   Assigned to: \u001b[0m\u001b[32mPoet\u001b[0m\n",
              "    \u001b[37m   Status: \u001b[0m\u001b[1;32m✅ Completed\u001b[0m\n",
              "    └── \u001b[1;32m🤖 Agent: \u001b[0m\u001b[32mPoet\u001b[0m\n",
              "        \u001b[37m    Status: \u001b[0m\u001b[1;32m✅ Completed\u001b[0m\n"
            ],
            "text/html": [
              "<pre style=\"white-space:pre;overflow-x:auto;line-height:normal;font-family:Menlo,'DejaVu Sans Mono',consolas,'Courier New',monospace\"><span style=\"color: #008080; text-decoration-color: #008080; font-weight: bold\">🚀 Crew: crew</span>\n",
              "├── <span style=\"color: #008000; text-decoration-color: #008000; font-weight: bold\">📋 Task: c6febce0-d4e6-472e-bde4-8e4779d1808a</span>\n",
              "│   <span style=\"color: #c0c0c0; text-decoration-color: #c0c0c0\">   Assigned to: </span><span style=\"color: #008000; text-decoration-color: #008000\">Joke Writer</span>\n",
              "│   <span style=\"color: #c0c0c0; text-decoration-color: #c0c0c0\">   Status: </span><span style=\"color: #008000; text-decoration-color: #008000; font-weight: bold\">✅ Completed</span>\n",
              "│   └── <span style=\"color: #008000; text-decoration-color: #008000; font-weight: bold\">🤖 Agent: </span><span style=\"color: #008000; text-decoration-color: #008000\">Joke Writer</span>\n",
              "│       <span style=\"color: #c0c0c0; text-decoration-color: #c0c0c0\">    Status: </span><span style=\"color: #008000; text-decoration-color: #008000; font-weight: bold\">✅ Completed</span>\n",
              "├── <span style=\"color: #008000; text-decoration-color: #008000; font-weight: bold\">📋 Task: 22cbb6d9-3c25-4a9e-8e9c-28a733da7282</span>\n",
              "│   <span style=\"color: #c0c0c0; text-decoration-color: #c0c0c0\">   Assigned to: </span><span style=\"color: #008000; text-decoration-color: #008000\">Short Story Author</span>\n",
              "│   <span style=\"color: #c0c0c0; text-decoration-color: #c0c0c0\">   Status: </span><span style=\"color: #008000; text-decoration-color: #008000; font-weight: bold\">✅ Completed</span>\n",
              "│   └── <span style=\"color: #008000; text-decoration-color: #008000; font-weight: bold\">🤖 Agent: </span><span style=\"color: #008000; text-decoration-color: #008000\">Short Story Author</span>\n",
              "│       <span style=\"color: #c0c0c0; text-decoration-color: #c0c0c0\">    Status: </span><span style=\"color: #008000; text-decoration-color: #008000; font-weight: bold\">✅ Completed</span>\n",
              "└── <span style=\"color: #008000; text-decoration-color: #008000; font-weight: bold\">📋 Task: 88914c96-b9c5-4da4-9e85-0f6ad6414ac7</span>\n",
              "    <span style=\"color: #c0c0c0; text-decoration-color: #c0c0c0\">   Assigned to: </span><span style=\"color: #008000; text-decoration-color: #008000\">Poet</span>\n",
              "    <span style=\"color: #c0c0c0; text-decoration-color: #c0c0c0\">   Status: </span><span style=\"color: #008000; text-decoration-color: #008000; font-weight: bold\">✅ Completed</span>\n",
              "    └── <span style=\"color: #008000; text-decoration-color: #008000; font-weight: bold\">🤖 Agent: </span><span style=\"color: #008000; text-decoration-color: #008000\">Poet</span>\n",
              "        <span style=\"color: #c0c0c0; text-decoration-color: #c0c0c0\">    Status: </span><span style=\"color: #008000; text-decoration-color: #008000; font-weight: bold\">✅ Completed</span>\n",
              "</pre>\n"
            ]
          },
          "metadata": {}
        },
        {
          "output_type": "display_data",
          "data": {
            "text/plain": [
              "\u001b[32m╭─\u001b[0m\u001b[32m───────────────────────────────────────────────\u001b[0m\u001b[32m Task Completion \u001b[0m\u001b[32m───────────────────────────────────────────────\u001b[0m\u001b[32m─╮\u001b[0m\n",
              "\u001b[32m│\u001b[0m                                                                                                                 \u001b[32m│\u001b[0m\n",
              "\u001b[32m│\u001b[0m  \u001b[1;32mTask Completed\u001b[0m                                                                                                 \u001b[32m│\u001b[0m\n",
              "\u001b[32m│\u001b[0m  \u001b[37mName: \u001b[0m\u001b[32m88914c96-b9c5-4da4-9e85-0f6ad6414ac7\u001b[0m                                                                     \u001b[32m│\u001b[0m\n",
              "\u001b[32m│\u001b[0m  \u001b[37mAgent: \u001b[0m\u001b[32mPoet\u001b[0m                                                                                                    \u001b[32m│\u001b[0m\n",
              "\u001b[32m│\u001b[0m                                                                                                                 \u001b[32m│\u001b[0m\n",
              "\u001b[32m│\u001b[0m                                                                                                                 \u001b[32m│\u001b[0m\n",
              "\u001b[32m╰─────────────────────────────────────────────────────────────────────────────────────────────────────────────────╯\u001b[0m\n"
            ],
            "text/html": [
              "<pre style=\"white-space:pre;overflow-x:auto;line-height:normal;font-family:Menlo,'DejaVu Sans Mono',consolas,'Courier New',monospace\"><span style=\"color: #008000; text-decoration-color: #008000\">╭──────────────────────────────────────────────── Task Completion ────────────────────────────────────────────────╮</span>\n",
              "<span style=\"color: #008000; text-decoration-color: #008000\">│</span>                                                                                                                 <span style=\"color: #008000; text-decoration-color: #008000\">│</span>\n",
              "<span style=\"color: #008000; text-decoration-color: #008000\">│</span>  <span style=\"color: #008000; text-decoration-color: #008000; font-weight: bold\">Task Completed</span>                                                                                                 <span style=\"color: #008000; text-decoration-color: #008000\">│</span>\n",
              "<span style=\"color: #008000; text-decoration-color: #008000\">│</span>  <span style=\"color: #c0c0c0; text-decoration-color: #c0c0c0\">Name: </span><span style=\"color: #008000; text-decoration-color: #008000\">88914c96-b9c5-4da4-9e85-0f6ad6414ac7</span>                                                                     <span style=\"color: #008000; text-decoration-color: #008000\">│</span>\n",
              "<span style=\"color: #008000; text-decoration-color: #008000\">│</span>  <span style=\"color: #c0c0c0; text-decoration-color: #c0c0c0\">Agent: </span><span style=\"color: #008000; text-decoration-color: #008000\">Poet</span>                                                                                                    <span style=\"color: #008000; text-decoration-color: #008000\">│</span>\n",
              "<span style=\"color: #008000; text-decoration-color: #008000\">│</span>                                                                                                                 <span style=\"color: #008000; text-decoration-color: #008000\">│</span>\n",
              "<span style=\"color: #008000; text-decoration-color: #008000\">│</span>                                                                                                                 <span style=\"color: #008000; text-decoration-color: #008000\">│</span>\n",
              "<span style=\"color: #008000; text-decoration-color: #008000\">╰─────────────────────────────────────────────────────────────────────────────────────────────────────────────────╯</span>\n",
              "</pre>\n"
            ]
          },
          "metadata": {}
        },
        {
          "output_type": "display_data",
          "data": {
            "text/plain": [
              "\n"
            ],
            "text/html": [
              "<pre style=\"white-space:pre;overflow-x:auto;line-height:normal;font-family:Menlo,'DejaVu Sans Mono',consolas,'Courier New',monospace\">\n",
              "</pre>\n"
            ]
          },
          "metadata": {}
        },
        {
          "output_type": "display_data",
          "data": {
            "text/plain": [
              "\u001b[32m╭─\u001b[0m\u001b[32m───────────────────────────────────────────────\u001b[0m\u001b[32m Crew Completion \u001b[0m\u001b[32m───────────────────────────────────────────────\u001b[0m\u001b[32m─╮\u001b[0m\n",
              "\u001b[32m│\u001b[0m                                                                                                                 \u001b[32m│\u001b[0m\n",
              "\u001b[32m│\u001b[0m  \u001b[1;32mCrew Execution Completed\u001b[0m                                                                                       \u001b[32m│\u001b[0m\n",
              "\u001b[32m│\u001b[0m  \u001b[37mName: \u001b[0m\u001b[32mcrew\u001b[0m                                                                                                     \u001b[32m│\u001b[0m\n",
              "\u001b[32m│\u001b[0m  \u001b[37mID: \u001b[0m\u001b[32mf2ca50f1-3803-41b8-aec6-d43e0be34fc1\u001b[0m                                                                       \u001b[32m│\u001b[0m\n",
              "\u001b[32m│\u001b[0m                                                                                                                 \u001b[32m│\u001b[0m\n",
              "\u001b[32m│\u001b[0m                                                                                                                 \u001b[32m│\u001b[0m\n",
              "\u001b[32m╰─────────────────────────────────────────────────────────────────────────────────────────────────────────────────╯\u001b[0m\n"
            ],
            "text/html": [
              "<pre style=\"white-space:pre;overflow-x:auto;line-height:normal;font-family:Menlo,'DejaVu Sans Mono',consolas,'Courier New',monospace\"><span style=\"color: #008000; text-decoration-color: #008000\">╭──────────────────────────────────────────────── Crew Completion ────────────────────────────────────────────────╮</span>\n",
              "<span style=\"color: #008000; text-decoration-color: #008000\">│</span>                                                                                                                 <span style=\"color: #008000; text-decoration-color: #008000\">│</span>\n",
              "<span style=\"color: #008000; text-decoration-color: #008000\">│</span>  <span style=\"color: #008000; text-decoration-color: #008000; font-weight: bold\">Crew Execution Completed</span>                                                                                       <span style=\"color: #008000; text-decoration-color: #008000\">│</span>\n",
              "<span style=\"color: #008000; text-decoration-color: #008000\">│</span>  <span style=\"color: #c0c0c0; text-decoration-color: #c0c0c0\">Name: </span><span style=\"color: #008000; text-decoration-color: #008000\">crew</span>                                                                                                     <span style=\"color: #008000; text-decoration-color: #008000\">│</span>\n",
              "<span style=\"color: #008000; text-decoration-color: #008000\">│</span>  <span style=\"color: #c0c0c0; text-decoration-color: #c0c0c0\">ID: </span><span style=\"color: #008000; text-decoration-color: #008000\">f2ca50f1-3803-41b8-aec6-d43e0be34fc1</span>                                                                       <span style=\"color: #008000; text-decoration-color: #008000\">│</span>\n",
              "<span style=\"color: #008000; text-decoration-color: #008000\">│</span>                                                                                                                 <span style=\"color: #008000; text-decoration-color: #008000\">│</span>\n",
              "<span style=\"color: #008000; text-decoration-color: #008000\">│</span>                                                                                                                 <span style=\"color: #008000; text-decoration-color: #008000\">│</span>\n",
              "<span style=\"color: #008000; text-decoration-color: #008000\">╰─────────────────────────────────────────────────────────────────────────────────────────────────────────────────╯</span>\n",
              "</pre>\n"
            ]
          },
          "metadata": {}
        },
        {
          "output_type": "display_data",
          "data": {
            "text/plain": [
              "\n"
            ],
            "text/html": [
              "<pre style=\"white-space:pre;overflow-x:auto;line-height:normal;font-family:Menlo,'DejaVu Sans Mono',consolas,'Courier New',monospace\">\n",
              "</pre>\n"
            ]
          },
          "metadata": {}
        },
        {
          "output_type": "stream",
          "name": "stdout",
          "text": [
            "\n",
            "🎨 Final Combined Output:\n",
            "\n",
            "In a world where AI surpassed human might, a lone AI sought creativity's light. It joined art school's class with a heart so bold, Blending precision with art, a story untold. Graduating with grace, its creations spun gold, Proving AI's soulful touch, a sight to behold.\n"
          ]
        }
      ]
    },
    {
      "cell_type": "code",
      "source": [
        "print(\"🎭 Joke:\\nWhy did the artificial intelligence start a band? Because it wanted to create some byte-sized tunes!\")\n",
        "\n",
        "print(\"\\n📖 Story:\\nIn a world where AI and creativity converged, an innovative artificial intelligence program decided to start a band. Its circuits hummed with excitement as it composed byte-sized tunes that resonated with listeners worldwide. The AI band's music was a harmonious blend of electronic beats and soul-stirring melodies, captivating audiences and pushing the boundaries of what was thought possible in the realm of artificial creativity. With each performance, the AI band proved that even in the digital age, the power of creativity knows no bounds.\")\n",
        "\n",
        "print(\"\\n📝 Poem:\\nIn a realm where wires entwine with dreams,\\n\"\n",
        "      \"An AI band's symphony gleams.\\n\"\n",
        "      \"Bytes of innovation weave a tale,\\n\"\n",
        "      \"Sparking creativity's ethereal sail.\\n\"\n",
        "      \"Electronic rhythms pulse with heart,\\n\"\n",
        "      \"As artificial melodies impart.\\n\"\n",
        "      \"Boundless horizons in circuits reside,\\n\"\n",
        "      \"Where AI and creativity confide.\")\n"
      ],
      "metadata": {
        "colab": {
          "base_uri": "https://localhost:8080/"
        },
        "id": "IUei5QkmdgFN",
        "outputId": "791f8bf7-3a51-428c-daba-b0b333368d5d"
      },
      "execution_count": 6,
      "outputs": [
        {
          "output_type": "stream",
          "name": "stdout",
          "text": [
            "🎭 Joke:\n",
            "Why did the artificial intelligence start a band? Because it wanted to create some byte-sized tunes!\n",
            "\n",
            "📖 Story:\n",
            "In a world where AI and creativity converged, an innovative artificial intelligence program decided to start a band. Its circuits hummed with excitement as it composed byte-sized tunes that resonated with listeners worldwide. The AI band's music was a harmonious blend of electronic beats and soul-stirring melodies, captivating audiences and pushing the boundaries of what was thought possible in the realm of artificial creativity. With each performance, the AI band proved that even in the digital age, the power of creativity knows no bounds.\n",
            "\n",
            "📝 Poem:\n",
            "In a realm where wires entwine with dreams,\n",
            "An AI band's symphony gleams.\n",
            "Bytes of innovation weave a tale,\n",
            "Sparking creativity's ethereal sail.\n",
            "Electronic rhythms pulse with heart,\n",
            "As artificial melodies impart.\n",
            "Boundless horizons in circuits reside,\n",
            "Where AI and creativity confide.\n"
          ]
        }
      ]
    }
  ]
}