{
  "nbformat": 4,
  "nbformat_minor": 0,
  "metadata": {
    "colab": {
      "provenance": [],
      "authorship_tag": "ABX9TyOsVidVj291N1QP+/uw/ELm",
      "include_colab_link": true
    },
    "kernelspec": {
      "name": "python3",
      "display_name": "Python 3"
    },
    "language_info": {
      "name": "python"
    }
  },
  "cells": [
    {
      "cell_type": "markdown",
      "metadata": {
        "id": "view-in-github",
        "colab_type": "text"
      },
      "source": [
        "<a href=\"https://colab.research.google.com/github/rutuja-patil24/CMPE-258-Deep_Learning/blob/main/Assignment_07/16_document_image_augmentation.ipynb\" target=\"_parent\"><img src=\"https://colab.research.google.com/assets/colab-badge.svg\" alt=\"Open In Colab\"/></a>"
      ]
    },
    {
      "cell_type": "code",
      "source": [
        "# Step 1: Install required libraries\n",
        "!pip install -q albumentations opencv-python-headless\n"
      ],
      "metadata": {
        "id": "syOoBbsjQQeO"
      },
      "execution_count": 3,
      "outputs": []
    },
    {
      "cell_type": "code",
      "source": [
        "# Step 2: Imports\n",
        "import cv2\n",
        "import numpy as np\n",
        "import matplotlib.pyplot as plt\n",
        "from PIL import Image, ImageDraw\n",
        "import albumentations as A"
      ],
      "metadata": {
        "id": "8tXm1c5uQR7L"
      },
      "execution_count": 4,
      "outputs": []
    },
    {
      "cell_type": "code",
      "source": [
        "# Step 3: Generate a synthetic document image using PIL\n",
        "img = Image.new(\"L\", (400, 200), color=255)  # grayscale (white background)\n",
        "draw = ImageDraw.Draw(img)\n",
        "draw.text((20, 80), \"Invoice #456 - Due Today\", fill=0)\n",
        "draw.text((20, 120), \"Amount: $1200\", fill=0)\n",
        "doc_img = np.array(img)\n"
      ],
      "metadata": {
        "id": "bidN-zOaQTny"
      },
      "execution_count": 5,
      "outputs": []
    },
    {
      "cell_type": "code",
      "source": [
        "# Step 4: Define albumentations augmentation pipeline\n",
        "transform = A.Compose([\n",
        "    A.Rotate(limit=10, border_mode=cv2.BORDER_CONSTANT, value=255, p=1.0),\n",
        "    A.GaussianBlur(blur_limit=(3, 7), p=0.5),\n",
        "    A.RandomBrightnessContrast(p=0.5),\n",
        "    A.ImageCompression(quality_lower=30, quality_upper=60, p=0.5),\n",
        "    A.Downscale(scale_min=0.7, scale_max=0.9, p=0.5),\n",
        "    A.GaussNoise(var_limit=(10.0, 50.0), p=0.5)\n",
        "])"
      ],
      "metadata": {
        "colab": {
          "base_uri": "https://localhost:8080/"
        },
        "id": "2O8Ztjr4QVO1",
        "outputId": "aedc099b-c939-47c2-8e5c-580cd40b0cf4"
      },
      "execution_count": 6,
      "outputs": [
        {
          "output_type": "stream",
          "name": "stderr",
          "text": [
            "<ipython-input-6-0ecbc0ee1a7e>:3: UserWarning: Argument(s) 'value' are not valid for transform Rotate\n",
            "  A.Rotate(limit=10, border_mode=cv2.BORDER_CONSTANT, value=255, p=1.0),\n",
            "<ipython-input-6-0ecbc0ee1a7e>:6: UserWarning: Argument(s) 'quality_lower, quality_upper' are not valid for transform ImageCompression\n",
            "  A.ImageCompression(quality_lower=30, quality_upper=60, p=0.5),\n",
            "<ipython-input-6-0ecbc0ee1a7e>:7: UserWarning: Argument(s) 'scale_min, scale_max' are not valid for transform Downscale\n",
            "  A.Downscale(scale_min=0.7, scale_max=0.9, p=0.5),\n",
            "<ipython-input-6-0ecbc0ee1a7e>:8: UserWarning: Argument(s) 'var_limit' are not valid for transform GaussNoise\n",
            "  A.GaussNoise(var_limit=(10.0, 50.0), p=0.5)\n"
          ]
        }
      ]
    },
    {
      "cell_type": "code",
      "source": [
        "# Step 5: Apply the transformation\n",
        "augmented = transform(image=doc_img)['image']"
      ],
      "metadata": {
        "id": "gBmV1E7tQXKv"
      },
      "execution_count": 7,
      "outputs": []
    },
    {
      "cell_type": "code",
      "execution_count": 10,
      "metadata": {
        "colab": {
          "base_uri": "https://localhost:8080/",
          "height": 298
        },
        "id": "0wv_MgTnPWQn",
        "outputId": "c239f4ff-2efa-409b-bc9e-8e3c97b8b280"
      },
      "outputs": [
        {
          "output_type": "display_data",
          "data": {
            "text/plain": [
              "<Figure size 1000x400 with 2 Axes>"
            ],
            "image/png": "[encoded data removed]"
          },
          "metadata": {}
        }
      ],
      "source": [
        "# Step 6: Visualize the result\n",
        "plt.figure(figsize=(10, 4))\n",
        "plt.subplot(1, 2, 1)\n",
        "plt.imshow(doc_img, cmap='gray')\n",
        "plt.title(\"Original Document\")\n",
        "plt.axis('off')\n",
        "\n",
        "plt.subplot(1, 2, 2)\n",
        "plt.imshow(augmented, cmap='gray')\n",
        "plt.title(\"Augmented Document\")\n",
        "plt.axis('off')\n",
        "\n",
        "plt.tight_layout()\n",
        "plt.show()\n"
      ]
    }
  ]
}