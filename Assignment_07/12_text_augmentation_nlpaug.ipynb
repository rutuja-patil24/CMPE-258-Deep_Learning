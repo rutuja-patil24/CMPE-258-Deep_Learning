{
  "nbformat": 4,
  "nbformat_minor": 0,
  "metadata": {
    "colab": {
      "provenance": [],
      "gpuType": "T4",
      "authorship_tag": "ABX9TyMlwbuURpwmw7mN0aSkqJzV",
      "include_colab_link": true
    },
    "kernelspec": {
      "name": "python3",
      "display_name": "Python 3"
    },
    "language_info": {
      "name": "python"
    },
    "accelerator": "GPU"
  },
  "cells": [
    {
      "cell_type": "markdown",
      "metadata": {
        "id": "view-in-github",
        "colab_type": "text"
      },
      "source": [
        "<a href=\"https://colab.research.google.com/github/rutuja-patil24/CMPE-258-Deep_Learning/blob/main/Assignment_07/12_text_augmentation_nlpaug.ipynb\" target=\"_parent\"><img src=\"https://colab.research.google.com/assets/colab-badge.svg\" alt=\"Open In Colab\"/></a>"
      ]
    },
    {
      "cell_type": "code",
      "source": [
        "# Step 1: Install dependencies\n",
        "!pip install -q nlpaug transformers"
      ],
      "metadata": {
        "colab": {
          "base_uri": "https://localhost:8080/"
        },
        "id": "SFKZwX3U7UDn",
        "outputId": "5a335acb-e927-4bee-8388-8e0e6ef08a26"
      },
      "execution_count": 1,
      "outputs": [
        {
          "output_type": "stream",
          "name": "stdout",
          "text": [
            "\u001b[?25l   \u001b[90m━━━━━━━━━━━━━━━━━━━━━━━━━━━━━━━━━━━━━━━━\u001b[0m \u001b[32m0.0/410.5 kB\u001b[0m \u001b[31m?\u001b[0m eta \u001b[36m-:--:--\u001b[0m\r\u001b[2K   \u001b[91m━━━━━━━━━━━━━━━━━━━━━━━━━━━━━━━━━━━━━━━\u001b[0m\u001b[91m╸\u001b[0m \u001b[32m409.6/410.5 kB\u001b[0m \u001b[31m13.6 MB/s\u001b[0m eta \u001b[36m0:00:01\u001b[0m\r\u001b[2K   \u001b[90m━━━━━━━━━━━━━━━━━━━━━━━━━━━━━━━━━━━━━━━━\u001b[0m \u001b[32m410.5/410.5 kB\u001b[0m \u001b[31m9.6 MB/s\u001b[0m eta \u001b[36m0:00:00\u001b[0m\n",
            "\u001b[?25h"
          ]
        }
      ]
    },
    {
      "cell_type": "code",
      "source": [
        "# Step 2: Imports\n",
        "import nlpaug.augmenter.word as naw\n",
        "import random\n",
        "import matplotlib.pyplot as plt"
      ],
      "metadata": {
        "id": "CPVvQetu7T9X"
      },
      "execution_count": 2,
      "outputs": []
    },
    {
      "cell_type": "code",
      "source": [
        "# Step 3: Sample Dataset\n",
        "texts = [\n",
        "    \"The movie was fantastic and had a great storyline.\",\n",
        "    \"I absolutely loved the performance of the lead actor.\",\n",
        "    \"The plot was dull and predictable.\",\n",
        "    \"This was a waste of time, I wouldn’t recommend it.\",\n",
        "    \"Cinematography and music were top notch.\"\n",
        "]\n"
      ],
      "metadata": {
        "id": "3XMn7afA7fA5"
      },
      "execution_count": 3,
      "outputs": []
    },
    {
      "cell_type": "code",
      "source": [
        "# Step 4: Define Augmenters (excluding WordNet due to NLTK conflict)\n",
        "swap_aug = naw.RandomWordAug(action=\"swap\")\n",
        "delete_aug = naw.RandomWordAug(action=\"delete\")\n",
        "bert_aug = naw.ContextualWordEmbsAug(model_path='bert-base-uncased', action='substitute')\n",
        "\n",
        "# Step 5: Apply and Print Results\n",
        "print(\"Original vs Augmented Texts (Swap / Delete / BERT Substitute):\\n\")\n",
        "for text in texts:\n",
        "    print(f\"Original:   {text}\")\n",
        "    print(f\"Swap:       {swap_aug.augment(text)}\")\n",
        "    print(f\"Delete:     {delete_aug.augment(text)}\")\n",
        "    print(f\"BERT:       {bert_aug.augment(text)}\")\n",
        "    print(\"---\")"
      ],
      "metadata": {
        "colab": {
          "base_uri": "https://localhost:8080/"
        },
        "id": "3MsMoMr17izK",
        "outputId": "f24e7726-f136-4cd2-b9af-666dfe5ec673"
      },
      "execution_count": 8,
      "outputs": [
        {
          "output_type": "stream",
          "name": "stdout",
          "text": [
            "Original vs Augmented Texts (Swap / Delete / BERT Substitute):\n",
            "\n",
            "Original:   The movie was fantastic and had a great storyline.\n",
            "Swap:       ['The was movie and fantastic a had great storyline.']\n",
            "Delete:     ['The was fantastic and great storyline.']\n",
            "BERT:       ['the story started fantastic and created a great storyline.']\n",
            "---\n",
            "Original:   I absolutely loved the performance of the lead actor.\n",
            "Swap:       ['Absolutely loved I the performance the of lead actor.']\n",
            "Delete:     ['I absolutely loved performance of actor.']\n",
            "BERT:       ['i greatly loved the work of his lead actor.']\n",
            "---\n",
            "Original:   The plot was dull and predictable.\n",
            "Swap:       ['The plot was dull predictable and.']\n",
            "Delete:     ['Plot dull predictable.']\n",
            "BERT:       ['the movement remains dull an predictable.']\n",
            "---\n",
            "Original:   This was a waste of time, I wouldn’t recommend it.\n",
            "Swap:       ['This was a of waste time, wouldn I ’ recommend t it.']\n",
            "Delete:     ['This was waste of time, ’ recommend.']\n",
            "BERT:       ['this was a waste by experience, but wouldn ’ well recommend otherwise.']\n",
            "---\n",
            "Original:   Cinematography and music were top notch.\n",
            "Swap:       ['Cinematography and top music notch were.']\n",
            "Delete:     ['Cinematography were notch.']\n",
            "BERT:       ['commercials alongside music were under notch.']\n",
            "---\n"
          ]
        }
      ]
    },
    {
      "cell_type": "code",
      "source": [
        "# Step 6: Word Count Distribution (Swap Augment)\n",
        "num_trials = 50\n",
        "orig_len = []\n",
        "swap_len = []\n",
        "for _ in range(num_trials):\n",
        "    idx = random.randint(0, len(texts) - 1)\n",
        "    original = texts[idx].split()\n",
        "\n",
        "    aug_result = swap_aug.augment(texts[idx])\n",
        "    augmented = aug_result[0] if isinstance(aug_result, list) else aug_result\n",
        "    augmented = augmented.split()\n",
        "\n",
        "    orig_len.append(len(original))\n",
        "    swap_len.append(len(augmented))\n"
      ],
      "metadata": {
        "id": "TqqlzZkP8-qM"
      },
      "execution_count": 9,
      "outputs": []
    },
    {
      "cell_type": "code",
      "source": [
        "plt.hist([orig_len, swap_len], label=[\"Original\", \"Swap-Augmented\"], bins=8)\n",
        "plt.title(\"Word Count Distribution: Original vs Swap\")\n",
        "plt.xlabel(\"Number of Words\")\n",
        "plt.ylabel(\"Frequency\")\n",
        "plt.legend()\n",
        "plt.grid(True)\n",
        "plt.show()\n"
      ],
      "metadata": {
        "colab": {
          "base_uri": "https://localhost:8080/",
          "height": 472
        },
        "id": "5kuet1Zz9BAt",
        "outputId": "d2cf13c7-0438-4375-941e-704fa5606a3a"
      },
      "execution_count": 10,
      "outputs": [
        {
          "output_type": "display_data",
          "data": {
            "text/plain": [
              "<Figure size 640x480 with 1 Axes>"
            ],
            "image/png": "[encoded data removed]"
          },
          "metadata": {}
        }
      ]
    }
  ]
}