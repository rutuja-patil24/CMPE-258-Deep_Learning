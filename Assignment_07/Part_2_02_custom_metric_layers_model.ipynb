{
  "nbformat": 4,
  "nbformat_minor": 0,
  "metadata": {
    "colab": {
      "provenance": [],
      "authorship_tag": "ABX9TyPz+TBkv+gwKsnYscV2Y5cC",
      "include_colab_link": true
    },
    "kernelspec": {
      "name": "python3",
      "display_name": "Python 3"
    },
    "language_info": {
      "name": "python"
    }
  },
  "cells": [
    {
      "cell_type": "markdown",
      "metadata": {
        "id": "view-in-github",
        "colab_type": "text"
      },
      "source": [
        "<a href=\"https://colab.research.google.com/github/rutuja-patil24/CMPE-258-Deep_Learning/blob/main/Assignment_07/Part_2_02_custom_metric_layers_model.ipynb\" target=\"_parent\"><img src=\"https://colab.research.google.com/assets/colab-badge.svg\" alt=\"Open In Colab\"/></a>"
      ]
    },
    {
      "cell_type": "code",
      "execution_count": 1,
      "metadata": {
        "id": "Nmp-n5lrcfrz"
      },
      "outputs": [],
      "source": [
        "!pip install -q tensorflow"
      ]
    },
    {
      "cell_type": "code",
      "source": [
        "# Step 1: Imports\n",
        "import tensorflow as tf\n",
        "from tensorflow import keras\n",
        "from tensorflow.keras import layers\n",
        "import numpy as np\n",
        "import matplotlib.pyplot as plt"
      ],
      "metadata": {
        "id": "D2e2lrg8hW_e"
      },
      "execution_count": 2,
      "outputs": []
    },
    {
      "cell_type": "code",
      "source": [
        "# Step 2: Load and preprocess dataset\n",
        "(x_train, y_train), (x_test, y_test) = keras.datasets.boston_housing.load_data()\n",
        "x_train = (x_train - x_train.mean(axis=0)) / x_train.std(axis=0)\n",
        "x_test = (x_test - x_test.mean(axis=0)) / x_test.std(axis=0)"
      ],
      "metadata": {
        "colab": {
          "base_uri": "https://localhost:8080/"
        },
        "id": "tRg6R5HQhbuA",
        "outputId": "84cba421-f1c1-45ef-a57e-0cb7c8c0a569"
      },
      "execution_count": 3,
      "outputs": [
        {
          "output_type": "stream",
          "name": "stdout",
          "text": [
            "Downloading data from https://storage.googleapis.com/tensorflow/tf-keras-datasets/boston_housing.npz\n",
            "\u001b[1m57026/57026\u001b[0m \u001b[32m━━━━━━━━━━━━━━━━━━━━\u001b[0m\u001b[37m\u001b[0m \u001b[1m0s\u001b[0m 0us/step\n"
          ]
        }
      ]
    },
    {
      "cell_type": "code",
      "source": [
        "# Step 3: Custom Metric (HuberMetric)\n",
        "class HuberMetric(keras.metrics.Metric):\n",
        "    def __init__(self, name=\"huber_metric\", threshold=1.0, **kwargs):\n",
        "        super().__init__(name=name, **kwargs)\n",
        "        self.threshold = threshold\n",
        "        self.huber = self.add_weight(name=\"huber\", initializer=\"zeros\")\n",
        "        self.count = self.add_weight(name=\"count\", initializer=\"zeros\")\n",
        "\n",
        "    def update_state(self, y_true, y_pred, sample_weight=None):\n",
        "        error = y_true - y_pred\n",
        "        is_small_error = tf.abs(error) <= self.threshold\n",
        "        small_error_loss = tf.square(error) / 2\n",
        "        big_error_loss = self.threshold * (tf.abs(error) - 0.5 * self.threshold)\n",
        "        loss = tf.where(is_small_error, small_error_loss, big_error_loss)\n",
        "        self.huber.assign_add(tf.reduce_sum(loss))\n",
        "        self.count.assign_add(tf.cast(tf.size(loss), tf.float32))\n",
        "\n",
        "    def result(self):\n",
        "        return self.huber / self.count\n",
        "\n",
        "    def reset_state(self):\n",
        "        self.huber.assign(0.0)\n",
        "        self.count.assign(0.0)"
      ],
      "metadata": {
        "id": "EPA0jJ3Whg3-"
      },
      "execution_count": 4,
      "outputs": []
    },
    {
      "cell_type": "code",
      "source": [
        "# Step 4: Custom Dense Layer and Gaussian Noise\n",
        "class MyDense(layers.Layer):\n",
        "    def __init__(self, units):\n",
        "        super().__init__()\n",
        "        self.units = units\n",
        "\n",
        "    def build(self, input_shape):\n",
        "        self.kernel = self.add_weight(name=\"kernel\", shape=(input_shape[-1], self.units), initializer=\"glorot_uniform\")\n",
        "        self.bias = self.add_weight(name=\"bias\", shape=(self.units,), initializer=\"zeros\")\n",
        "\n",
        "    def call(self, inputs):\n",
        "        return tf.matmul(inputs, self.kernel) + self.bias\n",
        "\n",
        "class AddGaussianNoise(layers.Layer):\n",
        "    def __init__(self, stddev=0.1):\n",
        "        super().__init__()\n",
        "        self.stddev = stddev\n",
        "\n",
        "    def call(self, inputs, training=False):\n",
        "        if training:\n",
        "            return inputs + tf.random.normal(tf.shape(inputs), stddev=self.stddev)\n",
        "        return inputs"
      ],
      "metadata": {
        "id": "XNnozOgUhjsU"
      },
      "execution_count": 5,
      "outputs": []
    },
    {
      "cell_type": "code",
      "source": [
        "# Step 5: Residual Block with Shape Projection\n",
        "class ResidualBlock(layers.Layer):\n",
        "    def __init__(self, units):\n",
        "        super().__init__()\n",
        "        self.dense1 = MyDense(units)\n",
        "        self.norm1 = layers.LayerNormalization()\n",
        "        self.act1 = layers.Activation(\"relu\")\n",
        "        self.dense2 = MyDense(units)\n",
        "        self.projection = None  # created in build()\n",
        "\n",
        "    def build(self, input_shape):\n",
        "        input_units = input_shape[-1]\n",
        "        if input_units != self.dense1.units:\n",
        "            self.projection = MyDense(self.dense1.units)\n",
        "\n",
        "    def call(self, inputs):\n",
        "        shortcut = self.projection(inputs) if self.projection else inputs\n",
        "        x = self.dense1(inputs)\n",
        "        x = self.norm1(x)\n",
        "        x = self.act1(x)\n",
        "        x = self.dense2(x)\n",
        "        return self.act1(x + shortcut)"
      ],
      "metadata": {
        "id": "cft1hZ3Rhl94"
      },
      "execution_count": 6,
      "outputs": []
    },
    {
      "cell_type": "code",
      "source": [
        "# Step 6: Custom Residual Regressor Model\n",
        "class ResidualRegressor(keras.Model):\n",
        "    def __init__(self):\n",
        "        super().__init__()\n",
        "        self.noise = AddGaussianNoise(0.1)\n",
        "        self.block1 = ResidualBlock(64)\n",
        "        self.block2 = ResidualBlock(64)\n",
        "        self.output_layer = MyDense(1)\n",
        "\n",
        "    def call(self, inputs):\n",
        "        x = self.noise(inputs)\n",
        "        x = self.block1(x)\n",
        "        x = self.block2(x)\n",
        "        return self.output_layer(x)"
      ],
      "metadata": {
        "id": "j2Z9UHX9honZ"
      },
      "execution_count": 7,
      "outputs": []
    },
    {
      "cell_type": "code",
      "source": [
        "# Step 7: Compile and Train\n",
        "model = ResidualRegressor()\n",
        "model.compile(\n",
        "    optimizer=\"adam\",\n",
        "    loss=\"mse\",\n",
        "    metrics=[HuberMetric()]\n",
        ")\n",
        "\n",
        "history = model.fit(\n",
        "    x_train, y_train,\n",
        "    validation_split=0.2,\n",
        "    epochs=20,\n",
        "    batch_size=32\n",
        ")"
      ],
      "metadata": {
        "colab": {
          "base_uri": "https://localhost:8080/"
        },
        "id": "R-Wv0-b5hrP5",
        "outputId": "eb700e10-110b-4789-8c84-005a5fe74ac3"
      },
      "execution_count": 8,
      "outputs": [
        {
          "output_type": "stream",
          "name": "stdout",
          "text": [
            "Epoch 1/20\n",
            "\u001b[1m11/11\u001b[0m \u001b[32m━━━━━━━━━━━━━━━━━━━━\u001b[0m\u001b[37m\u001b[0m \u001b[1m5s\u001b[0m 39ms/step - huber_metric: 20.6461 - loss: 522.4531 - val_huber_metric: 19.2163 - val_loss: 452.3727\n",
            "Epoch 2/20\n",
            "\u001b[1m11/11\u001b[0m \u001b[32m━━━━━━━━━━━━━━━━━━━━\u001b[0m\u001b[37m\u001b[0m \u001b[1m0s\u001b[0m 10ms/step - huber_metric: 16.0412 - loss: 353.7390 - val_huber_metric: 14.7827 - val_loss: 297.8954\n",
            "Epoch 3/20\n",
            "\u001b[1m11/11\u001b[0m \u001b[32m━━━━━━━━━━━━━━━━━━━━\u001b[0m\u001b[37m\u001b[0m \u001b[1m0s\u001b[0m 10ms/step - huber_metric: 12.4185 - loss: 241.5629 - val_huber_metric: 10.4506 - val_loss: 180.0177\n",
            "Epoch 4/20\n",
            "\u001b[1m11/11\u001b[0m \u001b[32m━━━━━━━━━━━━━━━━━━━━\u001b[0m\u001b[37m\u001b[0m \u001b[1m0s\u001b[0m 10ms/step - huber_metric: 8.3554 - loss: 120.4252 - val_huber_metric: 7.3311 - val_loss: 102.4914\n",
            "Epoch 5/20\n",
            "\u001b[1m11/11\u001b[0m \u001b[32m━━━━━━━━━━━━━━━━━━━━\u001b[0m\u001b[37m\u001b[0m \u001b[1m0s\u001b[0m 10ms/step - huber_metric: 6.1888 - loss: 64.9748 - val_huber_metric: 6.6874 - val_loss: 68.7634\n",
            "Epoch 6/20\n",
            "\u001b[1m11/11\u001b[0m \u001b[32m━━━━━━━━━━━━━━━━━━━━\u001b[0m\u001b[37m\u001b[0m \u001b[1m0s\u001b[0m 10ms/step - huber_metric: 6.4783 - loss: 49.1427 - val_huber_metric: 7.1781 - val_loss: 57.2318\n",
            "Epoch 7/20\n",
            "\u001b[1m11/11\u001b[0m \u001b[32m━━━━━━━━━━━━━━━━━━━━\u001b[0m\u001b[37m\u001b[0m \u001b[1m0s\u001b[0m 11ms/step - huber_metric: 7.3616 - loss: 50.4231 - val_huber_metric: 7.6267 - val_loss: 51.4200\n",
            "Epoch 8/20\n",
            "\u001b[1m11/11\u001b[0m \u001b[32m━━━━━━━━━━━━━━━━━━━━\u001b[0m\u001b[37m\u001b[0m \u001b[1m0s\u001b[0m 10ms/step - huber_metric: 8.1188 - loss: 44.3666 - val_huber_metric: 7.8874 - val_loss: 47.6649\n",
            "Epoch 9/20\n",
            "\u001b[1m11/11\u001b[0m \u001b[32m━━━━━━━━━━━━━━━━━━━━\u001b[0m\u001b[37m\u001b[0m \u001b[1m0s\u001b[0m 15ms/step - huber_metric: 8.0870 - loss: 40.8642 - val_huber_metric: 7.7816 - val_loss: 44.6408\n",
            "Epoch 10/20\n",
            "\u001b[1m11/11\u001b[0m \u001b[32m━━━━━━━━━━━━━━━━━━━━\u001b[0m\u001b[37m\u001b[0m \u001b[1m0s\u001b[0m 11ms/step - huber_metric: 7.9105 - loss: 44.1360 - val_huber_metric: 7.7213 - val_loss: 40.8069\n",
            "Epoch 11/20\n",
            "\u001b[1m11/11\u001b[0m \u001b[32m━━━━━━━━━━━━━━━━━━━━\u001b[0m\u001b[37m\u001b[0m \u001b[1m0s\u001b[0m 10ms/step - huber_metric: 7.9528 - loss: 30.6488 - val_huber_metric: 7.8596 - val_loss: 37.5355\n",
            "Epoch 12/20\n",
            "\u001b[1m11/11\u001b[0m \u001b[32m━━━━━━━━━━━━━━━━━━━━\u001b[0m\u001b[37m\u001b[0m \u001b[1m0s\u001b[0m 10ms/step - huber_metric: 8.0207 - loss: 26.6758 - val_huber_metric: 7.9995 - val_loss: 34.2868\n",
            "Epoch 13/20\n",
            "\u001b[1m11/11\u001b[0m \u001b[32m━━━━━━━━━━━━━━━━━━━━\u001b[0m\u001b[37m\u001b[0m \u001b[1m0s\u001b[0m 13ms/step - huber_metric: 8.0555 - loss: 22.4338 - val_huber_metric: 8.1244 - val_loss: 31.2459\n",
            "Epoch 14/20\n",
            "\u001b[1m11/11\u001b[0m \u001b[32m━━━━━━━━━━━━━━━━━━━━\u001b[0m\u001b[37m\u001b[0m \u001b[1m0s\u001b[0m 9ms/step - huber_metric: 8.2844 - loss: 24.9158 - val_huber_metric: 8.4162 - val_loss: 28.9439\n",
            "Epoch 15/20\n",
            "\u001b[1m11/11\u001b[0m \u001b[32m━━━━━━━━━━━━━━━━━━━━\u001b[0m\u001b[37m\u001b[0m \u001b[1m0s\u001b[0m 11ms/step - huber_metric: 8.0934 - loss: 21.1104 - val_huber_metric: 8.3401 - val_loss: 25.6282\n",
            "Epoch 16/20\n",
            "\u001b[1m11/11\u001b[0m \u001b[32m━━━━━━━━━━━━━━━━━━━━\u001b[0m\u001b[37m\u001b[0m \u001b[1m0s\u001b[0m 10ms/step - huber_metric: 9.0469 - loss: 26.0522 - val_huber_metric: 8.4694 - val_loss: 23.6706\n",
            "Epoch 17/20\n",
            "\u001b[1m11/11\u001b[0m \u001b[32m━━━━━━━━━━━━━━━━━━━━\u001b[0m\u001b[37m\u001b[0m \u001b[1m0s\u001b[0m 10ms/step - huber_metric: 8.8523 - loss: 16.2225 - val_huber_metric: 8.4866 - val_loss: 22.2664\n",
            "Epoch 18/20\n",
            "\u001b[1m11/11\u001b[0m \u001b[32m━━━━━━━━━━━━━━━━━━━━\u001b[0m\u001b[37m\u001b[0m \u001b[1m0s\u001b[0m 10ms/step - huber_metric: 8.4833 - loss: 18.2755 - val_huber_metric: 8.6532 - val_loss: 21.0164\n",
            "Epoch 19/20\n",
            "\u001b[1m11/11\u001b[0m \u001b[32m━━━━━━━━━━━━━━━━━━━━\u001b[0m\u001b[37m\u001b[0m \u001b[1m0s\u001b[0m 10ms/step - huber_metric: 8.7467 - loss: 13.8802 - val_huber_metric: 8.4829 - val_loss: 19.7609\n",
            "Epoch 20/20\n",
            "\u001b[1m11/11\u001b[0m \u001b[32m━━━━━━━━━━━━━━━━━━━━\u001b[0m\u001b[37m\u001b[0m \u001b[1m0s\u001b[0m 11ms/step - huber_metric: 8.9761 - loss: 15.3931 - val_huber_metric: 8.5403 - val_loss: 19.1533\n"
          ]
        }
      ]
    },
    {
      "cell_type": "code",
      "source": [
        "# Step 8: Plot Training vs Validation Loss\n",
        "plt.plot(history.history[\"loss\"], label=\"Train Loss\")\n",
        "plt.plot(history.history[\"val_loss\"], label=\"Val Loss\")\n",
        "plt.title(\"Training vs Validation Loss\")\n",
        "plt.xlabel(\"Epoch\")\n",
        "plt.ylabel(\"Loss\")\n",
        "plt.legend()\n",
        "plt.grid(True)\n",
        "plt.show()\n"
      ],
      "metadata": {
        "colab": {
          "base_uri": "https://localhost:8080/",
          "height": 472
        },
        "id": "IZFvVdwwdhy1",
        "outputId": "88df3d65-64a4-4ca0-f0ee-9bc93fa1d416"
      },
      "execution_count": 9,
      "outputs": [
        {
          "output_type": "display_data",
          "data": {
            "text/plain": [
              "<Figure size 640x480 with 1 Axes>"
            ],
            "image/png": "[encoded data removed]"
          },
          "metadata": {}
        }
      ]
    }
  ]
}