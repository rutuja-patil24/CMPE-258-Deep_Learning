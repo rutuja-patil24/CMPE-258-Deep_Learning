{
  "nbformat": 4,
  "nbformat_minor": 0,
  "metadata": {
    "colab": {
      "provenance": [],
      "authorship_tag": "ABX9TyNrQsrl/tCDiKJOohOhn8to",
      "include_colab_link": true
    },
    "kernelspec": {
      "name": "python3",
      "display_name": "Python 3"
    },
    "language_info": {
      "name": "python"
    }
  },
  "cells": [
    {
      "cell_type": "markdown",
      "metadata": {
        "id": "view-in-github",
        "colab_type": "text"
      },
      "source": [
        "<a href=\"https://colab.research.google.com/github/rutuja-patil24/CMPE-258-Deep_Learning/blob/main/Assignment_07/Part_2_08_Custom_Layers.ipynb\" target=\"_parent\"><img src=\"https://colab.research.google.com/assets/colab-badge.svg\" alt=\"Open In Colab\"/></a>"
      ]
    },
    {
      "cell_type": "code",
      "source": [
        "import tensorflow as tf\n",
        "from tensorflow import keras\n",
        "from tensorflow.keras import layers\n",
        "import numpy as np\n",
        "import matplotlib.pyplot as plt\n",
        "from sklearn.datasets import fetch_california_housing\n",
        "from sklearn.model_selection import train_test_split\n",
        "from sklearn.preprocessing import StandardScaler"
      ],
      "metadata": {
        "id": "TMzXQdjDoeHK"
      },
      "execution_count": 3,
      "outputs": []
    },
    {
      "cell_type": "code",
      "source": [
        "# Step 1: Define Custom Layers\n",
        "class MyDense(layers.Layer):\n",
        "    def __init__(self, units):\n",
        "        super().__init__()\n",
        "        self.units = units\n",
        "\n",
        "    def build(self, input_shape):\n",
        "        self.kernel = self.add_weight(name=\"kernel\", shape=[input_shape[-1], self.units])\n",
        "        self.bias = self.add_weight(name=\"bias\", shape=[self.units])\n",
        "\n",
        "    def call(self, inputs):\n",
        "        return tf.matmul(inputs, self.kernel) + self.bias\n",
        "\n",
        "class AddGaussianNoise(layers.Layer):\n",
        "    def __init__(self, stddev=0.1):\n",
        "        super().__init__()\n",
        "        self.stddev = stddev\n",
        "\n",
        "    def call(self, inputs, training=False):\n",
        "        if training:\n",
        "            noise = tf.random.normal(shape=tf.shape(inputs), stddev=self.stddev)\n",
        "            return inputs + noise\n",
        "        return inputs\n",
        "\n",
        "class ExponentialLayer(layers.Layer):\n",
        "    def call(self, inputs):\n",
        "        return tf.exp(inputs)"
      ],
      "metadata": {
        "id": "-wd0eR8PoeDj"
      },
      "execution_count": 4,
      "outputs": []
    },
    {
      "cell_type": "code",
      "source": [
        "# Step 2: Load and preprocess data\n",
        "housing = fetch_california_housing()\n",
        "X, y = housing.data, housing.target\n",
        "X_train, X_test, y_train, y_test = train_test_split(X, y, test_size=0.2, random_state=42)\n",
        "scaler = StandardScaler()\n",
        "X_train = scaler.fit_transform(X_train)\n",
        "X_test = scaler.transform(X_test)"
      ],
      "metadata": {
        "id": "I1NkcKg6oeAn"
      },
      "execution_count": 5,
      "outputs": []
    },
    {
      "cell_type": "code",
      "source": [
        "# Step 3: Build Model\n",
        "model = keras.Sequential([\n",
        "    AddGaussianNoise(0.1),\n",
        "    MyDense(64),\n",
        "    layers.ReLU(),\n",
        "    MyDense(32),\n",
        "    ExponentialLayer(),\n",
        "    MyDense(1)\n",
        "])\n",
        "\n",
        "model.compile(optimizer='adam', loss='mse', metrics=['mae'])"
      ],
      "metadata": {
        "id": "34x5ldZFokt7"
      },
      "execution_count": 6,
      "outputs": []
    },
    {
      "cell_type": "code",
      "source": [
        "# Step 4: Train\n",
        "history = model.fit(X_train, y_train, validation_data=(X_test, y_test), epochs=30, batch_size=32)"
      ],
      "metadata": {
        "colab": {
          "base_uri": "https://localhost:8080/"
        },
        "id": "aMxoipeLokqm",
        "outputId": "96384f0d-3079-4547-b387-32d5495e607a"
      },
      "execution_count": 7,
      "outputs": [
        {
          "output_type": "stream",
          "name": "stdout",
          "text": [
            "Epoch 1/30\n",
            "\u001b[1m516/516\u001b[0m \u001b[32m━━━━━━━━━━━━━━━━━━━━\u001b[0m\u001b[37m\u001b[0m \u001b[1m4s\u001b[0m 4ms/step - loss: 80052645527552.0000 - mae: 69179.2812 - val_loss: 228221812736.0000 - val_mae: 7436.1758\n",
            "Epoch 2/30\n",
            "\u001b[1m516/516\u001b[0m \u001b[32m━━━━━━━━━━━━━━━━━━━━\u001b[0m\u001b[37m\u001b[0m \u001b[1m2s\u001b[0m 2ms/step - loss: 10848124796928.0000 - mae: 38290.2500 - val_loss: 510867.1562 - val_mae: 11.8036\n",
            "Epoch 3/30\n",
            "\u001b[1m516/516\u001b[0m \u001b[32m━━━━━━━━━━━━━━━━━━━━\u001b[0m\u001b[37m\u001b[0m \u001b[1m1s\u001b[0m 3ms/step - loss: 258534976.0000 - mae: 97.4556 - val_loss: 731696332800.0000 - val_mae: 13314.2139\n",
            "Epoch 4/30\n",
            "\u001b[1m516/516\u001b[0m \u001b[32m━━━━━━━━━━━━━━━━━━━━\u001b[0m\u001b[37m\u001b[0m \u001b[1m1s\u001b[0m 3ms/step - loss: 176167344.0000 - mae: 91.8131 - val_loss: 144615216.0000 - val_mae: 187.7339\n",
            "Epoch 5/30\n",
            "\u001b[1m516/516\u001b[0m \u001b[32m━━━━━━━━━━━━━━━━━━━━\u001b[0m\u001b[37m\u001b[0m \u001b[1m1s\u001b[0m 3ms/step - loss: 249617056.0000 - mae: 165.3515 - val_loss: 248373056.0000 - val_mae: 245.8428\n",
            "Epoch 6/30\n",
            "\u001b[1m516/516\u001b[0m \u001b[32m━━━━━━━━━━━━━━━━━━━━\u001b[0m\u001b[37m\u001b[0m \u001b[1m1s\u001b[0m 3ms/step - loss: 43057980.0000 - mae: 41.0736 - val_loss: 305322912.0000 - val_mae: 272.5050\n",
            "Epoch 7/30\n",
            "\u001b[1m516/516\u001b[0m \u001b[32m━━━━━━━━━━━━━━━━━━━━\u001b[0m\u001b[37m\u001b[0m \u001b[1m2s\u001b[0m 3ms/step - loss: 139663.0469 - mae: 5.3511 - val_loss: 358867296.0000 - val_mae: 295.3854\n",
            "Epoch 8/30\n",
            "\u001b[1m516/516\u001b[0m \u001b[32m━━━━━━━━━━━━━━━━━━━━\u001b[0m\u001b[37m\u001b[0m \u001b[1m2s\u001b[0m 5ms/step - loss: 59614.3633 - mae: 2.7446 - val_loss: 456658464.0000 - val_mae: 333.1328\n",
            "Epoch 9/30\n",
            "\u001b[1m516/516\u001b[0m \u001b[32m━━━━━━━━━━━━━━━━━━━━\u001b[0m\u001b[37m\u001b[0m \u001b[1m1s\u001b[0m 3ms/step - loss: 34304.9375 - mae: 2.5830 - val_loss: 536446464.0000 - val_mae: 361.0125\n",
            "Epoch 10/30\n",
            "\u001b[1m516/516\u001b[0m \u001b[32m━━━━━━━━━━━━━━━━━━━━\u001b[0m\u001b[37m\u001b[0m \u001b[1m3s\u001b[0m 3ms/step - loss: 31466.4766 - mae: 2.8549 - val_loss: 625860928.0000 - val_mae: 389.8887\n",
            "Epoch 11/30\n",
            "\u001b[1m516/516\u001b[0m \u001b[32m━━━━━━━━━━━━━━━━━━━━\u001b[0m\u001b[37m\u001b[0m \u001b[1m1s\u001b[0m 2ms/step - loss: 9716.2549 - mae: 1.6356 - val_loss: 729568256.0000 - val_mae: 420.9039\n",
            "Epoch 12/30\n",
            "\u001b[1m516/516\u001b[0m \u001b[32m━━━━━━━━━━━━━━━━━━━━\u001b[0m\u001b[37m\u001b[0m \u001b[1m3s\u001b[0m 3ms/step - loss: 3142.4148 - mae: 0.9216 - val_loss: 861872192.0000 - val_mae: 457.4337\n",
            "Epoch 13/30\n",
            "\u001b[1m516/516\u001b[0m \u001b[32m━━━━━━━━━━━━━━━━━━━━\u001b[0m\u001b[37m\u001b[0m \u001b[1m3s\u001b[0m 3ms/step - loss: 1476.1188 - mae: 0.7586 - val_loss: 1039454656.0000 - val_mae: 502.2999\n",
            "Epoch 14/30\n",
            "\u001b[1m516/516\u001b[0m \u001b[32m━━━━━━━━━━━━━━━━━━━━\u001b[0m\u001b[37m\u001b[0m \u001b[1m2s\u001b[0m 4ms/step - loss: 397.6866 - mae: 0.8381 - val_loss: 1090333312.0000 - val_mae: 514.4290\n",
            "Epoch 15/30\n",
            "\u001b[1m516/516\u001b[0m \u001b[32m━━━━━━━━━━━━━━━━━━━━\u001b[0m\u001b[37m\u001b[0m \u001b[1m1s\u001b[0m 3ms/step - loss: 405.8289 - mae: 0.6857 - val_loss: 1214676480.0000 - val_mae: 542.9439\n",
            "Epoch 16/30\n",
            "\u001b[1m516/516\u001b[0m \u001b[32m━━━━━━━━━━━━━━━━━━━━\u001b[0m\u001b[37m\u001b[0m \u001b[1m2s\u001b[0m 3ms/step - loss: 606.3594 - mae: 0.7154 - val_loss: 936903296.0000 - val_mae: 476.8917\n",
            "Epoch 17/30\n",
            "\u001b[1m516/516\u001b[0m \u001b[32m━━━━━━━━━━━━━━━━━━━━\u001b[0m\u001b[37m\u001b[0m \u001b[1m3s\u001b[0m 4ms/step - loss: 3590.1084 - mae: 1.0282 - val_loss: 1857405312.0000 - val_mae: 671.2657\n",
            "Epoch 18/30\n",
            "\u001b[1m516/516\u001b[0m \u001b[32m━━━━━━━━━━━━━━━━━━━━\u001b[0m\u001b[37m\u001b[0m \u001b[1m2s\u001b[0m 3ms/step - loss: 10079.7539 - mae: 1.7230 - val_loss: 846224960.0000 - val_mae: 453.2443\n",
            "Epoch 19/30\n",
            "\u001b[1m516/516\u001b[0m \u001b[32m━━━━━━━━━━━━━━━━━━━━\u001b[0m\u001b[37m\u001b[0m \u001b[1m3s\u001b[0m 5ms/step - loss: 1329.7323 - mae: 0.8663 - val_loss: 1326532864.0000 - val_mae: 567.3531\n",
            "Epoch 20/30\n",
            "\u001b[1m516/516\u001b[0m \u001b[32m━━━━━━━━━━━━━━━━━━━━\u001b[0m\u001b[37m\u001b[0m \u001b[1m2s\u001b[0m 3ms/step - loss: 106.1978 - mae: 0.6223 - val_loss: 1185640064.0000 - val_mae: 536.3963\n",
            "Epoch 21/30\n",
            "\u001b[1m516/516\u001b[0m \u001b[32m━━━━━━━━━━━━━━━━━━━━\u001b[0m\u001b[37m\u001b[0m \u001b[1m3s\u001b[0m 3ms/step - loss: 773.6364 - mae: 0.8818 - val_loss: 2110079360.0000 - val_mae: 715.4198\n",
            "Epoch 22/30\n",
            "\u001b[1m516/516\u001b[0m \u001b[32m━━━━━━━━━━━━━━━━━━━━\u001b[0m\u001b[37m\u001b[0m \u001b[1m2s\u001b[0m 2ms/step - loss: 131.5263 - mae: 0.5669 - val_loss: 393655040.0000 - val_mae: 309.2758\n",
            "Epoch 23/30\n",
            "\u001b[1m516/516\u001b[0m \u001b[32m━━━━━━━━━━━━━━━━━━━━\u001b[0m\u001b[37m\u001b[0m \u001b[1m3s\u001b[0m 3ms/step - loss: 1542.0457 - mae: 0.7236 - val_loss: 5270866944.0000 - val_mae: 1130.4453\n",
            "Epoch 24/30\n",
            "\u001b[1m516/516\u001b[0m \u001b[32m━━━━━━━━━━━━━━━━━━━━\u001b[0m\u001b[37m\u001b[0m \u001b[1m4s\u001b[0m 5ms/step - loss: 5466.7310 - mae: 0.9129 - val_loss: 22471026.0000 - val_mae: 74.2435\n",
            "Epoch 25/30\n",
            "\u001b[1m516/516\u001b[0m \u001b[32m━━━━━━━━━━━━━━━━━━━━\u001b[0m\u001b[37m\u001b[0m \u001b[1m1s\u001b[0m 3ms/step - loss: 5351.0361 - mae: 1.0122 - val_loss: 157296608.0000 - val_mae: 195.6599\n",
            "Epoch 26/30\n",
            "\u001b[1m516/516\u001b[0m \u001b[32m━━━━━━━━━━━━━━━━━━━━\u001b[0m\u001b[37m\u001b[0m \u001b[1m1s\u001b[0m 3ms/step - loss: 21.8632 - mae: 0.5546 - val_loss: 150490224.0000 - val_mae: 191.3836\n",
            "Epoch 27/30\n",
            "\u001b[1m516/516\u001b[0m \u001b[32m━━━━━━━━━━━━━━━━━━━━\u001b[0m\u001b[37m\u001b[0m \u001b[1m3s\u001b[0m 3ms/step - loss: 81.4721 - mae: 0.5665 - val_loss: 133499296.0000 - val_mae: 180.2877\n",
            "Epoch 28/30\n",
            "\u001b[1m516/516\u001b[0m \u001b[32m━━━━━━━━━━━━━━━━━━━━\u001b[0m\u001b[37m\u001b[0m \u001b[1m2s\u001b[0m 3ms/step - loss: 284.8171 - mae: 0.6422 - val_loss: 149124896.0000 - val_mae: 190.5295\n",
            "Epoch 29/30\n",
            "\u001b[1m516/516\u001b[0m \u001b[32m━━━━━━━━━━━━━━━━━━━━\u001b[0m\u001b[37m\u001b[0m \u001b[1m3s\u001b[0m 3ms/step - loss: 47.2089 - mae: 0.5371 - val_loss: 189184272.0000 - val_mae: 214.5324\n",
            "Epoch 30/30\n",
            "\u001b[1m516/516\u001b[0m \u001b[32m━━━━━━━━━━━━━━━━━━━━\u001b[0m\u001b[37m\u001b[0m \u001b[1m2s\u001b[0m 5ms/step - loss: 203.9171 - mae: 0.6495 - val_loss: 107182568.0000 - val_mae: 161.5837\n"
          ]
        }
      ]
    },
    {
      "cell_type": "code",
      "source": [
        "# Step 5: Plot Loss\n",
        "plt.plot(history.history['loss'], label='Train Loss')\n",
        "plt.plot(history.history['val_loss'], label='Val Loss')\n",
        "plt.title(\"Custom Layers: MyDense + GaussianNoise + Exponential\")\n",
        "plt.xlabel(\"Epoch\")\n",
        "plt.ylabel(\"MSE Loss\")\n",
        "plt.grid(True)\n",
        "plt.legend()\n",
        "plt.show()"
      ],
      "metadata": {
        "colab": {
          "base_uri": "https://localhost:8080/",
          "height": 487
        },
        "id": "zknKdDMGopOz",
        "outputId": "6a50499a-89b1-4f79-c5b4-27d536c00e04"
      },
      "execution_count": 8,
      "outputs": [
        {
          "output_type": "display_data",
          "data": {
            "text/plain": [
              "<Figure size 640x480 with 1 Axes>"
            ],
            "image/png": "[encoded data removed]"
          },
          "metadata": {}
        }
      ]
    }
  ]
}