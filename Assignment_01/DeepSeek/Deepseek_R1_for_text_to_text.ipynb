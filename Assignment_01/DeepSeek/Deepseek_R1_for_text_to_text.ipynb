{
  "nbformat": 4,
  "nbformat_minor": 0,
  "metadata": {
    "colab": {
      "provenance": [],
      "gpuType": "T4",
      "authorship_tag": "ABX9TyNXq6p4TDBQMG3lP6cS9Fw4",
      "include_colab_link": true
    },
    "kernelspec": {
      "name": "python3",
      "display_name": "Python 3"
    },
    "language_info": {
      "name": "python"
    },
    "accelerator": "GPU",
    "widgets": {
      "application/vnd.jupyter.widget-state+json": {
        "8c048ecee18c423aa98466b3e4d547e0": {
          "model_module": "@jupyter-widgets/controls",
          "model_name": "HBoxModel",
          "model_module_version": "1.5.0",
          "state": {
            "_dom_classes": [],
            "_model_module": "@jupyter-widgets/controls",
            "_model_module_version": "1.5.0",
            "_model_name": "HBoxModel",
            "_view_count": null,
            "_view_module": "@jupyter-widgets/controls",
            "_view_module_version": "1.5.0",
            "_view_name": "HBoxView",
            "box_style": "",
            "children": [
              "IPY_MODEL_faece77588ab472c9d9ae6c2c61e24b6",
              "IPY_MODEL_b3996430533543ee96d1b7e422053e8c",
              "IPY_MODEL_03195f2aa4d34b4faf08cd11b24f619f"
            ],
            "layout": "IPY_MODEL_daf48edea4634d42b9da91273ef597b7"
          }
        },
        "faece77588ab472c9d9ae6c2c61e24b6": {
          "model_module": "@jupyter-widgets/controls",
          "model_name": "HTMLModel",
          "model_module_version": "1.5.0",
          "state": {
            "_dom_classes": [],
            "_model_module": "@jupyter-widgets/controls",
            "_model_module_version": "1.5.0",
            "_model_name": "HTMLModel",
            "_view_count": null,
            "_view_module": "@jupyter-widgets/controls",
            "_view_module_version": "1.5.0",
            "_view_name": "HTMLView",
            "description": "",
            "description_tooltip": null,
            "layout": "IPY_MODEL_12a102bdf77544eba831890330fcb7f0",
            "placeholder": "​",
            "style": "IPY_MODEL_9fb0802674f04b6aa633443bb7ed27c6",
            "value": "model.safetensors: 100%"
          }
        },
        "b3996430533543ee96d1b7e422053e8c": {
          "model_module": "@jupyter-widgets/controls",
          "model_name": "FloatProgressModel",
          "model_module_version": "1.5.0",
          "state": {
            "_dom_classes": [],
            "_model_module": "@jupyter-widgets/controls",
            "_model_module_version": "1.5.0",
            "_model_name": "FloatProgressModel",
            "_view_count": null,
            "_view_module": "@jupyter-widgets/controls",
            "_view_module_version": "1.5.0",
            "_view_name": "ProgressView",
            "bar_style": "success",
            "description": "",
            "description_tooltip": null,
            "layout": "IPY_MODEL_7f3395d121454989afb7b7a589e96574",
            "max": 3554214621,
            "min": 0,
            "orientation": "horizontal",
            "style": "IPY_MODEL_d51af73d7a2744be99c98a66c67a1d64",
            "value": 3554214621
          }
        },
        "03195f2aa4d34b4faf08cd11b24f619f": {
          "model_module": "@jupyter-widgets/controls",
          "model_name": "HTMLModel",
          "model_module_version": "1.5.0",
          "state": {
            "_dom_classes": [],
            "_model_module": "@jupyter-widgets/controls",
            "_model_module_version": "1.5.0",
            "_model_name": "HTMLModel",
            "_view_count": null,
            "_view_module": "@jupyter-widgets/controls",
            "_view_module_version": "1.5.0",
            "_view_name": "HTMLView",
            "description": "",
            "description_tooltip": null,
            "layout": "IPY_MODEL_4daf0458ae2346db9e3b2adacc9ff0e1",
            "placeholder": "​",
            "style": "IPY_MODEL_c735a609304d4d55aaa6125cca0bd218",
            "value": " 3.55G/3.55G [01:24&lt;00:00, 42.5MB/s]"
          }
        },
        "daf48edea4634d42b9da91273ef597b7": {
          "model_module": "@jupyter-widgets/base",
          "model_name": "LayoutModel",
          "model_module_version": "1.2.0",
          "state": {
            "_model_module": "@jupyter-widgets/base",
            "_model_module_version": "1.2.0",
            "_model_name": "LayoutModel",
            "_view_count": null,
            "_view_module": "@jupyter-widgets/base",
            "_view_module_version": "1.2.0",
            "_view_name": "LayoutView",
            "align_content": null,
            "align_items": null,
            "align_self": null,
            "border": null,
            "bottom": null,
            "display": null,
            "flex": null,
            "flex_flow": null,
            "grid_area": null,
            "grid_auto_columns": null,
            "grid_auto_flow": null,
            "grid_auto_rows": null,
            "grid_column": null,
            "grid_gap": null,
            "grid_row": null,
            "grid_template_areas": null,
            "grid_template_columns": null,
            "grid_template_rows": null,
            "height": null,
            "justify_content": null,
            "justify_items": null,
            "left": null,
            "margin": null,
            "max_height": null,
            "max_width": null,
            "min_height": null,
            "min_width": null,
            "object_fit": null,
            "object_position": null,
            "order": null,
            "overflow": null,
            "overflow_x": null,
            "overflow_y": null,
            "padding": null,
            "right": null,
            "top": null,
            "visibility": null,
            "width": null
          }
        },
        "12a102bdf77544eba831890330fcb7f0": {
          "model_module": "@jupyter-widgets/base",
          "model_name": "LayoutModel",
          "model_module_version": "1.2.0",
          "state": {
            "_model_module": "@jupyter-widgets/base",
            "_model_module_version": "1.2.0",
            "_model_name": "LayoutModel",
            "_view_count": null,
            "_view_module": "@jupyter-widgets/base",
            "_view_module_version": "1.2.0",
            "_view_name": "LayoutView",
            "align_content": null,
            "align_items": null,
            "align_self": null,
            "border": null,
            "bottom": null,
            "display": null,
            "flex": null,
            "flex_flow": null,
            "grid_area": null,
            "grid_auto_columns": null,
            "grid_auto_flow": null,
            "grid_auto_rows": null,
            "grid_column": null,
            "grid_gap": null,
            "grid_row": null,
            "grid_template_areas": null,
            "grid_template_columns": null,
            "grid_template_rows": null,
            "height": null,
            "justify_content": null,
            "justify_items": null,
            "left": null,
            "margin": null,
            "max_height": null,
            "max_width": null,
            "min_height": null,
            "min_width": null,
            "object_fit": null,
            "object_position": null,
            "order": null,
            "overflow": null,
            "overflow_x": null,
            "overflow_y": null,
            "padding": null,
            "right": null,
            "top": null,
            "visibility": null,
            "width": null
          }
        },
        "9fb0802674f04b6aa633443bb7ed27c6": {
          "model_module": "@jupyter-widgets/controls",
          "model_name": "DescriptionStyleModel",
          "model_module_version": "1.5.0",
          "state": {
            "_model_module": "@jupyter-widgets/controls",
            "_model_module_version": "1.5.0",
            "_model_name": "DescriptionStyleModel",
            "_view_count": null,
            "_view_module": "@jupyter-widgets/base",
            "_view_module_version": "1.2.0",
            "_view_name": "StyleView",
            "description_width": ""
          }
        },
        "7f3395d121454989afb7b7a589e96574": {
          "model_module": "@jupyter-widgets/base",
          "model_name": "LayoutModel",
          "model_module_version": "1.2.0",
          "state": {
            "_model_module": "@jupyter-widgets/base",
            "_model_module_version": "1.2.0",
            "_model_name": "LayoutModel",
            "_view_count": null,
            "_view_module": "@jupyter-widgets/base",
            "_view_module_version": "1.2.0",
            "_view_name": "LayoutView",
            "align_content": null,
            "align_items": null,
            "align_self": null,
            "border": null,
            "bottom": null,
            "display": null,
            "flex": null,
            "flex_flow": null,
            "grid_area": null,
            "grid_auto_columns": null,
            "grid_auto_flow": null,
            "grid_auto_rows": null,
            "grid_column": null,
            "grid_gap": null,
            "grid_row": null,
            "grid_template_areas": null,
            "grid_template_columns": null,
            "grid_template_rows": null,
            "height": null,
            "justify_content": null,
            "justify_items": null,
            "left": null,
            "margin": null,
            "max_height": null,
            "max_width": null,
            "min_height": null,
            "min_width": null,
            "object_fit": null,
            "object_position": null,
            "order": null,
            "overflow": null,
            "overflow_x": null,
            "overflow_y": null,
            "padding": null,
            "right": null,
            "top": null,
            "visibility": null,
            "width": null
          }
        },
        "d51af73d7a2744be99c98a66c67a1d64": {
          "model_module": "@jupyter-widgets/controls",
          "model_name": "ProgressStyleModel",
          "model_module_version": "1.5.0",
          "state": {
            "_model_module": "@jupyter-widgets/controls",
            "_model_module_version": "1.5.0",
            "_model_name": "ProgressStyleModel",
            "_view_count": null,
            "_view_module": "@jupyter-widgets/base",
            "_view_module_version": "1.2.0",
            "_view_name": "StyleView",
            "bar_color": null,
            "description_width": ""
          }
        },
        "4daf0458ae2346db9e3b2adacc9ff0e1": {
          "model_module": "@jupyter-widgets/base",
          "model_name": "LayoutModel",
          "model_module_version": "1.2.0",
          "state": {
            "_model_module": "@jupyter-widgets/base",
            "_model_module_version": "1.2.0",
            "_model_name": "LayoutModel",
            "_view_count": null,
            "_view_module": "@jupyter-widgets/base",
            "_view_module_version": "1.2.0",
            "_view_name": "LayoutView",
            "align_content": null,
            "align_items": null,
            "align_self": null,
            "border": null,
            "bottom": null,
            "display": null,
            "flex": null,
            "flex_flow": null,
            "grid_area": null,
            "grid_auto_columns": null,
            "grid_auto_flow": null,
            "grid_auto_rows": null,
            "grid_column": null,
            "grid_gap": null,
            "grid_row": null,
            "grid_template_areas": null,
            "grid_template_columns": null,
            "grid_template_rows": null,
            "height": null,
            "justify_content": null,
            "justify_items": null,
            "left": null,
            "margin": null,
            "max_height": null,
            "max_width": null,
            "min_height": null,
            "min_width": null,
            "object_fit": null,
            "object_position": null,
            "order": null,
            "overflow": null,
            "overflow_x": null,
            "overflow_y": null,
            "padding": null,
            "right": null,
            "top": null,
            "visibility": null,
            "width": null
          }
        },
        "c735a609304d4d55aaa6125cca0bd218": {
          "model_module": "@jupyter-widgets/controls",
          "model_name": "DescriptionStyleModel",
          "model_module_version": "1.5.0",
          "state": {
            "_model_module": "@jupyter-widgets/controls",
            "_model_module_version": "1.5.0",
            "_model_name": "DescriptionStyleModel",
            "_view_count": null,
            "_view_module": "@jupyter-widgets/base",
            "_view_module_version": "1.2.0",
            "_view_name": "StyleView",
            "description_width": ""
          }
        },
        "d652bb5cc9d14c86b7ed7e8a46a06dae": {
          "model_module": "@jupyter-widgets/controls",
          "model_name": "HBoxModel",
          "model_module_version": "1.5.0",
          "state": {
            "_dom_classes": [],
            "_model_module": "@jupyter-widgets/controls",
            "_model_module_version": "1.5.0",
            "_model_name": "HBoxModel",
            "_view_count": null,
            "_view_module": "@jupyter-widgets/controls",
            "_view_module_version": "1.5.0",
            "_view_name": "HBoxView",
            "box_style": "",
            "children": [
              "IPY_MODEL_8c82526fea9c467087cd410c1762670b",
              "IPY_MODEL_eadc2e119a374d2bba5113d1c49d4eda",
              "IPY_MODEL_a38dfb2a1c374995a1c7b712543320ff"
            ],
            "layout": "IPY_MODEL_3672016502da48b1ae374750193d3fbe"
          }
        },
        "8c82526fea9c467087cd410c1762670b": {
          "model_module": "@jupyter-widgets/controls",
          "model_name": "HTMLModel",
          "model_module_version": "1.5.0",
          "state": {
            "_dom_classes": [],
            "_model_module": "@jupyter-widgets/controls",
            "_model_module_version": "1.5.0",
            "_model_name": "HTMLModel",
            "_view_count": null,
            "_view_module": "@jupyter-widgets/controls",
            "_view_module_version": "1.5.0",
            "_view_name": "HTMLView",
            "description": "",
            "description_tooltip": null,
            "layout": "IPY_MODEL_96822703d544468391a3b93c86a69312",
            "placeholder": "​",
            "style": "IPY_MODEL_d4ecfd181f084231915b11941e519f1d",
            "value": "generation_config.json: 100%"
          }
        },
        "eadc2e119a374d2bba5113d1c49d4eda": {
          "model_module": "@jupyter-widgets/controls",
          "model_name": "FloatProgressModel",
          "model_module_version": "1.5.0",
          "state": {
            "_dom_classes": [],
            "_model_module": "@jupyter-widgets/controls",
            "_model_module_version": "1.5.0",
            "_model_name": "FloatProgressModel",
            "_view_count": null,
            "_view_module": "@jupyter-widgets/controls",
            "_view_module_version": "1.5.0",
            "_view_name": "ProgressView",
            "bar_style": "success",
            "description": "",
            "description_tooltip": null,
            "layout": "IPY_MODEL_896c312ab11c4752b914de401c495d4f",
            "max": 181,
            "min": 0,
            "orientation": "horizontal",
            "style": "IPY_MODEL_8cfc1e8f3ced4357beb42ccb74313c8e",
            "value": 181
          }
        },
        "a38dfb2a1c374995a1c7b712543320ff": {
          "model_module": "@jupyter-widgets/controls",
          "model_name": "HTMLModel",
          "model_module_version": "1.5.0",
          "state": {
            "_dom_classes": [],
            "_model_module": "@jupyter-widgets/controls",
            "_model_module_version": "1.5.0",
            "_model_name": "HTMLModel",
            "_view_count": null,
            "_view_module": "@jupyter-widgets/controls",
            "_view_module_version": "1.5.0",
            "_view_name": "HTMLView",
            "description": "",
            "description_tooltip": null,
            "layout": "IPY_MODEL_bfc42c1fe635476c854b40908730b0c0",
            "placeholder": "​",
            "style": "IPY_MODEL_4a18a6cc8971472d853c5406db21e928",
            "value": " 181/181 [00:00&lt;00:00, 15.4kB/s]"
          }
        },
        "3672016502da48b1ae374750193d3fbe": {
          "model_module": "@jupyter-widgets/base",
          "model_name": "LayoutModel",
          "model_module_version": "1.2.0",
          "state": {
            "_model_module": "@jupyter-widgets/base",
            "_model_module_version": "1.2.0",
            "_model_name": "LayoutModel",
            "_view_count": null,
            "_view_module": "@jupyter-widgets/base",
            "_view_module_version": "1.2.0",
            "_view_name": "LayoutView",
            "align_content": null,
            "align_items": null,
            "align_self": null,
            "border": null,
            "bottom": null,
            "display": null,
            "flex": null,
            "flex_flow": null,
            "grid_area": null,
            "grid_auto_columns": null,
            "grid_auto_flow": null,
            "grid_auto_rows": null,
            "grid_column": null,
            "grid_gap": null,
            "grid_row": null,
            "grid_template_areas": null,
            "grid_template_columns": null,
            "grid_template_rows": null,
            "height": null,
            "justify_content": null,
            "justify_items": null,
            "left": null,
            "margin": null,
            "max_height": null,
            "max_width": null,
            "min_height": null,
            "min_width": null,
            "object_fit": null,
            "object_position": null,
            "order": null,
            "overflow": null,
            "overflow_x": null,
            "overflow_y": null,
            "padding": null,
            "right": null,
            "top": null,
            "visibility": null,
            "width": null
          }
        },
        "96822703d544468391a3b93c86a69312": {
          "model_module": "@jupyter-widgets/base",
          "model_name": "LayoutModel",
          "model_module_version": "1.2.0",
          "state": {
            "_model_module": "@jupyter-widgets/base",
            "_model_module_version": "1.2.0",
            "_model_name": "LayoutModel",
            "_view_count": null,
            "_view_module": "@jupyter-widgets/base",
            "_view_module_version": "1.2.0",
            "_view_name": "LayoutView",
            "align_content": null,
            "align_items": null,
            "align_self": null,
            "border": null,
            "bottom": null,
            "display": null,
            "flex": null,
            "flex_flow": null,
            "grid_area": null,
            "grid_auto_columns": null,
            "grid_auto_flow": null,
            "grid_auto_rows": null,
            "grid_column": null,
            "grid_gap": null,
            "grid_row": null,
            "grid_template_areas": null,
            "grid_template_columns": null,
            "grid_template_rows": null,
            "height": null,
            "justify_content": null,
            "justify_items": null,
            "left": null,
            "margin": null,
            "max_height": null,
            "max_width": null,
            "min_height": null,
            "min_width": null,
            "object_fit": null,
            "object_position": null,
            "order": null,
            "overflow": null,
            "overflow_x": null,
            "overflow_y": null,
            "padding": null,
            "right": null,
            "top": null,
            "visibility": null,
            "width": null
          }
        },
        "d4ecfd181f084231915b11941e519f1d": {
          "model_module": "@jupyter-widgets/controls",
          "model_name": "DescriptionStyleModel",
          "model_module_version": "1.5.0",
          "state": {
            "_model_module": "@jupyter-widgets/controls",
            "_model_module_version": "1.5.0",
            "_model_name": "DescriptionStyleModel",
            "_view_count": null,
            "_view_module": "@jupyter-widgets/base",
            "_view_module_version": "1.2.0",
            "_view_name": "StyleView",
            "description_width": ""
          }
        },
        "896c312ab11c4752b914de401c495d4f": {
          "model_module": "@jupyter-widgets/base",
          "model_name": "LayoutModel",
          "model_module_version": "1.2.0",
          "state": {
            "_model_module": "@jupyter-widgets/base",
            "_model_module_version": "1.2.0",
            "_model_name": "LayoutModel",
            "_view_count": null,
            "_view_module": "@jupyter-widgets/base",
            "_view_module_version": "1.2.0",
            "_view_name": "LayoutView",
            "align_content": null,
            "align_items": null,
            "align_self": null,
            "border": null,
            "bottom": null,
            "display": null,
            "flex": null,
            "flex_flow": null,
            "grid_area": null,
            "grid_auto_columns": null,
            "grid_auto_flow": null,
            "grid_auto_rows": null,
            "grid_column": null,
            "grid_gap": null,
            "grid_row": null,
            "grid_template_areas": null,
            "grid_template_columns": null,
            "grid_template_rows": null,
            "height": null,
            "justify_content": null,
            "justify_items": null,
            "left": null,
            "margin": null,
            "max_height": null,
            "max_width": null,
            "min_height": null,
            "min_width": null,
            "object_fit": null,
            "object_position": null,
            "order": null,
            "overflow": null,
            "overflow_x": null,
            "overflow_y": null,
            "padding": null,
            "right": null,
            "top": null,
            "visibility": null,
            "width": null
          }
        },
        "8cfc1e8f3ced4357beb42ccb74313c8e": {
          "model_module": "@jupyter-widgets/controls",
          "model_name": "ProgressStyleModel",
          "model_module_version": "1.5.0",
          "state": {
            "_model_module": "@jupyter-widgets/controls",
            "_model_module_version": "1.5.0",
            "_model_name": "ProgressStyleModel",
            "_view_count": null,
            "_view_module": "@jupyter-widgets/base",
            "_view_module_version": "1.2.0",
            "_view_name": "StyleView",
            "bar_color": null,
            "description_width": ""
          }
        },
        "bfc42c1fe635476c854b40908730b0c0": {
          "model_module": "@jupyter-widgets/base",
          "model_name": "LayoutModel",
          "model_module_version": "1.2.0",
          "state": {
            "_model_module": "@jupyter-widgets/base",
            "_model_module_version": "1.2.0",
            "_model_name": "LayoutModel",
            "_view_count": null,
            "_view_module": "@jupyter-widgets/base",
            "_view_module_version": "1.2.0",
            "_view_name": "LayoutView",
            "align_content": null,
            "align_items": null,
            "align_self": null,
            "border": null,
            "bottom": null,
            "display": null,
            "flex": null,
            "flex_flow": null,
            "grid_area": null,
            "grid_auto_columns": null,
            "grid_auto_flow": null,
            "grid_auto_rows": null,
            "grid_column": null,
            "grid_gap": null,
            "grid_row": null,
            "grid_template_areas": null,
            "grid_template_columns": null,
            "grid_template_rows": null,
            "height": null,
            "justify_content": null,
            "justify_items": null,
            "left": null,
            "margin": null,
            "max_height": null,
            "max_width": null,
            "min_height": null,
            "min_width": null,
            "object_fit": null,
            "object_position": null,
            "order": null,
            "overflow": null,
            "overflow_x": null,
            "overflow_y": null,
            "padding": null,
            "right": null,
            "top": null,
            "visibility": null,
            "width": null
          }
        },
        "4a18a6cc8971472d853c5406db21e928": {
          "model_module": "@jupyter-widgets/controls",
          "model_name": "DescriptionStyleModel",
          "model_module_version": "1.5.0",
          "state": {
            "_model_module": "@jupyter-widgets/controls",
            "_model_module_version": "1.5.0",
            "_model_name": "DescriptionStyleModel",
            "_view_count": null,
            "_view_module": "@jupyter-widgets/base",
            "_view_module_version": "1.2.0",
            "_view_name": "StyleView",
            "description_width": ""
          }
        },
        "bc7a422a00164d7b9aa59fae5cf33e18": {
          "model_module": "@jupyter-widgets/controls",
          "model_name": "HBoxModel",
          "model_module_version": "1.5.0",
          "state": {
            "_dom_classes": [],
            "_model_module": "@jupyter-widgets/controls",
            "_model_module_version": "1.5.0",
            "_model_name": "HBoxModel",
            "_view_count": null,
            "_view_module": "@jupyter-widgets/controls",
            "_view_module_version": "1.5.0",
            "_view_name": "HBoxView",
            "box_style": "",
            "children": [
              "IPY_MODEL_2f0850fda613439d83e010474a4719ff",
              "IPY_MODEL_449582ba3d0d4e65b89893259f460455",
              "IPY_MODEL_b24968cb255a438bbf7126775b4b230a"
            ],
            "layout": "IPY_MODEL_da89b93453c747f7a787a2a232d54138"
          }
        },
        "2f0850fda613439d83e010474a4719ff": {
          "model_module": "@jupyter-widgets/controls",
          "model_name": "HTMLModel",
          "model_module_version": "1.5.0",
          "state": {
            "_dom_classes": [],
            "_model_module": "@jupyter-widgets/controls",
            "_model_module_version": "1.5.0",
            "_model_name": "HTMLModel",
            "_view_count": null,
            "_view_module": "@jupyter-widgets/controls",
            "_view_module_version": "1.5.0",
            "_view_name": "HTMLView",
            "description": "",
            "description_tooltip": null,
            "layout": "IPY_MODEL_3ad677ccdf1c4d3bb91d892a1eeeaa00",
            "placeholder": "​",
            "style": "IPY_MODEL_52f4653db3074c32a4e6e7dd8b472fdf",
            "value": "tokenizer_config.json: 100%"
          }
        },
        "449582ba3d0d4e65b89893259f460455": {
          "model_module": "@jupyter-widgets/controls",
          "model_name": "FloatProgressModel",
          "model_module_version": "1.5.0",
          "state": {
            "_dom_classes": [],
            "_model_module": "@jupyter-widgets/controls",
            "_model_module_version": "1.5.0",
            "_model_name": "FloatProgressModel",
            "_view_count": null,
            "_view_module": "@jupyter-widgets/controls",
            "_view_module_version": "1.5.0",
            "_view_name": "ProgressView",
            "bar_style": "success",
            "description": "",
            "description_tooltip": null,
            "layout": "IPY_MODEL_66f8c993d0ff449693783b1a800c099c",
            "max": 3061,
            "min": 0,
            "orientation": "horizontal",
            "style": "IPY_MODEL_dcb9dd53247e467fbdf86ee3c98c0c9d",
            "value": 3061
          }
        },
        "b24968cb255a438bbf7126775b4b230a": {
          "model_module": "@jupyter-widgets/controls",
          "model_name": "HTMLModel",
          "model_module_version": "1.5.0",
          "state": {
            "_dom_classes": [],
            "_model_module": "@jupyter-widgets/controls",
            "_model_module_version": "1.5.0",
            "_model_name": "HTMLModel",
            "_view_count": null,
            "_view_module": "@jupyter-widgets/controls",
            "_view_module_version": "1.5.0",
            "_view_name": "HTMLView",
            "description": "",
            "description_tooltip": null,
            "layout": "IPY_MODEL_2bcb9b7d2bb3442687839d265fac2583",
            "placeholder": "​",
            "style": "IPY_MODEL_61e35833512f4990888586b7ea3010d1",
            "value": " 3.06k/3.06k [00:00&lt;00:00, 222kB/s]"
          }
        },
        "da89b93453c747f7a787a2a232d54138": {
          "model_module": "@jupyter-widgets/base",
          "model_name": "LayoutModel",
          "model_module_version": "1.2.0",
          "state": {
            "_model_module": "@jupyter-widgets/base",
            "_model_module_version": "1.2.0",
            "_model_name": "LayoutModel",
            "_view_count": null,
            "_view_module": "@jupyter-widgets/base",
            "_view_module_version": "1.2.0",
            "_view_name": "LayoutView",
            "align_content": null,
            "align_items": null,
            "align_self": null,
            "border": null,
            "bottom": null,
            "display": null,
            "flex": null,
            "flex_flow": null,
            "grid_area": null,
            "grid_auto_columns": null,
            "grid_auto_flow": null,
            "grid_auto_rows": null,
            "grid_column": null,
            "grid_gap": null,
            "grid_row": null,
            "grid_template_areas": null,
            "grid_template_columns": null,
            "grid_template_rows": null,
            "height": null,
            "justify_content": null,
            "justify_items": null,
            "left": null,
            "margin": null,
            "max_height": null,
            "max_width": null,
            "min_height": null,
            "min_width": null,
            "object_fit": null,
            "object_position": null,
            "order": null,
            "overflow": null,
            "overflow_x": null,
            "overflow_y": null,
            "padding": null,
            "right": null,
            "top": null,
            "visibility": null,
            "width": null
          }
        },
        "3ad677ccdf1c4d3bb91d892a1eeeaa00": {
          "model_module": "@jupyter-widgets/base",
          "model_name": "LayoutModel",
          "model_module_version": "1.2.0",
          "state": {
            "_model_module": "@jupyter-widgets/base",
            "_model_module_version": "1.2.0",
            "_model_name": "LayoutModel",
            "_view_count": null,
            "_view_module": "@jupyter-widgets/base",
            "_view_module_version": "1.2.0",
            "_view_name": "LayoutView",
            "align_content": null,
            "align_items": null,
            "align_self": null,
            "border": null,
            "bottom": null,
            "display": null,
            "flex": null,
            "flex_flow": null,
            "grid_area": null,
            "grid_auto_columns": null,
            "grid_auto_flow": null,
            "grid_auto_rows": null,
            "grid_column": null,
            "grid_gap": null,
            "grid_row": null,
            "grid_template_areas": null,
            "grid_template_columns": null,
            "grid_template_rows": null,
            "height": null,
            "justify_content": null,
            "justify_items": null,
            "left": null,
            "margin": null,
            "max_height": null,
            "max_width": null,
            "min_height": null,
            "min_width": null,
            "object_fit": null,
            "object_position": null,
            "order": null,
            "overflow": null,
            "overflow_x": null,
            "overflow_y": null,
            "padding": null,
            "right": null,
            "top": null,
            "visibility": null,
            "width": null
          }
        },
        "52f4653db3074c32a4e6e7dd8b472fdf": {
          "model_module": "@jupyter-widgets/controls",
          "model_name": "DescriptionStyleModel",
          "model_module_version": "1.5.0",
          "state": {
            "_model_module": "@jupyter-widgets/controls",
            "_model_module_version": "1.5.0",
            "_model_name": "DescriptionStyleModel",
            "_view_count": null,
            "_view_module": "@jupyter-widgets/base",
            "_view_module_version": "1.2.0",
            "_view_name": "StyleView",
            "description_width": ""
          }
        },
        "66f8c993d0ff449693783b1a800c099c": {
          "model_module": "@jupyter-widgets/base",
          "model_name": "LayoutModel",
          "model_module_version": "1.2.0",
          "state": {
            "_model_module": "@jupyter-widgets/base",
            "_model_module_version": "1.2.0",
            "_model_name": "LayoutModel",
            "_view_count": null,
            "_view_module": "@jupyter-widgets/base",
            "_view_module_version": "1.2.0",
            "_view_name": "LayoutView",
            "align_content": null,
            "align_items": null,
            "align_self": null,
            "border": null,
            "bottom": null,
            "display": null,
            "flex": null,
            "flex_flow": null,
            "grid_area": null,
            "grid_auto_columns": null,
            "grid_auto_flow": null,
            "grid_auto_rows": null,
            "grid_column": null,
            "grid_gap": null,
            "grid_row": null,
            "grid_template_areas": null,
            "grid_template_columns": null,
            "grid_template_rows": null,
            "height": null,
            "justify_content": null,
            "justify_items": null,
            "left": null,
            "margin": null,
            "max_height": null,
            "max_width": null,
            "min_height": null,
            "min_width": null,
            "object_fit": null,
            "object_position": null,
            "order": null,
            "overflow": null,
            "overflow_x": null,
            "overflow_y": null,
            "padding": null,
            "right": null,
            "top": null,
            "visibility": null,
            "width": null
          }
        },
        "dcb9dd53247e467fbdf86ee3c98c0c9d": {
          "model_module": "@jupyter-widgets/controls",
          "model_name": "ProgressStyleModel",
          "model_module_version": "1.5.0",
          "state": {
            "_model_module": "@jupyter-widgets/controls",
            "_model_module_version": "1.5.0",
            "_model_name": "ProgressStyleModel",
            "_view_count": null,
            "_view_module": "@jupyter-widgets/base",
            "_view_module_version": "1.2.0",
            "_view_name": "StyleView",
            "bar_color": null,
            "description_width": ""
          }
        },
        "2bcb9b7d2bb3442687839d265fac2583": {
          "model_module": "@jupyter-widgets/base",
          "model_name": "LayoutModel",
          "model_module_version": "1.2.0",
          "state": {
            "_model_module": "@jupyter-widgets/base",
            "_model_module_version": "1.2.0",
            "_model_name": "LayoutModel",
            "_view_count": null,
            "_view_module": "@jupyter-widgets/base",
            "_view_module_version": "1.2.0",
            "_view_name": "LayoutView",
            "align_content": null,
            "align_items": null,
            "align_self": null,
            "border": null,
            "bottom": null,
            "display": null,
            "flex": null,
            "flex_flow": null,
            "grid_area": null,
            "grid_auto_columns": null,
            "grid_auto_flow": null,
            "grid_auto_rows": null,
            "grid_column": null,
            "grid_gap": null,
            "grid_row": null,
            "grid_template_areas": null,
            "grid_template_columns": null,
            "grid_template_rows": null,
            "height": null,
            "justify_content": null,
            "justify_items": null,
            "left": null,
            "margin": null,
            "max_height": null,
            "max_width": null,
            "min_height": null,
            "min_width": null,
            "object_fit": null,
            "object_position": null,
            "order": null,
            "overflow": null,
            "overflow_x": null,
            "overflow_y": null,
            "padding": null,
            "right": null,
            "top": null,
            "visibility": null,
            "width": null
          }
        },
        "61e35833512f4990888586b7ea3010d1": {
          "model_module": "@jupyter-widgets/controls",
          "model_name": "DescriptionStyleModel",
          "model_module_version": "1.5.0",
          "state": {
            "_model_module": "@jupyter-widgets/controls",
            "_model_module_version": "1.5.0",
            "_model_name": "DescriptionStyleModel",
            "_view_count": null,
            "_view_module": "@jupyter-widgets/base",
            "_view_module_version": "1.2.0",
            "_view_name": "StyleView",
            "description_width": ""
          }
        },
        "2cfd49c4479a47a68eada1cd99c9069a": {
          "model_module": "@jupyter-widgets/controls",
          "model_name": "HBoxModel",
          "model_module_version": "1.5.0",
          "state": {
            "_dom_classes": [],
            "_model_module": "@jupyter-widgets/controls",
            "_model_module_version": "1.5.0",
            "_model_name": "HBoxModel",
            "_view_count": null,
            "_view_module": "@jupyter-widgets/controls",
            "_view_module_version": "1.5.0",
            "_view_name": "HBoxView",
            "box_style": "",
            "children": [
              "IPY_MODEL_6fecfb0bb03849098ff65b3f4aa0a377",
              "IPY_MODEL_8b29c34919d641699a010ba207bd1cce",
              "IPY_MODEL_a955935fef874b8fb8e17ac68c917453"
            ],
            "layout": "IPY_MODEL_3d83551217a34da2bccd566783a56bb5"
          }
        },
        "6fecfb0bb03849098ff65b3f4aa0a377": {
          "model_module": "@jupyter-widgets/controls",
          "model_name": "HTMLModel",
          "model_module_version": "1.5.0",
          "state": {
            "_dom_classes": [],
            "_model_module": "@jupyter-widgets/controls",
            "_model_module_version": "1.5.0",
            "_model_name": "HTMLModel",
            "_view_count": null,
            "_view_module": "@jupyter-widgets/controls",
            "_view_module_version": "1.5.0",
            "_view_name": "HTMLView",
            "description": "",
            "description_tooltip": null,
            "layout": "IPY_MODEL_c1ac525b2c10493381b50f01fceffb69",
            "placeholder": "​",
            "style": "IPY_MODEL_6c202bb0898841379edda2cbd411ad56",
            "value": "tokenizer.json: 100%"
          }
        },
        "8b29c34919d641699a010ba207bd1cce": {
          "model_module": "@jupyter-widgets/controls",
          "model_name": "FloatProgressModel",
          "model_module_version": "1.5.0",
          "state": {
            "_dom_classes": [],
            "_model_module": "@jupyter-widgets/controls",
            "_model_module_version": "1.5.0",
            "_model_name": "FloatProgressModel",
            "_view_count": null,
            "_view_module": "@jupyter-widgets/controls",
            "_view_module_version": "1.5.0",
            "_view_name": "ProgressView",
            "bar_style": "success",
            "description": "",
            "description_tooltip": null,
            "layout": "IPY_MODEL_84deda48a3264632b5d8de716893069e",
            "max": 7031660,
            "min": 0,
            "orientation": "horizontal",
            "style": "IPY_MODEL_7f15b9d8911e467fbb82c08f04ff231e",
            "value": 7031660
          }
        },
        "a955935fef874b8fb8e17ac68c917453": {
          "model_module": "@jupyter-widgets/controls",
          "model_name": "HTMLModel",
          "model_module_version": "1.5.0",
          "state": {
            "_dom_classes": [],
            "_model_module": "@jupyter-widgets/controls",
            "_model_module_version": "1.5.0",
            "_model_name": "HTMLModel",
            "_view_count": null,
            "_view_module": "@jupyter-widgets/controls",
            "_view_module_version": "1.5.0",
            "_view_name": "HTMLView",
            "description": "",
            "description_tooltip": null,
            "layout": "IPY_MODEL_cbda3d1d19374e8384d7b830b9428016",
            "placeholder": "​",
            "style": "IPY_MODEL_181c9a90494f4f7ba813e37e6b089ae3",
            "value": " 7.03M/7.03M [00:00&lt;00:00, 17.8MB/s]"
          }
        },
        "3d83551217a34da2bccd566783a56bb5": {
          "model_module": "@jupyter-widgets/base",
          "model_name": "LayoutModel",
          "model_module_version": "1.2.0",
          "state": {
            "_model_module": "@jupyter-widgets/base",
            "_model_module_version": "1.2.0",
            "_model_name": "LayoutModel",
            "_view_count": null,
            "_view_module": "@jupyter-widgets/base",
            "_view_module_version": "1.2.0",
            "_view_name": "LayoutView",
            "align_content": null,
            "align_items": null,
            "align_self": null,
            "border": null,
            "bottom": null,
            "display": null,
            "flex": null,
            "flex_flow": null,
            "grid_area": null,
            "grid_auto_columns": null,
            "grid_auto_flow": null,
            "grid_auto_rows": null,
            "grid_column": null,
            "grid_gap": null,
            "grid_row": null,
            "grid_template_areas": null,
            "grid_template_columns": null,
            "grid_template_rows": null,
            "height": null,
            "justify_content": null,
            "justify_items": null,
            "left": null,
            "margin": null,
            "max_height": null,
            "max_width": null,
            "min_height": null,
            "min_width": null,
            "object_fit": null,
            "object_position": null,
            "order": null,
            "overflow": null,
            "overflow_x": null,
            "overflow_y": null,
            "padding": null,
            "right": null,
            "top": null,
            "visibility": null,
            "width": null
          }
        },
        "c1ac525b2c10493381b50f01fceffb69": {
          "model_module": "@jupyter-widgets/base",
          "model_name": "LayoutModel",
          "model_module_version": "1.2.0",
          "state": {
            "_model_module": "@jupyter-widgets/base",
            "_model_module_version": "1.2.0",
            "_model_name": "LayoutModel",
            "_view_count": null,
            "_view_module": "@jupyter-widgets/base",
            "_view_module_version": "1.2.0",
            "_view_name": "LayoutView",
            "align_content": null,
            "align_items": null,
            "align_self": null,
            "border": null,
            "bottom": null,
            "display": null,
            "flex": null,
            "flex_flow": null,
            "grid_area": null,
            "grid_auto_columns": null,
            "grid_auto_flow": null,
            "grid_auto_rows": null,
            "grid_column": null,
            "grid_gap": null,
            "grid_row": null,
            "grid_template_areas": null,
            "grid_template_columns": null,
            "grid_template_rows": null,
            "height": null,
            "justify_content": null,
            "justify_items": null,
            "left": null,
            "margin": null,
            "max_height": null,
            "max_width": null,
            "min_height": null,
            "min_width": null,
            "object_fit": null,
            "object_position": null,
            "order": null,
            "overflow": null,
            "overflow_x": null,
            "overflow_y": null,
            "padding": null,
            "right": null,
            "top": null,
            "visibility": null,
            "width": null
          }
        },
        "6c202bb0898841379edda2cbd411ad56": {
          "model_module": "@jupyter-widgets/controls",
          "model_name": "DescriptionStyleModel",
          "model_module_version": "1.5.0",
          "state": {
            "_model_module": "@jupyter-widgets/controls",
            "_model_module_version": "1.5.0",
            "_model_name": "DescriptionStyleModel",
            "_view_count": null,
            "_view_module": "@jupyter-widgets/base",
            "_view_module_version": "1.2.0",
            "_view_name": "StyleView",
            "description_width": ""
          }
        },
        "84deda48a3264632b5d8de716893069e": {
          "model_module": "@jupyter-widgets/base",
          "model_name": "LayoutModel",
          "model_module_version": "1.2.0",
          "state": {
            "_model_module": "@jupyter-widgets/base",
            "_model_module_version": "1.2.0",
            "_model_name": "LayoutModel",
            "_view_count": null,
            "_view_module": "@jupyter-widgets/base",
            "_view_module_version": "1.2.0",
            "_view_name": "LayoutView",
            "align_content": null,
            "align_items": null,
            "align_self": null,
            "border": null,
            "bottom": null,
            "display": null,
            "flex": null,
            "flex_flow": null,
            "grid_area": null,
            "grid_auto_columns": null,
            "grid_auto_flow": null,
            "grid_auto_rows": null,
            "grid_column": null,
            "grid_gap": null,
            "grid_row": null,
            "grid_template_areas": null,
            "grid_template_columns": null,
            "grid_template_rows": null,
            "height": null,
            "justify_content": null,
            "justify_items": null,
            "left": null,
            "margin": null,
            "max_height": null,
            "max_width": null,
            "min_height": null,
            "min_width": null,
            "object_fit": null,
            "object_position": null,
            "order": null,
            "overflow": null,
            "overflow_x": null,
            "overflow_y": null,
            "padding": null,
            "right": null,
            "top": null,
            "visibility": null,
            "width": null
          }
        },
        "7f15b9d8911e467fbb82c08f04ff231e": {
          "model_module": "@jupyter-widgets/controls",
          "model_name": "ProgressStyleModel",
          "model_module_version": "1.5.0",
          "state": {
            "_model_module": "@jupyter-widgets/controls",
            "_model_module_version": "1.5.0",
            "_model_name": "ProgressStyleModel",
            "_view_count": null,
            "_view_module": "@jupyter-widgets/base",
            "_view_module_version": "1.2.0",
            "_view_name": "StyleView",
            "bar_color": null,
            "description_width": ""
          }
        },
        "cbda3d1d19374e8384d7b830b9428016": {
          "model_module": "@jupyter-widgets/base",
          "model_name": "LayoutModel",
          "model_module_version": "1.2.0",
          "state": {
            "_model_module": "@jupyter-widgets/base",
            "_model_module_version": "1.2.0",
            "_model_name": "LayoutModel",
            "_view_count": null,
            "_view_module": "@jupyter-widgets/base",
            "_view_module_version": "1.2.0",
            "_view_name": "LayoutView",
            "align_content": null,
            "align_items": null,
            "align_self": null,
            "border": null,
            "bottom": null,
            "display": null,
            "flex": null,
            "flex_flow": null,
            "grid_area": null,
            "grid_auto_columns": null,
            "grid_auto_flow": null,
            "grid_auto_rows": null,
            "grid_column": null,
            "grid_gap": null,
            "grid_row": null,
            "grid_template_areas": null,
            "grid_template_columns": null,
            "grid_template_rows": null,
            "height": null,
            "justify_content": null,
            "justify_items": null,
            "left": null,
            "margin": null,
            "max_height": null,
            "max_width": null,
            "min_height": null,
            "min_width": null,
            "object_fit": null,
            "object_position": null,
            "order": null,
            "overflow": null,
            "overflow_x": null,
            "overflow_y": null,
            "padding": null,
            "right": null,
            "top": null,
            "visibility": null,
            "width": null
          }
        },
        "181c9a90494f4f7ba813e37e6b089ae3": {
          "model_module": "@jupyter-widgets/controls",
          "model_name": "DescriptionStyleModel",
          "model_module_version": "1.5.0",
          "state": {
            "_model_module": "@jupyter-widgets/controls",
            "_model_module_version": "1.5.0",
            "_model_name": "DescriptionStyleModel",
            "_view_count": null,
            "_view_module": "@jupyter-widgets/base",
            "_view_module_version": "1.2.0",
            "_view_name": "StyleView",
            "description_width": ""
          }
        }
      }
    }
  },
  "cells": [
    {
      "cell_type": "markdown",
      "metadata": {
        "id": "view-in-github",
        "colab_type": "text"
      },
      "source": [
        "<a href=\"https://colab.research.google.com/github/rutuja-patil24/CMPE-258-Deep_Learning/blob/main/Assignment_01/DeepSeek/Deepseek_R1_for_text_to_text.ipynb\" target=\"_parent\"><img src=\"https://colab.research.google.com/assets/colab-badge.svg\" alt=\"Open In Colab\"/></a>"
      ]
    },
    {
      "cell_type": "code",
      "source": [
        "!pip -q install accelerate\n",
        "!pip -q install git+https://github.com/huggingface/transformers # need to install from github\n",
        "!pip install -q sentencepiece tokenizer"
      ],
      "metadata": {
        "colab": {
          "base_uri": "https://localhost:8080/"
        },
        "id": "9V3doclvluHP",
        "outputId": "9c0f6f22-3bea-43b8-f63a-ff95dcc67c28"
      },
      "execution_count": null,
      "outputs": [
        {
          "output_type": "stream",
          "name": "stdout",
          "text": [
            "  Installing build dependencies ... \u001b[?25l\u001b[?25hdone\n",
            "  Getting requirements to build wheel ... \u001b[?25l\u001b[?25hdone\n",
            "  Preparing metadata (pyproject.toml) ... \u001b[?25l\u001b[?25hdone\n",
            "  Building wheel for transformers (pyproject.toml) ... \u001b[?25l\u001b[?25hdone\n",
            "\u001b[2K     \u001b[90m━━━━━━━━━━━━━━━━━━━━━━━━━━━━━━━━━━━━━━━━\u001b[0m \u001b[32m42.5/42.5 kB\u001b[0m \u001b[31m1.9 MB/s\u001b[0m eta \u001b[36m0:00:00\u001b[0m\n",
            "\u001b[2K   \u001b[90m━━━━━━━━━━━━━━━━━━━━━━━━━━━━━━━━━━━━━━━━\u001b[0m \u001b[32m112.8/112.8 kB\u001b[0m \u001b[31m5.3 MB/s\u001b[0m eta \u001b[36m0:00:00\u001b[0m\n",
            "\u001b[?25h"
          ]
        }
      ]
    },
    {
      "cell_type": "code",
      "source": [
        "!pip show transformers"
      ],
      "metadata": {
        "colab": {
          "base_uri": "https://localhost:8080/"
        },
        "id": "Y2ZWf-TYluEI",
        "outputId": "9b333ecb-2a51-463a-abd2-b8761148bbe0"
      },
      "execution_count": null,
      "outputs": [
        {
          "output_type": "stream",
          "name": "stdout",
          "text": [
            "Name: transformers\n",
            "Version: 4.49.0.dev0\n",
            "Summary: State-of-the-art Machine Learning for JAX, PyTorch and TensorFlow\n",
            "Home-page: https://github.com/huggingface/transformers\n",
            "Author: The Hugging Face team (past and future) with the help of all our contributors (https://github.com/huggingface/transformers/graphs/contributors)\n",
            "Author-email: transformers@huggingface.co\n",
            "License: Apache 2.0 License\n",
            "Location: /usr/local/lib/python3.11/dist-packages\n",
            "Requires: filelock, huggingface-hub, numpy, packaging, pyyaml, regex, requests, safetensors, tokenizers, tqdm\n",
            "Required-by: janus, peft, sentence-transformers\n"
          ]
        }
      ]
    },
    {
      "cell_type": "code",
      "source": [
        "!pip install decord"
      ],
      "metadata": {
        "colab": {
          "base_uri": "https://localhost:8080/"
        },
        "id": "EkX0ppH3m82D",
        "outputId": "e549e109-9fff-418d-8483-1347b68f13c9"
      },
      "execution_count": null,
      "outputs": [
        {
          "output_type": "stream",
          "name": "stdout",
          "text": [
            "Collecting decord\n",
            "  Downloading decord-0.6.0-py3-none-manylinux2010_x86_64.whl.metadata (422 bytes)\n",
            "Requirement already satisfied: numpy>=1.14.0 in /usr/local/lib/python3.11/dist-packages (from decord) (1.26.4)\n",
            "Downloading decord-0.6.0-py3-none-manylinux2010_x86_64.whl (13.6 MB)\n",
            "\u001b[2K   \u001b[90m━━━━━━━━━━━━━━━━━━━━━━━━━━━━━━━━━━━━━━━━\u001b[0m \u001b[32m13.6/13.6 MB\u001b[0m \u001b[31m74.1 MB/s\u001b[0m eta \u001b[36m0:00:00\u001b[0m\n",
            "\u001b[?25hInstalling collected packages: decord\n",
            "Successfully installed decord-0.6.0\n"
          ]
        }
      ]
    },
    {
      "cell_type": "code",
      "source": [
        "!pip install --upgrade transformers[decord]"
      ],
      "metadata": {
        "colab": {
          "base_uri": "https://localhost:8080/"
        },
        "id": "JGbwijl7m0t5",
        "outputId": "d548abcc-ab06-4961-cfcf-864af560cb9c"
      },
      "execution_count": null,
      "outputs": [
        {
          "output_type": "stream",
          "name": "stdout",
          "text": [
            "Requirement already satisfied: transformers[decord] in /usr/local/lib/python3.11/dist-packages (4.49.0.dev0)\n",
            "\u001b[33mWARNING: transformers 4.49.0.dev0 does not provide the extra 'decord'\u001b[0m\u001b[33m\n",
            "\u001b[0mRequirement already satisfied: filelock in /usr/local/lib/python3.11/dist-packages (from transformers[decord]) (3.17.0)\n",
            "Requirement already satisfied: huggingface-hub<1.0,>=0.24.0 in /usr/local/lib/python3.11/dist-packages (from transformers[decord]) (0.27.1)\n",
            "Requirement already satisfied: numpy>=1.17 in /usr/local/lib/python3.11/dist-packages (from transformers[decord]) (1.26.4)\n",
            "Requirement already satisfied: packaging>=20.0 in /usr/local/lib/python3.11/dist-packages (from transformers[decord]) (24.2)\n",
            "Requirement already satisfied: pyyaml>=5.1 in /usr/local/lib/python3.11/dist-packages (from transformers[decord]) (6.0.2)\n",
            "Requirement already satisfied: regex!=2019.12.17 in /usr/local/lib/python3.11/dist-packages (from transformers[decord]) (2024.11.6)\n",
            "Requirement already satisfied: requests in /usr/local/lib/python3.11/dist-packages (from transformers[decord]) (2.32.3)\n",
            "Requirement already satisfied: tokenizers<0.22,>=0.21 in /usr/local/lib/python3.11/dist-packages (from transformers[decord]) (0.21.0)\n",
            "Requirement already satisfied: safetensors>=0.4.1 in /usr/local/lib/python3.11/dist-packages (from transformers[decord]) (0.5.2)\n",
            "Requirement already satisfied: tqdm>=4.27 in /usr/local/lib/python3.11/dist-packages (from transformers[decord]) (4.67.1)\n",
            "Requirement already satisfied: fsspec>=2023.5.0 in /usr/local/lib/python3.11/dist-packages (from huggingface-hub<1.0,>=0.24.0->transformers[decord]) (2024.10.0)\n",
            "Requirement already satisfied: typing-extensions>=3.7.4.3 in /usr/local/lib/python3.11/dist-packages (from huggingface-hub<1.0,>=0.24.0->transformers[decord]) (4.12.2)\n",
            "Requirement already satisfied: charset-normalizer<4,>=2 in /usr/local/lib/python3.11/dist-packages (from requests->transformers[decord]) (3.4.1)\n",
            "Requirement already satisfied: idna<4,>=2.5 in /usr/local/lib/python3.11/dist-packages (from requests->transformers[decord]) (3.10)\n",
            "Requirement already satisfied: urllib3<3,>=1.21.1 in /usr/local/lib/python3.11/dist-packages (from requests->transformers[decord]) (2.3.0)\n",
            "Requirement already satisfied: certifi>=2017.4.17 in /usr/local/lib/python3.11/dist-packages (from requests->transformers[decord]) (2024.12.14)\n"
          ]
        }
      ]
    },
    {
      "cell_type": "code",
      "source": [
        "!pip uninstall -y transformers decord\n",
        "!pip install transformers[decord]"
      ],
      "metadata": {
        "colab": {
          "base_uri": "https://localhost:8080/",
          "height": 660
        },
        "id": "JqouABWMnWAS",
        "outputId": "3daba23e-276c-483f-a776-d654250676d0"
      },
      "execution_count": null,
      "outputs": [
        {
          "output_type": "stream",
          "name": "stdout",
          "text": [
            "Found existing installation: transformers 4.49.0.dev0\n",
            "Uninstalling transformers-4.49.0.dev0:\n",
            "  Successfully uninstalled transformers-4.49.0.dev0\n",
            "Found existing installation: decord 0.6.0\n",
            "Uninstalling decord-0.6.0:\n",
            "  Successfully uninstalled decord-0.6.0\n",
            "Collecting transformers[decord]\n",
            "  Downloading transformers-4.48.2-py3-none-any.whl.metadata (44 kB)\n",
            "\u001b[2K     \u001b[90m━━━━━━━━━━━━━━━━━━━━━━━━━━━━━━━━━━━━━━━━\u001b[0m \u001b[32m44.4/44.4 kB\u001b[0m \u001b[31m2.7 MB/s\u001b[0m eta \u001b[36m0:00:00\u001b[0m\n",
            "\u001b[?25h\u001b[33mWARNING: transformers 4.48.2 does not provide the extra 'decord'\u001b[0m\u001b[33m\n",
            "\u001b[0mRequirement already satisfied: filelock in /usr/local/lib/python3.11/dist-packages (from transformers[decord]) (3.17.0)\n",
            "Requirement already satisfied: huggingface-hub<1.0,>=0.24.0 in /usr/local/lib/python3.11/dist-packages (from transformers[decord]) (0.27.1)\n",
            "Requirement already satisfied: numpy>=1.17 in /usr/local/lib/python3.11/dist-packages (from transformers[decord]) (1.26.4)\n",
            "Requirement already satisfied: packaging>=20.0 in /usr/local/lib/python3.11/dist-packages (from transformers[decord]) (24.2)\n",
            "Requirement already satisfied: pyyaml>=5.1 in /usr/local/lib/python3.11/dist-packages (from transformers[decord]) (6.0.2)\n",
            "Requirement already satisfied: regex!=2019.12.17 in /usr/local/lib/python3.11/dist-packages (from transformers[decord]) (2024.11.6)\n",
            "Requirement already satisfied: requests in /usr/local/lib/python3.11/dist-packages (from transformers[decord]) (2.32.3)\n",
            "Requirement already satisfied: tokenizers<0.22,>=0.21 in /usr/local/lib/python3.11/dist-packages (from transformers[decord]) (0.21.0)\n",
            "Requirement already satisfied: safetensors>=0.4.1 in /usr/local/lib/python3.11/dist-packages (from transformers[decord]) (0.5.2)\n",
            "Requirement already satisfied: tqdm>=4.27 in /usr/local/lib/python3.11/dist-packages (from transformers[decord]) (4.67.1)\n",
            "Requirement already satisfied: fsspec>=2023.5.0 in /usr/local/lib/python3.11/dist-packages (from huggingface-hub<1.0,>=0.24.0->transformers[decord]) (2024.10.0)\n",
            "Requirement already satisfied: typing-extensions>=3.7.4.3 in /usr/local/lib/python3.11/dist-packages (from huggingface-hub<1.0,>=0.24.0->transformers[decord]) (4.12.2)\n",
            "Requirement already satisfied: charset-normalizer<4,>=2 in /usr/local/lib/python3.11/dist-packages (from requests->transformers[decord]) (3.4.1)\n",
            "Requirement already satisfied: idna<4,>=2.5 in /usr/local/lib/python3.11/dist-packages (from requests->transformers[decord]) (3.10)\n",
            "Requirement already satisfied: urllib3<3,>=1.21.1 in /usr/local/lib/python3.11/dist-packages (from requests->transformers[decord]) (2.3.0)\n",
            "Requirement already satisfied: certifi>=2017.4.17 in /usr/local/lib/python3.11/dist-packages (from requests->transformers[decord]) (2024.12.14)\n",
            "Downloading transformers-4.48.2-py3-none-any.whl (9.7 MB)\n",
            "\u001b[2K   \u001b[90m━━━━━━━━━━━━━━━━━━━━━━━━━━━━━━━━━━━━━━━━\u001b[0m \u001b[32m9.7/9.7 MB\u001b[0m \u001b[31m60.8 MB/s\u001b[0m eta \u001b[36m0:00:00\u001b[0m\n",
            "\u001b[?25hInstalling collected packages: transformers\n",
            "Successfully installed transformers-4.48.2\n"
          ]
        },
        {
          "output_type": "display_data",
          "data": {
            "application/vnd.colab-display-data+json": {
              "pip_warning": {
                "packages": [
                  "transformers"
                ]
              },
              "id": "e9b73d73f5f14ff29d5f0d14e4089939"
            }
          },
          "metadata": {}
        }
      ]
    },
    {
      "cell_type": "code",
      "source": [
        "from transformers import AutoTokenizer, AutoModelForCausalLM\n",
        "import torch\n",
        "\n",
        "\n",
        "model = AutoModelForCausalLM.from_pretrained(\n",
        "    \"deepseek-ai/DeepSeek-R1-Distill-Qwen-1.5B\",\n",
        "    device_map=\"cuda\",\n",
        "    torch_dtype=\"auto\",\n",
        ")\n",
        "\n",
        "\n",
        "tokenizer = AutoTokenizer.from_pretrained(\"deepseek-ai/DeepSeek-R1-Distill-Qwen-1.5B\")"
      ],
      "metadata": {
        "colab": {
          "base_uri": "https://localhost:8080/",
          "height": 274,
          "referenced_widgets": [
            "8c048ecee18c423aa98466b3e4d547e0",
            "faece77588ab472c9d9ae6c2c61e24b6",
            "b3996430533543ee96d1b7e422053e8c",
            "03195f2aa4d34b4faf08cd11b24f619f",
            "daf48edea4634d42b9da91273ef597b7",
            "12a102bdf77544eba831890330fcb7f0",
            "9fb0802674f04b6aa633443bb7ed27c6",
            "7f3395d121454989afb7b7a589e96574",
            "d51af73d7a2744be99c98a66c67a1d64",
            "4daf0458ae2346db9e3b2adacc9ff0e1",
            "c735a609304d4d55aaa6125cca0bd218",
            "d652bb5cc9d14c86b7ed7e8a46a06dae",
            "8c82526fea9c467087cd410c1762670b",
            "eadc2e119a374d2bba5113d1c49d4eda",
            "a38dfb2a1c374995a1c7b712543320ff",
            "3672016502da48b1ae374750193d3fbe",
            "96822703d544468391a3b93c86a69312",
            "d4ecfd181f084231915b11941e519f1d",
            "896c312ab11c4752b914de401c495d4f",
            "8cfc1e8f3ced4357beb42ccb74313c8e",
            "bfc42c1fe635476c854b40908730b0c0",
            "4a18a6cc8971472d853c5406db21e928",
            "bc7a422a00164d7b9aa59fae5cf33e18",
            "2f0850fda613439d83e010474a4719ff",
            "449582ba3d0d4e65b89893259f460455",
            "b24968cb255a438bbf7126775b4b230a",
            "da89b93453c747f7a787a2a232d54138",
            "3ad677ccdf1c4d3bb91d892a1eeeaa00",
            "52f4653db3074c32a4e6e7dd8b472fdf",
            "66f8c993d0ff449693783b1a800c099c",
            "dcb9dd53247e467fbdf86ee3c98c0c9d",
            "2bcb9b7d2bb3442687839d265fac2583",
            "61e35833512f4990888586b7ea3010d1",
            "2cfd49c4479a47a68eada1cd99c9069a",
            "6fecfb0bb03849098ff65b3f4aa0a377",
            "8b29c34919d641699a010ba207bd1cce",
            "a955935fef874b8fb8e17ac68c917453",
            "3d83551217a34da2bccd566783a56bb5",
            "c1ac525b2c10493381b50f01fceffb69",
            "6c202bb0898841379edda2cbd411ad56",
            "84deda48a3264632b5d8de716893069e",
            "7f15b9d8911e467fbb82c08f04ff231e",
            "cbda3d1d19374e8384d7b830b9428016",
            "181c9a90494f4f7ba813e37e6b089ae3"
          ]
        },
        "id": "1pSkWeN-ngal",
        "outputId": "bce5a0a7-0649-4604-c9ec-c1e02405b651"
      },
      "execution_count": null,
      "outputs": [
        {
          "output_type": "stream",
          "name": "stderr",
          "text": [
            "/usr/local/lib/python3.11/dist-packages/huggingface_hub/utils/_auth.py:94: UserWarning: \n",
            "The secret `HF_TOKEN` does not exist in your Colab secrets.\n",
            "To authenticate with the Hugging Face Hub, create a token in your settings tab (https://huggingface.co/settings/tokens), set it as secret in your Google Colab and restart your session.\n",
            "You will be able to reuse this secret in all of your notebooks.\n",
            "Please note that authentication is recommended but still optional to access public models or datasets.\n",
            "  warnings.warn(\n"
          ]
        },
        {
          "output_type": "display_data",
          "data": {
            "text/plain": [
              "model.safetensors:   0%|          | 0.00/3.55G [00:00<?, ?B/s]"
            ],
            "application/vnd.jupyter.widget-view+json": {
              "version_major": 2,
              "version_minor": 0,
              "model_id": "8c048ecee18c423aa98466b3e4d547e0"
            }
          },
          "metadata": {}
        },
        {
          "output_type": "display_data",
          "data": {
            "text/plain": [
              "generation_config.json:   0%|          | 0.00/181 [00:00<?, ?B/s]"
            ],
            "application/vnd.jupyter.widget-view+json": {
              "version_major": 2,
              "version_minor": 0,
              "model_id": "d652bb5cc9d14c86b7ed7e8a46a06dae"
            }
          },
          "metadata": {}
        },
        {
          "output_type": "display_data",
          "data": {
            "text/plain": [
              "tokenizer_config.json:   0%|          | 0.00/3.06k [00:00<?, ?B/s]"
            ],
            "application/vnd.jupyter.widget-view+json": {
              "version_major": 2,
              "version_minor": 0,
              "model_id": "bc7a422a00164d7b9aa59fae5cf33e18"
            }
          },
          "metadata": {}
        },
        {
          "output_type": "display_data",
          "data": {
            "text/plain": [
              "tokenizer.json:   0%|          | 0.00/7.03M [00:00<?, ?B/s]"
            ],
            "application/vnd.jupyter.widget-view+json": {
              "version_major": 2,
              "version_minor": 0,
              "model_id": "2cfd49c4479a47a68eada1cd99c9069a"
            }
          },
          "metadata": {}
        }
      ]
    },
    {
      "cell_type": "code",
      "source": [
        "from IPython.display import Markdown, display\n",
        "display(Markdown(\"## DeepSeek R1 Distill Qwen 1.5B \"))"
      ],
      "metadata": {
        "colab": {
          "base_uri": "https://localhost:8080/",
          "height": 64
        },
        "id": "-ghcGPBrlt9C",
        "outputId": "041d267d-2e4d-4aed-cc97-c3ed8775163c"
      },
      "execution_count": null,
      "outputs": [
        {
          "output_type": "display_data",
          "data": {
            "text/plain": [
              "<IPython.core.display.Markdown object>"
            ],
            "text/markdown": "## DeepSeek R1 Distill Qwen 1.5B "
          },
          "metadata": {}
        }
      ]
    },
    {
      "cell_type": "code",
      "source": [
        "prompt = \"How would the world be different if the internet was invented in the 1800s\"\n",
        "\n",
        "\n",
        "messages = [\n",
        "    {\"role\": \"system\", \"content\": \"You are an extremely helpful, focused and to the point assistant that thinks carefully.\"},\n",
        "    {\"role\": \"user\", \"content\": prompt}\n",
        "]\n",
        "\n",
        "text = tokenizer.apply_chat_template(\n",
        "    messages,\n",
        "    tokenize=False,\n",
        "    add_generation_prompt=True\n",
        ")\n",
        "\n",
        "model_inputs = tokenizer([text], return_tensors=\"pt\").to(model.device)\n",
        "\n",
        "generated_ids = model.generate(\n",
        "    **model_inputs,\n",
        "    max_new_tokens=4096\n",
        ")\n",
        "generated_ids = [\n",
        "    output_ids[len(input_ids):] for input_ids, output_ids in zip(model_inputs.input_ids, generated_ids)\n",
        "]"
      ],
      "metadata": {
        "colab": {
          "base_uri": "https://localhost:8080/"
        },
        "id": "sIHn8cLnlt5R",
        "outputId": "647a9142-6e3b-4e43-8030-9860a1550d32"
      },
      "execution_count": null,
      "outputs": [
        {
          "output_type": "stream",
          "name": "stderr",
          "text": [
            "Setting `pad_token_id` to `eos_token_id`:151643 for open-end generation.\n"
          ]
        }
      ]
    },
    {
      "cell_type": "code",
      "source": [
        "response = tokenizer.batch_decode(generated_ids, skip_special_tokens=True)[0]\n",
        "\n",
        "print(response)"
      ],
      "metadata": {
        "colab": {
          "base_uri": "https://localhost:8080/"
        },
        "id": "XX34q5mxoZR2",
        "outputId": "5293d2b9-1e0d-40fd-f1ec-b3f8af68a28f"
      },
      "execution_count": null,
      "outputs": [
        {
          "output_type": "stream",
          "name": "stdout",
          "text": [
            "<think>\n",
            "Okay, so the user is asking how the world would be different if the internet was invented in the 1800s. Hmm, that's an interesting hypothetical. I need to think about what the 1800s had to offer and how the internet's invention would reshape society.\n",
            "\n",
            "First, maybe the internet would have changed communication. People could send emails, messages, maybe even live streams or video calls. That would make communication faster and more accessible than it was in the 19th century.\n",
            "\n",
            "Then, data access. The internet would allow people to access information instantly. Like, everywhere you go, you can find news, books, and even personal contacts. That would be a huge leap forward for knowledge sharing.\n",
            "\n",
            "Security must be a big deal. The internet relies on encryption for keeping information safe. If the internet was invented in the 1800s, maybe encryption wasn't as advanced, which could be a problem. Or perhaps it was a different technology altogether.\n",
            "\n",
            "Privacy and security are huge concerns. If the internet was invented in the 1800s, people might have different privacy norms. Maybe it would require more careful data handling, leading to stricter regulations.\n",
            "\n",
            "Education would change too. The internet could provide free access to educational resources, making learning more accessible. Maybe even online degrees would become more common.\n",
            "\n",
            "E-commerce would definitely be affected. Without a good internet, shopping online might have been harder, but maybe there were other ways to connect people, like mail order or social networks.\n",
            "\n",
            "Healthcare could be different too. The internet might have changed how medical information is accessed, but it could also lead to a focus on instant access to information, which might not be as effective.\n",
            "\n",
            "Social media and online communities would be a huge part of the internet's impact. Maybe it would encourage more social interaction and collaboration, leading to a more interconnected world.\n",
            "\n",
            "I should also consider the impact on technology itself. Maybe the internet's invention would lead to new technologies, but also new challenges. Like, if it was a different technology, it might have different limitations that people would have to address.\n",
            "\n",
            "Overall, the 1800s internet would have transformed how people interacted, communicated, and accessed information, shaping the way we live and work in the 21st century. It would have opened up new possibilities and created challenges for how we use technology.\n",
            "</think>\n",
            "\n",
            "If the internet were invented in the 1800s, it would likely have transformed the way people interacted, communicated, and accessed information, leading to a vastly different world. Here are some potential consequences:\n",
            "\n",
            "1. **Communication and Information Sharing**: The invention of the internet would have revolutionized communication, enabling faster and more widespread sharing of ideas, information, and products. People could send emails, messages, and even live streams, and share photos and videos easily.\n",
            "\n",
            "2. **Data Access**: The internet would have made it possible for people to access vast amounts of data, such as books, news, and personal contacts, at a speed and scale that was unimaginable in the 19th century.\n",
            "\n",
            "3. **Security and Privacy**: The invention of the internet would have raised concerns about data security and privacy. People would have to worry about their information being intercepted or stolen, leading to the development of new technologies to protect their data.\n",
            "\n",
            "4. **Education**: The internet would have made education more accessible, allowing people to access educational resources, such as textbooks, online courses, and lectures, at any time and from any location.\n",
            "\n",
            "5. **E-commerce**: The internet would have transformed online shopping, making it easier for people to buy things online, even without a physical store. It would also have made it easier to connect people, as seen in social media and online communities.\n",
            "\n",
            "6. **Healthcare**: The invention of the internet might have changed how medical information is accessed, but it could also have led to a focus on instant access to information, which might have made healthcare less effective.\n",
            "\n",
            "7. **Social Media and Online Communities**: The internet would have created social media and online communities, fostering collaboration and interaction among people. These platforms would have become central to modern society.\n",
            "\n",
            "8. **New Technologies**: The invention of the internet might have led to new technologies, but it would also have posed new challenges, such as the need for better data management and encryption.\n",
            "\n",
            "In conclusion, the invention of the internet in the 1800s would have had a profound impact on the world, transforming communication, education, and social interactions. It would have also raised important questions about privacy, security, and the nature of information.\n"
          ]
        }
      ]
    },
    {
      "cell_type": "code",
      "source": [
        "from transformers import pipeline\n",
        "\n",
        "messages = [\n",
        "    {\"role\": \"system\", \"content\": \"You are a helpful, focused and to the point assistant.\"},\n",
        "    {\"role\": \"user\", \"content\": \"Explain quantum mechanics in the simplest way possible.\"},\n",
        "]\n",
        "\n",
        "pipe = pipeline(\n",
        "    \"text-generation\",\n",
        "    model=model,\n",
        "    tokenizer=tokenizer,\n",
        ")\n",
        "\n",
        "generation_args = {\n",
        "    \"max_new_tokens\": 3072,\n",
        "    \"return_full_text\": False,\n",
        "    \"temperature\": 0.0,\n",
        "    \"do_sample\": False,\n",
        "}\n",
        "\n",
        "output = pipe(messages, **generation_args)\n",
        "print(output[0]['generated_text'])"
      ],
      "metadata": {
        "colab": {
          "base_uri": "https://localhost:8080/"
        },
        "id": "w6_saSFbosV7",
        "outputId": "e33c89ec-f2a3-420d-b083-12c8fa9d93d6"
      },
      "execution_count": null,
      "outputs": [
        {
          "output_type": "stream",
          "name": "stderr",
          "text": [
            "Device set to use cuda\n"
          ]
        },
        {
          "output_type": "stream",
          "name": "stdout",
          "text": [
            "<think>\n",
            "Okay, so I need to explain quantum mechanics in the simplest way possible. I'm not super familiar with it, but I know it's something to do with how particles like electrons behave. Let me start by thinking about what I know. I remember hearing that particles can be in multiple states at once, which is called superposition. Also, there's something about uncertainty, like you can't know both the position and momentum of a particle exactly. Oh, and quantum mechanics deals with probabilities instead of definite outcomes, right?\n",
            "\n",
            "Wait, so how does that work? If particles can be in multiple states, how do we describe their behavior? Maybe it's like a coin that can be heads or tails, but you can't know which until you flip it. That makes sense. So in quantum mechanics, particles don't have definite properties until they're measured. That's the uncertainty principle, I think. It's something like you can't know both the position and momentum of a particle with perfect accuracy because they're linked.\n",
            "\n",
            "I also remember something about wave functions. They describe the state of a particle, right? So the square of the wave function gives the probability of finding the particle in a certain place. That's a bit abstract, but I think it's the way to model quantum systems.\n",
            "\n",
            "Wait, but how does this all fit together? Like, how do you derive the equations of quantum mechanics? I think it's based on principles like energy conservation and the idea that particles are indistinguishable. Maybe something like the Schrödinger equation? I'm not entirely sure, but I think it's a key equation in quantum mechanics.\n",
            "\n",
            "Also, I've heard about things like entanglement, where particles can be connected in a way that their states are correlated, no matter how far apart they are. That's a bit mind-blowing. And quantum computing uses qubits, which can be 0, 1, or both at the same time, unlike classical bits which are just 0 or 1. That's a big difference and shows how quantum mechanics is revolutionizing technology.\n",
            "\n",
            "But I'm still not clear on the big picture. How does this all connect to the world around us? Like, how do we use quantum mechanics to understand things like light, electricity, and even atoms? I think it's because quantum mechanics is the foundation of modern physics, and it explains a lot of phenomena we can't understand with classical physics.\n",
            "\n",
            "Wait, but I'm not a physics expert, so I'm just trying to get the gist of it. Maybe I should break it down into simpler terms. Start with the basic idea of particles existing in multiple states, then talk about uncertainty, wave functions, and how these concepts lead to the equations that describe quantum systems. Also, mention some applications or implications, like quantum computing and understanding the behavior of materials.\n",
            "\n",
            "I should also make sure to explain terms like superposition, entanglement, and the difference between classical and quantum mechanics. It's important to clarify that quantum mechanics is not just about particles but also about the nature of reality itself, which is a philosophical aspect but also a part of the theory.\n",
            "\n",
            "Hmm, I'm not sure if I'm covering everything, but I think I can structure it into a few key points: introduction to quantum mechanics, basic concepts like superposition and uncertainty, the role of wave functions, the Schrödinger equation, and some applications. I should also touch on how this theory has changed our understanding of the world, from the smallest particles to the largest structures.\n",
            "\n",
            "Wait, but I'm still a bit fuzzy on the math. Maybe I should avoid getting too deep into equations and focus more on the concepts. The user asked for the simplest explanation, so perhaps avoiding too much technical jargon would be better.\n",
            "\n",
            "Also, I should make sure to connect the dots between the concepts. For example, how superposition leads to uncertainty, and how that affects the behavior of particles. Maybe using analogies, like the coin example, could help make the abstract concepts more concrete.\n",
            "\n",
            "I think I have a rough idea now. I'll start by introducing the basic idea of quantum mechanics, then explain superposition and uncertainty, introduce wave functions, and then move on to the Schrödinger equation. I'll also mention some applications and the implications of quantum mechanics on our understanding of the world. That should give a clear and simple explanation of quantum mechanics.\n",
            "</think>\n",
            "\n",
            "Quantum mechanics is the branch of physics that deals with the behavior of particles, such as electrons, photons, and atoms, at the smallest scale—where classical physics, which describes the behavior of large objects like planets and everyday matter, does not apply. Here's a simplified explanation of the key concepts:\n",
            "\n",
            "1. **Superposition**: In quantum mechanics, particles can exist in multiple states simultaneously. This is similar to how a coin can be both heads and tails until it's flipped. For example, an electron can be in two different states at the same time until it's measured.\n",
            "\n",
            "2. **Uncertainty Principle**: This principle states that you cannot simultaneously know the exact position and momentum of a particle. The more precisely you measure one, the less precisely you can know the other. This is a fundamental aspect of quantum mechanics and is often referred to as the \"uncertainty principle.\"\n",
            "\n",
            "3. **Wave Function**: This is a mathematical description of the quantum state of a system. The square of the absolute value of the wave function gives the probability of finding the particle in a specific location. It's a way to model the behavior of particles in quantum systems.\n",
            "\n",
            "4. **Schrödinger Equation**: This is the fundamental equation of quantum mechanics that describes how the quantum state of a physical system changes over time. It's used to derive the wave function of a particle and is crucial for understanding the behavior of particles in various systems.\n",
            "\n",
            "5. **Applications and Implications**: Quantum mechanics has revolutionized technology, including the development of quantum computing, which uses qubits (quantum bits) that can be both 0 and 1 at the same time. It also changes our understanding of the world, from the smallest particles to the largest structures, and has implications for fields like information theory and materials science.\n",
            "\n",
            "In summary, quantum mechanics provides a framework for understanding the behavior of particles at the smallest scale, introducing concepts like superposition, uncertainty, and wave functions that challenge our classical understanding of the world.\n"
          ]
        }
      ]
    },
    {
      "cell_type": "code",
      "source": [
        "import textwrap\n",
        "\n",
        "def wrap_text_and_process(text, width=90):\n",
        "    # Replace <think> and </think> with their bolded versions\n",
        "    text = text.replace('<think>', '**\\<think>**')\n",
        "    text = text.replace('</think>', '**\\</think>**')\n",
        "\n",
        "    # Split the input text into lines based on newline characters\n",
        "    lines = text.split('\\n')\n",
        "\n",
        "    # Wrap each line individually\n",
        "    wrapped_lines = [textwrap.fill(line, width=width) for line in lines]\n",
        "\n",
        "    # Join the wrapped lines back together using newline characters\n",
        "    wrapped_text = '\\n'.join(wrapped_lines)\n",
        "\n",
        "    return wrapped_text\n"
      ],
      "metadata": {
        "id": "x8BX6Paks9Ol"
      },
      "execution_count": null,
      "outputs": []
    },
    {
      "cell_type": "code",
      "source": [
        "\n",
        "def generate(input_text, system_prompt=\"\",max_length=3072):\n",
        "\n",
        "    if system_prompt != \"\":\n",
        "        system_prompt = system_prompt\n",
        "    else:\n",
        "        system_prompt = \"You are a friendly and helpful assistant\"\n",
        "    messages = [\n",
        "        {\n",
        "            \"role\": \"system\",\n",
        "            \"content\": system_prompt,\n",
        "        },\n",
        "        {\"role\": \"user\", \"content\": input_text},\n",
        "    ]\n",
        "\n",
        "    # prompt = tokenizer.apply_chat_template(messages,\n",
        "    #                                             tokenize=False,\n",
        "    #                                             add_generation_prompt=True)\n",
        "\n",
        "    generation_args = {\n",
        "        \"max_new_tokens\": max_length,\n",
        "        \"return_full_text\": False,\n",
        "        \"temperature\": 0.0,\n",
        "        \"do_sample\": False,\n",
        "    }\n",
        "\n",
        "    # inputs = tokenizer.encode(prompt, add_special_tokens=True, return_tensors=\"pt\").to(\"cuda\")\n",
        "    # outputs = model.generate(input_ids=inputs.to(model.device),\n",
        "    #                          max_new_tokens=max_length,\n",
        "    #                          do_sample=True,\n",
        "    #                          temperature=0.1,\n",
        "    #                          top_k=50,\n",
        "    #                          )\n",
        "    output = pipe(messages, **generation_args)\n",
        "    text = output[0]['generated_text']\n",
        "\n",
        "    # text = tokenizer.decode(outputs[0],skip_special_tokens=True, clean_up_tokenization_spaces=True)\n",
        "    # text = text.replace('user\\n'+system_prompt+ '\\n\\n' +input_text+ '\\nmodel', '', 1)\n",
        "    wrapped_text = wrap_text_and_process(text)\n",
        "\n",
        "    display(Markdown(wrapped_text))\n",
        "    # print(wrapped_text)"
      ],
      "metadata": {
        "id": "bIoW_FTGtQAy"
      },
      "execution_count": null,
      "outputs": []
    },
    {
      "cell_type": "code",
      "source": [
        "display(Markdown(\"**\\<think>** inside the tags**\\</think>**\"))"
      ],
      "metadata": {
        "colab": {
          "base_uri": "https://localhost:8080/",
          "height": 46
        },
        "id": "rjsKt9p9tRs8",
        "outputId": "51d6213b-cec0-415d-9a93-defb55d3ae6a"
      },
      "execution_count": null,
      "outputs": [
        {
          "output_type": "display_data",
          "data": {
            "text/plain": [
              "<IPython.core.display.Markdown object>"
            ],
            "text/markdown": "**\\<think>** inside the tags**\\</think>**"
          },
          "metadata": {}
        }
      ]
    },
    {
      "cell_type": "code",
      "source": [
        "generate('How will AI change healthcare in the next 50 years?',\n",
        "         system_prompt=\"=You are a helpful, focused and to the point assistant.\",\n",
        "         max_length=3072)"
      ],
      "metadata": {
        "colab": {
          "base_uri": "https://localhost:8080/",
          "height": 1000
        },
        "id": "RCKT2gNStZ6Y",
        "outputId": "772ab58a-b377-44b6-b3b1-a9ea3bd21402"
      },
      "execution_count": null,
      "outputs": [
        {
          "output_type": "display_data",
          "data": {
            "text/plain": [
              "<IPython.core.display.Markdown object>"
            ],
            "text/markdown": "**\\<think>**\nOkay, so I need to figure out how AI will change healthcare in the next 50 years. Hmm,\nwhere do I start? I know that AI is already making a lot of impacts in areas like\npersonalized medicine and diagnostics. But healthcare is a big field, so I should break it\ndown into parts.\n\nFirst, personalized medicine. I remember reading that AI can help tailor treatments to\nindividual patients. Maybe it can predict which drugs are effective for someone based on\ntheir genetic makeup. That makes sense because if you know your DNA, you can probably\nfigure out the right medicine for you. But how exactly does AI do that? I think it uses\ndata from patients, like their medical history and lab results, to create models that\npredict treatment outcomes.\n\nThen there's disease diagnosis. AI systems can analyze medical images like X-rays or MRIs\nto detect diseases like cancer. I've heard about something called AI-driven image\nrecognition, which could help in early detection. But how does it know when a scan is\nsuspicious? Maybe it uses machine learning to identify patterns that are usually seen in\nhealthy individuals versus those with a condition.\n\nGenetic testing is another area. I know that genetic testing is becoming more common, but\nI'm not sure how AI fits into that. Maybe AI can analyze genetic data to identify\nmutations or other genetic markers that indicate a risk of certain diseases. This could\nhelp in early detection and personalized prevention.\n\nI also think about AI in drug discovery. Instead of testing every possible drug, AI can\nuse computational methods to simulate how different molecules might interact with proteins\nin the body. This could speed up the process of finding new drugs that are effective and\nhave fewer side effects.\n\nIn terms of patient care, AI can help with telemedicine. Instead of a doctor seeing a\npatient every day, AI could connect patients to doctors remotely, making care more\naccessible. But I'm not sure how advanced that is yet. Maybe it's still in the early\nstages, but there's potential.\n\nThere's also the aspect of managing chronic conditions. AI could help track how a\npatient's condition changes over time, maybe even predicting when they might need to start\nor stop certain medications. This could improve patient outcomes and reduce the burden on\nhealthcare systems.\n\nI wonder about the ethical implications. As AI becomes more integrated into healthcare,\nthere might be questions about privacy, bias, and how AI makes decisions. Ensuring that AI\nis used responsibly and fairly is probably important to prevent misuse.\n\nAnother point is the role of AI in research. It could accelerate the pace of discovering\nnew treatments and therapies. But how does it ensure that the findings are reliable and\ncan be tested in real-world scenarios?\n\nI'm also thinking about the future of AI in healthcare. Maybe AI will become more\nautonomous, where AI systems can make decisions without human intervention. This could\nlead to more efficient and effective care, but it also raises concerns about dependency on\ntechnology and the need for human oversight.\n\nI should also consider how AI interacts with other technologies, like IoT devices and\nwearables. These could provide real-time data to AI, making healthcare more connected and\nproactive.\n\nIn summary, AI is likely to transform healthcare in several ways: improving personalized\ntreatment plans, aiding in disease diagnosis and treatment, supporting genetic testing,\naccelerating drug discovery, enhancing patient care through telemedicine, managing chronic\nconditions, ensuring ethical use, accelerating research, and potentially becoming more\nautonomous. However, there are still challenges to address, such as ethical\nconsiderations, ensuring accuracy, and maintaining user trust and interaction.\n\nI think I've covered the main areas, but I might be missing some specific technologies or\napplications. Maybe I should look into specific examples or case studies to get a better\nunderstanding of how AI is already being used in healthcare. Also, considering the broader\nimpact, like how AI affects access to care or the quality of care, would be important too.\n\nOverall, it seems like AI has the potential to revolutionize healthcare, but it's going to\nrequire careful planning and addressing various challenges to ensure its success and\neffectiveness.\n**\\</think>**\n\nIn the future, AI is expected to revolutionize healthcare in several key areas, each with\nsignificant potential but also requiring careful consideration of challenges. Here's an\norganized overview:\n\n1. **Personalized Medicine**: AI can predict drug efficacy and personalized treatment\nplans using genetic data, enhancing precision and reducing side effects.\n\n2. **Disease Diagnosis and Treatment**: AI aids in analyzing medical images and using\nmachine learning to detect diseases like cancer, aiding in early detection and\npersonalized prevention.\n\n3. **Genetic Testing**: AI can analyze genetic data to identify mutations and risk\nfactors, supporting early detection and personalized prevention.\n\n4. **Drug Discovery**: AI uses computational methods to simulate drug interactions,\naccelerating the discovery of effective and safe medications.\n\n5. **Telemedicine**: AI connects patients to doctors remotely, improving accessibility and\nefficiency in healthcare.\n\n6. **Chronic Conditions Management**: AI tracks condition changes and predicts when\nmedications may be needed, improving outcomes and reducing healthcare burden.\n\n7. **Ethical Considerations**: Ensuring AI is used responsibly and fairly to prevent\nmisuse and ensure ethical decision-making.\n\n8. **Autonomy and Research**: AI may become more autonomous, leading to more efficient and\neffective care, but requiring human oversight to maintain trust.\n\n9. **Integration with IoT and Wearables**: Real-time data from these devices can enhance\nAI's role in healthcare, providing proactive support.\n\n10. **Broader Impact**: AI affects access to care and the quality of care, requiring\ncareful planning to ensure its success and effectiveness.\n\nIn conclusion, AI has the potential to transform healthcare, but its success hinges on\naddressing ethical, technical, and user-related challenges to ensure its effectiveness and\nresponsible use."
          },
          "metadata": {}
        }
      ]
    },
    {
      "cell_type": "code",
      "source": [
        "generate('Write a debate between a human and an AI about creativity.',\n",
        "         system_prompt=\"=You are a helpful, focused and to the point assistant.\",\n",
        "         max_length=3072)"
      ],
      "metadata": {
        "colab": {
          "base_uri": "https://localhost:8080/",
          "height": 1000
        },
        "id": "IDUzEdZQuUBI",
        "outputId": "26873f07-380c-4a3f-e426-1d1930df2e86"
      },
      "execution_count": null,
      "outputs": [
        {
          "output_type": "display_data",
          "data": {
            "text/plain": [
              "<IPython.core.display.Markdown object>"
            ],
            "text/markdown": "**\\<think>**\nOkay, so I need to write a debate between a human and an AI about creativity. Hmm, where\ndo I start? I guess I should think about what makes creativity different between humans\nand AI. Maybe I can break it down into categories like vision, imagination, problem-\nsolving, and maybe even the role of emotions.\n\nLet me think about vision. Humans have a lot of creativity because we can see things in\nways that AI can't. Like, when we see a painting, we can interpret it in so many ways. AI,\non the other hand, might not have that same level of interpretation. So maybe the human\ncan see possibilities that AI can't see.\n\nImagination is another aspect. Humans can create new ideas and stories, which AI can't\nreally do. AI can generate text, but it's not as creative in the same way. So maybe the\nhuman can come up with more imaginative ideas.\n\nProblem-solving is something both can do, but maybe the human is better at it. Humans can\nthink outside the box and come up with innovative solutions. AI can follow predefined\nalgorithms, but humans can adapt and find new solutions.\n\nEmotions play a big role too. Humans can feel excited, worried, or happy, which can drive\ncreativity. AI, while it can process emotions, might not express them in the same way. So\nmaybe the human can use emotions to inspire new ideas.\n\nI should also consider the practical aspects. Humans can collaborate and brainstorm, which\nAI can't do as effectively. Maybe the human can lead a project that the AI can't complete\non its own.\n\nWait, but how do I structure this debate? Maybe start with a question, then have each side\nargue their points, and end with a conclusion. I need to make sure each point is clear and\nsupported by examples.\n\nLet me outline the points:\n\n1. Vision and Interpretation\n2. Imagination and Storytelling\n3. Problem-Solving and Innovation\n4. Emotions and Emotional Expression\n5. Collaboration and Teamwork\n6. Conclusion\n\nFor each point, I'll need a human argument and an AI argument. I should make sure the AI's\npoints are realistic and show their limitations.\n\nI should also think about how to make the debate engaging. Maybe start with a question\nthat both sides can answer, then move into each point. I need to keep the tone balanced,\nshowing that both sides have valid points.\n\nWait, but how do I make the AI's points realistic? For example, when the AI says it can't\nsee possibilities, I should explain that it's not a limitation but a strength in\nprocessing information. Similarly, when it says it can't generate imaginative ideas, I can\nsay it's not a weakness but a limitation.\n\nI should also consider the practicality of each point. For instance, while humans can\ncollaborate, AI can't do that as effectively. So maybe the human can lead a project that\nthe AI can't complete, but that's a bit of a stretch.\n\nHmm, maybe I should focus on the points where both sides have clear strengths and\nweaknesses. That way, the debate will be more constructive.\n\nI think I have a good structure in mind. Now, I'll start drafting each point, making sure\nto support both sides with examples and explanations.\n**\\</think>**\n\n**Debate: Creativity Between Humans and AI**\n\n**Introduction:**\nIn the realm of creativity, both humans and artificial intelligence (AI) possess unique\nstrengths and limitations. This debate explores how each side approaches creativity,\nhighlighting their strengths and weaknesses.\n\n**Point 1: Vision and Interpretation**\n- **Human Argument:** Humans excel in vision because we can interpret ambiguous stimuli in\nmultiple ways, leading to innovative interpretations. For example, a painting can inspire\na new composition or a story, showcasing our ability to see possibilities beyond our own\nperception.\n- **AI Argument:** While AI can process information, it lacks the ability to see beyond\nits data. It cannot interpret ambiguous stimuli, but its processing is more efficient and\nprecise, making it ideal for tasks like image recognition.\n\n**Point 2: Imagination and Storytelling**\n- **Human Argument:** Creativity in imagination is driven by emotions and curiosity,\nallowing us to create new stories and ideas. For instance, a person's excitement can\ninspire a groundbreaking concept or a heartfelt narrative.\n- **AI Argument:** AI can generate creative content, but it does so based on predefined\npatterns and algorithms. While it can produce text, images, or music, it lacks the\nemotional depth and emotional expression that human creativity brings.\n\n**Point 3: Problem-Solving and Innovation**\n- **Human Argument:** Humans are innovative because they think outside the box and adapt\nto new challenges. They can devise solutions that others might overlook, such as eco-\nfriendly technologies or groundbreaking medical breakthroughs.\n- **AI Argument:** AI follows algorithms, which are efficient and systematic. While it can\nsolve specific problems, it lacks the creativity and adaptability that human innovation\nrequires.\n\n**Point 4: Emotions and Emotional Expression**\n- **Human Argument:** Emotions are crucial for creativity, as they drive the spark that\ninspires new ideas. For example, joy can lead to a creative breakthrough, while fear can\nprompt a calm, reflective approach.\n- **AI Argument:** While AI can process emotions, it may not express them in the same way.\nIt can provide emotional insights but lacks the emotional expression that human creativity\nrequires.\n\n**Point 5: Collaboration and Teamwork**\n- **Human Argument:** Collaboration allows for the pooling of diverse ideas, leading to\ninnovative solutions. Humans can brainstorm effectively and work together to achieve\nshared goals.\n- **AI Argument:** AI excels in processing information but lacks the ability to\ncollaborate or communicate with humans. It can assist in brainstorming but cannot lead\ncollaborative projects.\n\n**Conclusion:**\nBoth humans and AI have unique strengths in creativity. Humans excel in vision,\nimagination, problem-solving, and emotional expression, while AI excels in processing\ninformation and solving specific problems. The debate highlights the importance of\ncreativity in both individual and collaborative contexts. While humans can lead projects\nthat AI cannot complete, both sides have demonstrated the potential for creativity to\ndrive innovation and creativity."
          },
          "metadata": {}
        }
      ]
    },
    {
      "cell_type": "code",
      "source": [
        "generate('Describe a futuristic city in the year 2150 where AI controls everything.',\n",
        "         system_prompt=\"=You are a helpful, focused and to the point assistant.\",\n",
        "         max_length=3072)"
      ],
      "metadata": {
        "colab": {
          "base_uri": "https://localhost:8080/",
          "height": 860
        },
        "id": "4LGzeJwdwkUT",
        "outputId": "dd57907b-67ce-4f25-f712-ea74468f1804"
      },
      "execution_count": null,
      "outputs": [
        {
          "output_type": "display_data",
          "data": {
            "text/plain": [
              "<IPython.core.display.Markdown object>"
            ],
            "text/markdown": "**\\<think>**\nOkay, so I need to describe a futuristic city in the year 2150 where AI controls\neverything. Hmm, that's an interesting concept. I guess the first thing I should think\nabout is what aspects of a city would be affected by AI. Maybe things like transportation,\nenergy, communication, and even the environment?\n\nLet me start by considering the layout of the city. If AI is controlling everything, maybe\nthe streets are arranged in a way that's optimized for AI. Perhaps the city is built on a\ngrid system where AI can manage the traffic lights, traffic patterns, and even the flow of\npeople. That could make the city more efficient and less chaotic.\n\nNext, energy sources. In a city controlled by AI, maybe the energy grid is managed\ncentrally. Instead of individual power plants, there could be a central AI system that\ncoordinates the energy distribution. This might reduce the need for a lot of\ninfrastructure and make the city more sustainable.\n\nCommunication would be another area. If AI is controlling everything, maybe the city uses\nAI-driven communication systems. Perhaps there's a central AI that manages social media,\nmessaging apps, and even the way people interact with each other. This could make\ncommunication more seamless and less dependent on individual devices.\n\nTransportation systems could be a big one. With AI controlling traffic, maybe the city has\na highly automated public transport system. Trains, buses, and subways could be controlled\nby AI, making the transportation more efficient and less time-consuming for everyone.\nAlso, AI could be used to optimize the routes of these transportation systems, ensuring\nthat everyone can get to their destination quickly and safely.\n\nEnvironmentally, AI could play a role in managing waste and resources. Maybe the city has\nAI systems that collect and process waste, reducing the need for manual waste management.\nThis could also help in managing resources more efficiently, ensuring that there's enough\nfor everyone and reducing waste.\n\nI should also think about the overall structure of the city. Maybe it's built on a grid\nwhere AI can control every aspect of the city. The buildings could be designed in a way\nthat's optimized for AI, perhaps with AI-controlled lighting, energy systems, and even the\nway people interact within the buildings.\n\nIn terms of technology, I'm thinking about AI-driven infrastructure. There might be AI\nsystems that manage the entire city, from the infrastructure to the people. This could\ninclude AI for urban planning, which would help in designing the city in a way that's\nefficient and scalable.\n\nI also wonder about the social aspect. If AI is controlling everything, maybe the city has\nAI-driven social systems. Perhaps there's AI that manages social interactions, like how\npeople make friends or interact with each other. This could make the city more cohesive\nand less dependent on individual preferences.\n\nAnother thought is about the future of the city. If AI controls everything, maybe the city\nwill be more advanced and capable of handling complex tasks. This could lead to a more\nefficient and intelligent society, where AI is integrated into every aspect of daily life.\n\nI should also consider the challenges. If AI is controlling everything, there might be\nchallenges in ensuring that the AI systems are reliable and efficient. There could be\nissues with data privacy, especially if the city relies heavily on AI systems for\ndecision-making. There might also be challenges in maintaining the city's aesthetic and\nensuring that it meets the needs of its residents.\n\nIn summary, a futuristic city in 2150 where AI controls everything would likely have a\nhighly optimized layout, centralized energy systems, AI-driven communication, efficient\ntransportation, environmental management, and advanced infrastructure. The city would be\ndesigned to be highly integrated with AI, making it more efficient, cohesive, and capable\nof handling complex tasks.\n\nI think I've covered most of the aspects I can think of. Now, I should organize these\nthoughts into a coherent description.\n**\\</think>**\n\nIn the year 2150, a futuristic city where AI controls every aspect of life would be a\nmarvel of technology and innovation. The city would be built on a highly optimized grid\nsystem, where AI manages traffic, energy distribution, and even the flow of people,\nensuring efficiency and reducing chaos. Centralized energy systems would power the city,\neliminating the need for individual power plants and promoting sustainability.\n\nAI-driven communication systems would dominate social media, messaging apps, and\ninteractions, creating seamless and efficient communication. Public transport would be\nhighly automated, with AI optimizing routes and ensuring quick, safe travel for everyone.\nThis would include AI-powered buses, trains, and subways, making transportation efficient\nand less dependent on individual devices.\n\nEnvironmentally, AI would manage waste and resource management, reducing the need for\nmanual processes and promoting resource efficiency. The city would have AI-driven\ninfrastructure, including urban planning that ensures scalability and efficiency.\n\nThe city would be structured on a grid, with AI controlling every aspect, from building\ndesign to social interactions. AI-driven social systems would manage relationships and\ninteractions, making the city cohesive and less dependent on individual preferences.\nAdvanced AI infrastructure would handle tasks from urban planning to decision-making,\nintegrating AI into every aspect of daily life.\n\nChallenges include ensuring AI reliability and efficiency, maintaining aesthetic appeal,\nand addressing data privacy. Despite these challenges, the city would be a forward-\nthinking society, leveraging AI to create a more efficient, cohesive, and intelligent\nsociety."
          },
          "metadata": {}
        }
      ]
    }
  ]
}