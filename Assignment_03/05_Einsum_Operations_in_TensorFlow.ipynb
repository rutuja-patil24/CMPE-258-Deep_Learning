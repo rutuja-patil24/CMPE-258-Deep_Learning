{
  "nbformat": 4,
  "nbformat_minor": 0,
  "metadata": {
    "colab": {
      "provenance": [],
      "authorship_tag": "ABX9TyNNYcUv9CE2XJ60eM54XfaP",
      "include_colab_link": true
    },
    "kernelspec": {
      "name": "python3",
      "display_name": "Python 3"
    },
    "language_info": {
      "name": "python"
    }
  },
  "cells": [
    {
      "cell_type": "markdown",
      "metadata": {
        "id": "view-in-github",
        "colab_type": "text"
      },
      "source": [
        "<a href=\"https://colab.research.google.com/github/rutuja-patil24/CMPE-258-Deep_Learning/blob/main/Assignment_03/05_Einsum_Operations_in_TensorFlow.ipynb\" target=\"_parent\"><img src=\"https://colab.research.google.com/assets/colab-badge.svg\" alt=\"Open In Colab\"/></a>"
      ]
    },
    {
      "cell_type": "code",
      "execution_count": 1,
      "metadata": {
        "colab": {
          "base_uri": "https://localhost:8080/"
        },
        "id": "HDpYT92Md2JG",
        "outputId": "8952def3-7f19-4ca0-920c-4d910f711a5c"
      },
      "outputs": [
        {
          "output_type": "stream",
          "name": "stdout",
          "text": [
            "TensorFlow version: 2.18.0\n"
          ]
        }
      ],
      "source": [
        "# ✅ Section 1: Setup\n",
        "import tensorflow as tf\n",
        "import numpy as np\n",
        "import matplotlib.pyplot as plt\n",
        "from IPython.display import Markdown\n",
        "\n",
        "print(\"TensorFlow version:\", tf.__version__)\n"
      ]
    },
    {
      "cell_type": "code",
      "source": [
        "a = tf.constant([1., 2., 3.])\n",
        "b = tf.constant([4., 5., 6.])"
      ],
      "metadata": {
        "id": "vTzOFesweimH"
      },
      "execution_count": 2,
      "outputs": []
    },
    {
      "cell_type": "code",
      "source": [
        "# Vector Sum: \"i->\"\n",
        "vec_sum = tf.einsum(\"i->\", a)\n",
        "print(\"Vector Sum (i->):\", vec_sum.numpy())"
      ],
      "metadata": {
        "colab": {
          "base_uri": "https://localhost:8080/"
        },
        "id": "wVEK1ysYeiir",
        "outputId": "ab98b6c2-33d6-40cd-de95-216c85f73472"
      },
      "execution_count": 3,
      "outputs": [
        {
          "output_type": "stream",
          "name": "stdout",
          "text": [
            "Vector Sum (i->): 6.0\n"
          ]
        }
      ]
    },
    {
      "cell_type": "code",
      "source": [
        "# Vector Scaling: \"i,i->i\"\n",
        "scaled = tf.einsum(\"i,i->i\", a, b)\n",
        "print(\"Element-wise Scaling (i,i->i):\", scaled.numpy())"
      ],
      "metadata": {
        "colab": {
          "base_uri": "https://localhost:8080/"
        },
        "id": "NJZakXvmeifk",
        "outputId": "318558f7-412e-4dd7-8a4e-1ec501a269b1"
      },
      "execution_count": 4,
      "outputs": [
        {
          "output_type": "stream",
          "name": "stdout",
          "text": [
            "Element-wise Scaling (i,i->i): [ 4. 10. 18.]\n"
          ]
        }
      ]
    },
    {
      "cell_type": "code",
      "source": [
        "# Dot Product: \"i,i->\"\n",
        "dot = tf.einsum(\"i,i->\", a, b)\n",
        "print(\"Dot Product (i,i->):\", dot.numpy())"
      ],
      "metadata": {
        "colab": {
          "base_uri": "https://localhost:8080/"
        },
        "id": "FxaFEONdeicP",
        "outputId": "222ee6fb-36fd-40af-be67-68ed673fa6f8"
      },
      "execution_count": 5,
      "outputs": [
        {
          "output_type": "stream",
          "name": "stdout",
          "text": [
            "Dot Product (i,i->): 32.0\n"
          ]
        }
      ]
    },
    {
      "cell_type": "code",
      "source": [
        "# Outer Product: \"i,j->ij\"\n",
        "outer = tf.einsum(\"i,j->ij\", a, b)\n",
        "print(\"Outer Product (i,j->ij):\\n\", outer.numpy())\n"
      ],
      "metadata": {
        "colab": {
          "base_uri": "https://localhost:8080/"
        },
        "id": "tREcbtn-eCa1",
        "outputId": "81fd5cd7-9a4d-448f-ac21-30cc7be0305d"
      },
      "execution_count": 6,
      "outputs": [
        {
          "output_type": "stream",
          "name": "stdout",
          "text": [
            "Outer Product (i,j->ij):\n",
            " [[ 4.  5.  6.]\n",
            " [ 8. 10. 12.]\n",
            " [12. 15. 18.]]\n"
          ]
        }
      ]
    },
    {
      "cell_type": "code",
      "source": [
        "A = tf.constant([[1., 2.], [3., 4.]])\n",
        "B = tf.constant([[5., 6.], [7., 8.]])\n",
        "v = tf.constant([1., 2.])"
      ],
      "metadata": {
        "id": "x6dbbZr7eyUA"
      },
      "execution_count": 7,
      "outputs": []
    },
    {
      "cell_type": "code",
      "source": [
        "# Transpose: \"ij->ji\"\n",
        "transpose = tf.einsum(\"ij->ji\", A)\n",
        "print(\"Transpose (ij->ji):\\n\", transpose.numpy())"
      ],
      "metadata": {
        "colab": {
          "base_uri": "https://localhost:8080/"
        },
        "id": "Rd6rZGose0Or",
        "outputId": "a9f27c3b-7b99-41fa-ae99-505cf6110c03"
      },
      "execution_count": 8,
      "outputs": [
        {
          "output_type": "stream",
          "name": "stdout",
          "text": [
            "Transpose (ij->ji):\n",
            " [[1. 3.]\n",
            " [2. 4.]]\n"
          ]
        }
      ]
    },
    {
      "cell_type": "code",
      "source": [
        "# Sum of all elements: \"ij->\"\n",
        "total = tf.einsum(\"ij->\", A)\n",
        "print(\"Sum of All Elements (ij->):\", total.numpy())"
      ],
      "metadata": {
        "colab": {
          "base_uri": "https://localhost:8080/"
        },
        "id": "Sn_VUXZSe0Lb",
        "outputId": "beae8e5c-6f26-4ba2-824b-b3d79e87b7f4"
      },
      "execution_count": 9,
      "outputs": [
        {
          "output_type": "stream",
          "name": "stdout",
          "text": [
            "Sum of All Elements (ij->): 10.0\n"
          ]
        }
      ]
    },
    {
      "cell_type": "code",
      "source": [
        "# Row Sum: \"ij->i\"\n",
        "row_sum = tf.einsum(\"ij->i\", A)\n",
        "print(\"Row Sum (ij->i):\", row_sum.numpy())"
      ],
      "metadata": {
        "colab": {
          "base_uri": "https://localhost:8080/"
        },
        "id": "hHeykGGje0Hu",
        "outputId": "8cef5130-d15d-4377-dc7c-0156a03d40b4"
      },
      "execution_count": 10,
      "outputs": [
        {
          "output_type": "stream",
          "name": "stdout",
          "text": [
            "Row Sum (ij->i): [3. 7.]\n"
          ]
        }
      ]
    },
    {
      "cell_type": "code",
      "source": [
        "# Column Sum: \"ij->j\"\n",
        "col_sum = tf.einsum(\"ij->j\", A)\n",
        "print(\"Column Sum (ij->j):\", col_sum.numpy())"
      ],
      "metadata": {
        "colab": {
          "base_uri": "https://localhost:8080/"
        },
        "id": "Rlju5B75e7k_",
        "outputId": "30bf272c-ef97-4f30-a79a-0504050a8da2"
      },
      "execution_count": 11,
      "outputs": [
        {
          "output_type": "stream",
          "name": "stdout",
          "text": [
            "Column Sum (ij->j): [4. 6.]\n"
          ]
        }
      ]
    },
    {
      "cell_type": "code",
      "source": [
        "# Matrix-vector multiplication: \"ij,j->i\"\n",
        "mat_vec = tf.einsum(\"ij,j->i\", A, v)\n",
        "print(\"Matrix-Vector Multiplication (ij,j->i):\", mat_vec.numpy())"
      ],
      "metadata": {
        "colab": {
          "base_uri": "https://localhost:8080/"
        },
        "id": "R90leO3fe7fv",
        "outputId": "785f0c6f-85f9-4847-d721-61ba1d147468"
      },
      "execution_count": 12,
      "outputs": [
        {
          "output_type": "stream",
          "name": "stdout",
          "text": [
            "Matrix-Vector Multiplication (ij,j->i): [ 5. 11.]\n"
          ]
        }
      ]
    },
    {
      "cell_type": "code",
      "source": [
        "# Matrix-matrix multiplication: \"ik,kj->ij\"\n",
        "mat_mat = tf.einsum(\"ik,kj->ij\", A, B)\n",
        "print(\"Matrix-Matrix Multiplication (ik,kj->ij):\\n\", mat_mat.numpy())\n"
      ],
      "metadata": {
        "colab": {
          "base_uri": "https://localhost:8080/"
        },
        "id": "6CUFIiPaeCXk",
        "outputId": "dd2ee27d-bed9-41d3-a736-0a44f0052d7a"
      },
      "execution_count": 13,
      "outputs": [
        {
          "output_type": "stream",
          "name": "stdout",
          "text": [
            "Matrix-Matrix Multiplication (ik,kj->ij):\n",
            " [[19. 22.]\n",
            " [43. 50.]]\n"
          ]
        }
      ]
    },
    {
      "cell_type": "code",
      "source": [
        "# Dot product of matrices: \"ij,ij->\"\n",
        "mat_dot = tf.einsum(\"ij,ij->\", A, B)\n",
        "print(\"Matrix-wise Dot Product (ij,ij->):\", mat_dot.numpy())"
      ],
      "metadata": {
        "colab": {
          "base_uri": "https://localhost:8080/"
        },
        "id": "IJkcErIsfHGZ",
        "outputId": "fb60b559-de75-4d80-afca-7955242f9c53"
      },
      "execution_count": 14,
      "outputs": [
        {
          "output_type": "stream",
          "name": "stdout",
          "text": [
            "Matrix-wise Dot Product (ij,ij->): 70.0\n"
          ]
        }
      ]
    },
    {
      "cell_type": "code",
      "source": [
        "# Hadamard product: \"ij,ij->ij\"\n",
        "hadamard = tf.einsum(\"ij,ij->ij\", A, B)\n",
        "print(\"Hadamard Product (ij,ij->ij):\\n\", hadamard.numpy())"
      ],
      "metadata": {
        "colab": {
          "base_uri": "https://localhost:8080/"
        },
        "id": "mDzlpmTsfHDB",
        "outputId": "a7d406bb-7410-4b4c-eed0-e83b3b81b879"
      },
      "execution_count": 15,
      "outputs": [
        {
          "output_type": "stream",
          "name": "stdout",
          "text": [
            "Hadamard Product (ij,ij->ij):\n",
            " [[ 5. 12.]\n",
            " [21. 32.]]\n"
          ]
        }
      ]
    },
    {
      "cell_type": "code",
      "source": [
        "# Diagonal: \"ii->i\"\n",
        "diag = tf.einsum(\"ii->i\", tf.constant([[1., 2.], [3., 4.]]))\n",
        "print(\"Matrix Diagonal (ii->i):\", diag.numpy())"
      ],
      "metadata": {
        "colab": {
          "base_uri": "https://localhost:8080/"
        },
        "id": "4RlI3iWyfG_r",
        "outputId": "f2bc9626-ca5d-4115-e7b1-51b4b2639bb2"
      },
      "execution_count": 16,
      "outputs": [
        {
          "output_type": "stream",
          "name": "stdout",
          "text": [
            "Matrix Diagonal (ii->i): [1. 4.]\n"
          ]
        }
      ]
    },
    {
      "cell_type": "code",
      "source": [
        "# Trace: \"ii->\"\n",
        "trace = tf.einsum(\"ii->\", tf.constant([[1., 2.], [3., 4.]]))\n",
        "print(\"Matrix Trace (ii->):\", trace.numpy())\n"
      ],
      "metadata": {
        "colab": {
          "base_uri": "https://localhost:8080/"
        },
        "id": "-5EAScGfeCUM",
        "outputId": "b5b69263-3c6b-4b1c-d909-456c6d23cff8"
      },
      "execution_count": 17,
      "outputs": [
        {
          "output_type": "stream",
          "name": "stdout",
          "text": [
            "Matrix Trace (ii->): 5.0\n"
          ]
        }
      ]
    },
    {
      "cell_type": "code",
      "source": [
        "batch = 2\n",
        "seq_len = 4\n",
        "dim = 8\n",
        "\n",
        "Q = tf.random.normal((batch, seq_len, dim))\n",
        "K = tf.random.normal((batch, seq_len, dim))\n",
        "\n",
        "# Attention score computation: \"bij,bkj->bik\"\n",
        "attn = tf.einsum(\"bij,bkj->bik\", Q, K)\n",
        "print(\"Self-Attention Score shape (bij,bkj->bik):\", attn.shape)\n"
      ],
      "metadata": {
        "colab": {
          "base_uri": "https://localhost:8080/"
        },
        "id": "nk7kpQQ7eCQz",
        "outputId": "512bdfd6-d9f1-45de-8c57-f59e0838d783"
      },
      "execution_count": 18,
      "outputs": [
        {
          "output_type": "stream",
          "name": "stdout",
          "text": [
            "Self-Attention Score shape (bij,bkj->bik): (2, 4, 4)\n"
          ]
        }
      ]
    },
    {
      "cell_type": "code",
      "source": [
        "#RGB to Grayscale Image\n",
        "\n",
        "# Fake RGB image: (batch, height, width, channels)\n",
        "img = tf.random.uniform((1, 3, 3, 3))\n",
        "weights = tf.constant([0.2989, 0.5870, 0.1140])  # grayscale weights\n",
        "\n",
        "gray = tf.einsum(\"bhwc,c->bhw\", img, weights)\n",
        "print(\"Grayscale image shape (bhwc,c->bhw):\", gray.shape)\n"
      ],
      "metadata": {
        "colab": {
          "base_uri": "https://localhost:8080/"
        },
        "id": "x8_j-qLSeCM6",
        "outputId": "7d32f0bb-4465-4bff-97c3-9edae2bf5747"
      },
      "execution_count": 19,
      "outputs": [
        {
          "output_type": "stream",
          "name": "stdout",
          "text": [
            "Grayscale image shape (bhwc,c->bhw): (1, 3, 3)\n"
          ]
        }
      ]
    },
    {
      "cell_type": "code",
      "source": [
        "# ✅ Section 9: Visualize Outer Product\n",
        "plt.matshow(outer.numpy(), cmap=\"plasma\")\n",
        "plt.title(\"Outer Product Heatmap (i,j->ij)\")\n",
        "plt.xlabel(\"j\")\n",
        "plt.ylabel(\"i\")\n",
        "plt.colorbar()\n",
        "plt.show()\n"
      ],
      "metadata": {
        "colab": {
          "base_uri": "https://localhost:8080/",
          "height": 426
        },
        "id": "Owin7y3qeCJ-",
        "outputId": "18d979d7-fe51-494d-ba20-dd76a645c3c1"
      },
      "execution_count": 20,
      "outputs": [
        {
          "output_type": "display_data",
          "data": {
            "text/plain": [
              "<Figure size 480x480 with 2 Axes>"
            ],
            "image/png": "[encoded data removed]"
          },
          "metadata": {}
        }
      ]
    }
  ]
}