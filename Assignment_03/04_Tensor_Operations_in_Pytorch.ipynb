{
  "nbformat": 4,
  "nbformat_minor": 0,
  "metadata": {
    "colab": {
      "provenance": [],
      "authorship_tag": "ABX9TyO8LEkjE0elso33tPi5BKhn",
      "include_colab_link": true
    },
    "kernelspec": {
      "name": "python3",
      "display_name": "Python 3"
    },
    "language_info": {
      "name": "python"
    }
  },
  "cells": [
    {
      "cell_type": "markdown",
      "metadata": {
        "id": "view-in-github",
        "colab_type": "text"
      },
      "source": [
        "<a href=\"https://colab.research.google.com/github/rutuja-patil24/CMPE-258-Deep_Learning/blob/main/Assignment_03/04_Tensor_Operations_in_Pytorch.ipynb\" target=\"_parent\"><img src=\"https://colab.research.google.com/assets/colab-badge.svg\" alt=\"Open In Colab\"/></a>"
      ]
    },
    {
      "cell_type": "markdown",
      "source": [
        "## STEP 1: Setup and Basic Tensor Creation"
      ],
      "metadata": {
        "id": "i1mJicFlIV05"
      }
    },
    {
      "cell_type": "code",
      "execution_count": 1,
      "metadata": {
        "colab": {
          "base_uri": "https://localhost:8080/"
        },
        "id": "OOSlaviMuBd1",
        "outputId": "ec0921b3-98a9-42af-f0af-72c8e029eeb2"
      },
      "outputs": [
        {
          "output_type": "stream",
          "name": "stdout",
          "text": [
            "\u001b[2K   \u001b[90m━━━━━━━━━━━━━━━━━━━━━━━━━━━━━━━━━━━━━━━━\u001b[0m \u001b[32m363.4/363.4 MB\u001b[0m \u001b[31m4.0 MB/s\u001b[0m eta \u001b[36m0:00:00\u001b[0m\n",
            "\u001b[2K   \u001b[90m━━━━━━━━━━━━━━━━━━━━━━━━━━━━━━━━━━━━━━━━\u001b[0m \u001b[32m13.8/13.8 MB\u001b[0m \u001b[31m62.0 MB/s\u001b[0m eta \u001b[36m0:00:00\u001b[0m\n",
            "\u001b[2K   \u001b[90m━━━━━━━━━━━━━━━━━━━━━━━━━━━━━━━━━━━━━━━━\u001b[0m \u001b[32m24.6/24.6 MB\u001b[0m \u001b[31m56.5 MB/s\u001b[0m eta \u001b[36m0:00:00\u001b[0m\n",
            "\u001b[2K   \u001b[90m━━━━━━━━━━━━━━━━━━━━━━━━━━━━━━━━━━━━━━━━\u001b[0m \u001b[32m883.7/883.7 kB\u001b[0m \u001b[31m43.9 MB/s\u001b[0m eta \u001b[36m0:00:00\u001b[0m\n",
            "\u001b[2K   \u001b[90m━━━━━━━━━━━━━━━━━━━━━━━━━━━━━━━━━━━━━━━━\u001b[0m \u001b[32m664.8/664.8 MB\u001b[0m \u001b[31m2.7 MB/s\u001b[0m eta \u001b[36m0:00:00\u001b[0m\n",
            "\u001b[2K   \u001b[90m━━━━━━━━━━━━━━━━━━━━━━━━━━━━━━━━━━━━━━━━\u001b[0m \u001b[32m211.5/211.5 MB\u001b[0m \u001b[31m5.8 MB/s\u001b[0m eta \u001b[36m0:00:00\u001b[0m\n",
            "\u001b[2K   \u001b[90m━━━━━━━━━━━━━━━━━━━━━━━━━━━━━━━━━━━━━━━━\u001b[0m \u001b[32m56.3/56.3 MB\u001b[0m \u001b[31m14.9 MB/s\u001b[0m eta \u001b[36m0:00:00\u001b[0m\n",
            "\u001b[2K   \u001b[90m━━━━━━━━━━━━━━━━━━━━━━━━━━━━━━━━━━━━━━━━\u001b[0m \u001b[32m127.9/127.9 MB\u001b[0m \u001b[31m7.4 MB/s\u001b[0m eta \u001b[36m0:00:00\u001b[0m\n",
            "\u001b[2K   \u001b[90m━━━━━━━━━━━━━━━━━━━━━━━━━━━━━━━━━━━━━━━━\u001b[0m \u001b[32m207.5/207.5 MB\u001b[0m \u001b[31m5.8 MB/s\u001b[0m eta \u001b[36m0:00:00\u001b[0m\n",
            "\u001b[2K   \u001b[90m━━━━━━━━━━━━━━━━━━━━━━━━━━━━━━━━━━━━━━━━\u001b[0m \u001b[32m21.1/21.1 MB\u001b[0m \u001b[31m82.5 MB/s\u001b[0m eta \u001b[36m0:00:00\u001b[0m\n",
            "\u001b[?25hPyTorch Version: 2.6.0+cu124\n"
          ]
        }
      ],
      "source": [
        "# Install PyTorch (if needed)\n",
        "!pip install torch --quiet\n",
        "\n",
        "# Import\n",
        "import torch\n",
        "import numpy as np\n",
        "\n",
        "# Check Version\n",
        "print(\"PyTorch Version:\", torch.__version__)\n"
      ]
    },
    {
      "cell_type": "code",
      "source": [
        "# Scalar (Rank-0)\n",
        "scalar = torch.tensor(42)\n",
        "print(\"Scalar:\", scalar)\n",
        "\n",
        "# Vector (Rank-1)\n",
        "vector = torch.tensor([1, 2, 3])\n",
        "print(\"Vector:\", vector)\n",
        "\n",
        "# Matrix (Rank-2)\n",
        "matrix = torch.tensor([[1, 2], [3, 4]])\n",
        "print(\"Matrix:\\n\", matrix)\n",
        "\n",
        "# Higher-dimensional Tensor (Rank-3)\n",
        "tensor_3d = torch.tensor([[[1, 2], [3, 4]], [[5, 6], [7, 8]]])\n",
        "print(\"3D Tensor:\\n\", tensor_3d)\n"
      ],
      "metadata": {
        "colab": {
          "base_uri": "https://localhost:8080/"
        },
        "id": "ePQoWPwLuHtG",
        "outputId": "c230c618-bf93-4a14-df70-813142a8edb4"
      },
      "execution_count": 2,
      "outputs": [
        {
          "output_type": "stream",
          "name": "stdout",
          "text": [
            "Scalar: tensor(42)\n",
            "Vector: tensor([1, 2, 3])\n",
            "Matrix:\n",
            " tensor([[1, 2],\n",
            "        [3, 4]])\n",
            "3D Tensor:\n",
            " tensor([[[1, 2],\n",
            "         [3, 4]],\n",
            "\n",
            "        [[5, 6],\n",
            "         [7, 8]]])\n"
          ]
        }
      ]
    },
    {
      "cell_type": "code",
      "source": [
        "# Tensor Properties\n",
        "print(\"Tensor Shape:\", matrix.shape)\n",
        "print(\"Tensor Data Type:\", matrix.dtype)\n",
        "print(\"Tensor Device:\", matrix.device)\n"
      ],
      "metadata": {
        "colab": {
          "base_uri": "https://localhost:8080/"
        },
        "id": "yLuNICrGuwga",
        "outputId": "7eda3924-4d3f-4f81-df98-0d788489bff9"
      },
      "execution_count": 3,
      "outputs": [
        {
          "output_type": "stream",
          "name": "stdout",
          "text": [
            "Tensor Shape: torch.Size([2, 2])\n",
            "Tensor Data Type: torch.int64\n",
            "Tensor Device: cpu\n"
          ]
        }
      ]
    },
    {
      "cell_type": "markdown",
      "source": [
        "##STEP 2: Math Ops, Indexing, Reshaping, Broadcasting"
      ],
      "metadata": {
        "id": "cHMDfv-UIdwI"
      }
    },
    {
      "cell_type": "code",
      "source": [
        "# Math Operations\n",
        "a = torch.tensor([2, 3])\n",
        "b = torch.tensor([4, 5])\n",
        "print(\"Addition:\", a + b)\n",
        "print(\"Multiplication:\", a * b)\n",
        "\n",
        "A = torch.tensor([[1, 2], [3, 4]])\n",
        "B = torch.tensor([[5, 6], [7, 8]])\n",
        "print(\"Matrix Multiplication:\\n\", torch.matmul(A, B))\n"
      ],
      "metadata": {
        "colab": {
          "base_uri": "https://localhost:8080/"
        },
        "id": "yDtGJ1n7FtYB",
        "outputId": "bcbe51b0-32c9-45cc-adf7-3c2c9a588a98"
      },
      "execution_count": 4,
      "outputs": [
        {
          "output_type": "stream",
          "name": "stdout",
          "text": [
            "Addition: tensor([6, 8])\n",
            "Multiplication: tensor([ 8, 15])\n",
            "Matrix Multiplication:\n",
            " tensor([[19, 22],\n",
            "        [43, 50]])\n"
          ]
        }
      ]
    },
    {
      "cell_type": "code",
      "source": [
        "# Indexing and Slicing\n",
        "tensor = torch.tensor([[1, 2, 3], [4, 5, 6], [7, 8, 9]])\n",
        "print(\"Element at (0,1):\", tensor[0, 1])\n",
        "print(\"First row:\", tensor[0])\n",
        "print(\"First column:\", tensor[:, 0])\n",
        "print(\"Last column:\", tensor[:, -1])\n"
      ],
      "metadata": {
        "colab": {
          "base_uri": "https://localhost:8080/"
        },
        "id": "tR-S_VakFtTj",
        "outputId": "f566f695-82f1-47bb-c90e-b257b3563c26"
      },
      "execution_count": 5,
      "outputs": [
        {
          "output_type": "stream",
          "name": "stdout",
          "text": [
            "Element at (0,1): tensor(2)\n",
            "First row: tensor([1, 2, 3])\n",
            "First column: tensor([1, 4, 7])\n",
            "Last column: tensor([3, 6, 9])\n"
          ]
        }
      ]
    },
    {
      "cell_type": "code",
      "source": [
        "# Reshape and Transpose\n",
        "reshaped = tensor.view(1, 9)\n",
        "print(\"Reshaped Tensor:\\n\", reshaped)\n",
        "transposed = tensor.T\n",
        "print(\"Transposed Tensor:\\n\", transposed)\n"
      ],
      "metadata": {
        "colab": {
          "base_uri": "https://localhost:8080/"
        },
        "id": "G7JMuZB9FtQD",
        "outputId": "4eddb00e-2a18-42d7-9664-1cb01413c02e"
      },
      "execution_count": 6,
      "outputs": [
        {
          "output_type": "stream",
          "name": "stdout",
          "text": [
            "Reshaped Tensor:\n",
            " tensor([[1, 2, 3, 4, 5, 6, 7, 8, 9]])\n",
            "Transposed Tensor:\n",
            " tensor([[1, 4, 7],\n",
            "        [2, 5, 8],\n",
            "        [3, 6, 9]])\n"
          ]
        }
      ]
    },
    {
      "cell_type": "code",
      "source": [
        "# Broadcasting\n",
        "A = torch.tensor([[1, 2, 3], [4, 5, 6]])\n",
        "B = torch.tensor([[1], [2]])\n",
        "print(\"Broadcasted Addition:\\n\", A + B)\n"
      ],
      "metadata": {
        "colab": {
          "base_uri": "https://localhost:8080/"
        },
        "id": "kkNu8mTiFtM7",
        "outputId": "33470779-8852-47aa-835d-3b75dfe0c889"
      },
      "execution_count": 7,
      "outputs": [
        {
          "output_type": "stream",
          "name": "stdout",
          "text": [
            "Broadcasted Addition:\n",
            " tensor([[2, 3, 4],\n",
            "        [6, 7, 8]])\n"
          ]
        }
      ]
    },
    {
      "cell_type": "markdown",
      "source": [
        "##STEP 3: NumPy Interoperability, Advanced Indexing, einsum"
      ],
      "metadata": {
        "id": "IO_KhKy4IjzC"
      }
    },
    {
      "cell_type": "code",
      "source": [
        "# PyTorch ↔ NumPy\n",
        "np_array = matrix.numpy()\n",
        "print(\"NumPy Array:\\n\", np_array)\n",
        "torch_tensor = torch.from_numpy(np_array)\n",
        "print(\"Converted Tensor:\\n\", torch_tensor)\n"
      ],
      "metadata": {
        "colab": {
          "base_uri": "https://localhost:8080/"
        },
        "id": "JizuD7MXGLuy",
        "outputId": "cf42dda4-cfe2-41c6-f46e-1745d07efbd7"
      },
      "execution_count": 8,
      "outputs": [
        {
          "output_type": "stream",
          "name": "stdout",
          "text": [
            "NumPy Array:\n",
            " [[1 2]\n",
            " [3 4]]\n",
            "Converted Tensor:\n",
            " tensor([[1, 2],\n",
            "        [3, 4]])\n"
          ]
        }
      ]
    },
    {
      "cell_type": "code",
      "source": [
        "# Advanced Indexing\n",
        "x = torch.arange(10)\n",
        "filtered_tensor = x[x > 5]\n",
        "print(\"Filtered Tensor with Boolean Mask:\", filtered_tensor)\n",
        "\n",
        "# Slicing with Steps\n",
        "stepped_tensor = x[0:10:2]\n",
        "print(\"Tensor with Steps:\", stepped_tensor)\n"
      ],
      "metadata": {
        "colab": {
          "base_uri": "https://localhost:8080/"
        },
        "id": "xBUConCxGLew",
        "outputId": "e1756f46-957a-4869-e030-237b7231251d"
      },
      "execution_count": 9,
      "outputs": [
        {
          "output_type": "stream",
          "name": "stdout",
          "text": [
            "Filtered Tensor with Boolean Mask: tensor([6, 7, 8, 9])\n",
            "Tensor with Steps: tensor([0, 2, 4, 6, 8])\n"
          ]
        }
      ]
    },
    {
      "cell_type": "code",
      "source": [
        "# Einsum Example\n",
        "a = torch.rand(3, 2, 5)\n",
        "b = torch.rand(3, 5, 3)\n",
        "result = torch.einsum('bij,bjk->bik', a, b)\n",
        "print(\"Batch Matrix Multiplication Result:\\n\", result)\n"
      ],
      "metadata": {
        "colab": {
          "base_uri": "https://localhost:8080/"
        },
        "id": "LvBPoVe1GLba",
        "outputId": "91196ae5-dccb-4baa-d46f-652987974e5c"
      },
      "execution_count": 10,
      "outputs": [
        {
          "output_type": "stream",
          "name": "stdout",
          "text": [
            "Batch Matrix Multiplication Result:\n",
            " tensor([[[1.0398, 0.7855, 1.1276],\n",
            "         [1.4982, 1.2798, 1.4327]],\n",
            "\n",
            "        [[2.0890, 2.3383, 1.0198],\n",
            "         [1.1980, 1.6945, 0.4066]],\n",
            "\n",
            "        [[0.6153, 0.8809, 0.5636],\n",
            "         [1.3585, 1.2821, 0.4917]]])\n"
          ]
        }
      ]
    },
    {
      "cell_type": "markdown",
      "source": [
        "##STEP 4: Visualizations and Transformations"
      ],
      "metadata": {
        "id": "HLooN2epIpgh"
      }
    },
    {
      "cell_type": "code",
      "source": [
        "import matplotlib.pyplot as plt\n",
        "\n",
        "# Visualize a tensor as an image\n",
        "tensor = torch.randn(10, 10)\n",
        "plt.imshow(tensor, cmap='hot')\n",
        "plt.title('Random Tensor Visualization')\n",
        "plt.colorbar()\n",
        "plt.show()\n"
      ],
      "metadata": {
        "colab": {
          "base_uri": "https://localhost:8080/",
          "height": 452
        },
        "id": "vsx6TJDTGLYH",
        "outputId": "7916baa3-96c0-4369-9146-7688a0490f51"
      },
      "execution_count": 11,
      "outputs": [
        {
          "output_type": "display_data",
          "data": {
            "text/plain": [
              "<Figure size 640x480 with 2 Axes>"
            ],
            "image/png": "[encoded data removed]"
          },
          "metadata": {}
        }
      ]
    },
    {
      "cell_type": "code",
      "source": [
        "# Flatten and Concatenate\n",
        "flat_tensor = tensor_3d.flatten()\n",
        "concat_tensor = torch.cat([tensor_3d, tensor_3d], dim=0)\n",
        "print(\"Flattened Tensor:\", flat_tensor)\n",
        "print(\"Concatenated Tensor:\\n\", concat_tensor)\n",
        "\n",
        "# Roll and Flip\n",
        "rolled_tensor = torch.roll(tensor_3d, shifts=1, dims=2)\n",
        "flipped_tensor = torch.flip(tensor_3d, dims=[1])\n",
        "print(\"Rolled Tensor:\\n\", rolled_tensor)\n",
        "print(\"Flipped Tensor:\\n\", flipped_tensor)\n"
      ],
      "metadata": {
        "colab": {
          "base_uri": "https://localhost:8080/"
        },
        "id": "hgFTMzQjGLQy",
        "outputId": "95cb4bf7-2bfb-4eed-b5af-0b6b60abb159"
      },
      "execution_count": 12,
      "outputs": [
        {
          "output_type": "stream",
          "name": "stdout",
          "text": [
            "Flattened Tensor: tensor([1, 2, 3, 4, 5, 6, 7, 8])\n",
            "Concatenated Tensor:\n",
            " tensor([[[1, 2],\n",
            "         [3, 4]],\n",
            "\n",
            "        [[5, 6],\n",
            "         [7, 8]],\n",
            "\n",
            "        [[1, 2],\n",
            "         [3, 4]],\n",
            "\n",
            "        [[5, 6],\n",
            "         [7, 8]]])\n",
            "Rolled Tensor:\n",
            " tensor([[[2, 1],\n",
            "         [4, 3]],\n",
            "\n",
            "        [[6, 5],\n",
            "         [8, 7]]])\n",
            "Flipped Tensor:\n",
            " tensor([[[3, 4],\n",
            "         [1, 2]],\n",
            "\n",
            "        [[7, 8],\n",
            "         [5, 6]]])\n"
          ]
        }
      ]
    },
    {
      "cell_type": "markdown",
      "source": [
        "##STEP 5: In-place, Reductions, Matrix Ops\n",
        "\n"
      ],
      "metadata": {
        "id": "5AXB4vonIvLZ"
      }
    },
    {
      "cell_type": "code",
      "source": [
        "# In-place operations\n",
        "original_tensor = torch.tensor([1, 2, 3])\n",
        "original_tensor.add_(5)\n",
        "print(\"Tensor after In-place Addition:\", original_tensor)\n"
      ],
      "metadata": {
        "colab": {
          "base_uri": "https://localhost:8080/"
        },
        "id": "Qd5IrVYMGek2",
        "outputId": "8150bbfb-4b4c-4dfd-eb88-c7a89c9a373c"
      },
      "execution_count": 13,
      "outputs": [
        {
          "output_type": "stream",
          "name": "stdout",
          "text": [
            "Tensor after In-place Addition: tensor([6, 7, 8])\n"
          ]
        }
      ]
    },
    {
      "cell_type": "code",
      "source": [
        "# Reduction Operations\n",
        "tensor = torch.tensor([[1, 2, 3], [4, 5, 6], [7, 8, 9]])\n",
        "print(\"Max:\", torch.max(tensor))\n",
        "print(\"Max per row:\", torch.max(tensor, dim=1))\n",
        "print(\"Argmax:\", torch.argmax(tensor))\n",
        "print(\"Sum:\", torch.sum(tensor))\n",
        "print(\"Mean per row:\", torch.mean(tensor.float(), dim=1))"
      ],
      "metadata": {
        "colab": {
          "base_uri": "https://localhost:8080/"
        },
        "id": "t4Ftp0eMGehZ",
        "outputId": "97075cc2-e883-43c6-c962-c6fc8a4bda31"
      },
      "execution_count": 14,
      "outputs": [
        {
          "output_type": "stream",
          "name": "stdout",
          "text": [
            "Max: tensor(9)\n",
            "Max per row: torch.return_types.max(\n",
            "values=tensor([3, 6, 9]),\n",
            "indices=tensor([2, 2, 2]))\n",
            "Argmax: tensor(8)\n",
            "Sum: tensor(45)\n",
            "Mean per row: tensor([2., 5., 8.])\n"
          ]
        }
      ]
    },
    {
      "cell_type": "markdown",
      "source": [
        "##STEP 6: Element-wise & Complex Matrix Ops"
      ],
      "metadata": {
        "id": "q8rlaXQCJDlx"
      }
    },
    {
      "cell_type": "code",
      "source": [
        "# Element-wise operations\n",
        "tensor_a = torch.tensor([1, 2, 3])\n",
        "tensor_b = torch.tensor([4, 5, 6])\n",
        "print(\"Add:\", tensor_a + tensor_b)\n",
        "print(\"Multiply:\", tensor_a * tensor_b)\n",
        "print(\"Divide:\", tensor_a / tensor_b)\n",
        "print(\"Power:\", tensor_a ** tensor_b)\n"
      ],
      "metadata": {
        "colab": {
          "base_uri": "https://localhost:8080/"
        },
        "id": "5jsgbVCGGeUG",
        "outputId": "4e5c5d30-40f8-452e-f8d8-ff0bf21c7c40"
      },
      "execution_count": 15,
      "outputs": [
        {
          "output_type": "stream",
          "name": "stdout",
          "text": [
            "Add: tensor([5, 7, 9])\n",
            "Multiply: tensor([ 4, 10, 18])\n",
            "Divide: tensor([0.2500, 0.4000, 0.5000])\n",
            "Power: tensor([  1,  32, 729])\n"
          ]
        }
      ]
    },
    {
      "cell_type": "code",
      "source": [
        "# Matrix & Batch Matrix Multiplication\n",
        "matrix_a = torch.tensor([[1, 2], [3, 4]])\n",
        "matrix_b = torch.tensor([[5, 6], [7, 8]])\n",
        "print(\"Matrix Multiplication:\\n\", torch.mm(matrix_a, matrix_b))\n",
        "\n",
        "batch_a = torch.randn(3, 2, 5)\n",
        "batch_b = torch.randn(3, 5, 2)\n",
        "print(\"Batch Matrix Multiplication:\\n\", torch.bmm(batch_a, batch_b))\n",
        "\n",
        "print(\"Dot Product:\", torch.dot(tensor_a.float(), tensor_b.float()))\n"
      ],
      "metadata": {
        "colab": {
          "base_uri": "https://localhost:8080/"
        },
        "id": "k-vT2GwjGnBK",
        "outputId": "e9157a61-1f4d-4a10-a64d-500975c9c326"
      },
      "execution_count": 16,
      "outputs": [
        {
          "output_type": "stream",
          "name": "stdout",
          "text": [
            "Matrix Multiplication:\n",
            " tensor([[19, 22],\n",
            "        [43, 50]])\n",
            "Batch Matrix Multiplication:\n",
            " tensor([[[ 1.3361,  0.7341],\n",
            "         [ 1.9061,  0.2553]],\n",
            "\n",
            "        [[-0.5653, -0.9536],\n",
            "         [ 2.5564, -0.8250]],\n",
            "\n",
            "        [[ 3.5346,  2.8979],\n",
            "         [ 0.1733, -0.5282]]])\n",
            "Dot Product: tensor(32.)\n"
          ]
        }
      ]
    },
    {
      "cell_type": "code",
      "source": [
        "# Complex Matrix Functions\n",
        "matrix_a = matrix_a.float()\n",
        "print(\"Determinant:\", torch.det(matrix_a))\n",
        "print(\"Inverse:\\n\", torch.inverse(matrix_a))\n",
        "\n",
        "u, s, v = torch.svd(matrix_a)\n",
        "print(\"SVD - U:\\n\", u)\n",
        "print(\"SVD - Singular Values:\", s)\n",
        "print(\"SVD - V:\\n\", v)\n"
      ],
      "metadata": {
        "colab": {
          "base_uri": "https://localhost:8080/"
        },
        "id": "Xnv0MI4jGm99",
        "outputId": "8d8a3f1c-79fd-42c1-ae6b-c9954367f07c"
      },
      "execution_count": 17,
      "outputs": [
        {
          "output_type": "stream",
          "name": "stdout",
          "text": [
            "Determinant: tensor(-2.)\n",
            "Inverse:\n",
            " tensor([[-2.0000,  1.0000],\n",
            "        [ 1.5000, -0.5000]])\n",
            "SVD - U:\n",
            " tensor([[-0.4046, -0.9145],\n",
            "        [-0.9145,  0.4046]])\n",
            "SVD - Singular Values: tensor([5.4650, 0.3660])\n",
            "SVD - V:\n",
            " tensor([[-0.5760,  0.8174],\n",
            "        [-0.8174, -0.5760]])\n"
          ]
        }
      ]
    },
    {
      "cell_type": "markdown",
      "source": [
        "##STEP 7: Advanced Tensor Manipulations using einops and torch.einsum"
      ],
      "metadata": {
        "id": "1RUaF0KWLMOr"
      }
    },
    {
      "cell_type": "code",
      "source": [
        "# Install einops if not already\n",
        "!pip install einops --quiet\n",
        "from einops import rearrange, reduce, repeat\n",
        "import torch\n"
      ],
      "metadata": {
        "id": "7VppMXAxGm7J"
      },
      "execution_count": 18,
      "outputs": []
    },
    {
      "cell_type": "markdown",
      "source": [
        "###Rearranging Tensor Dimensions"
      ],
      "metadata": {
        "id": "UU-vDKc4LUV3"
      }
    },
    {
      "cell_type": "code",
      "source": [
        "# Example: Image Tensor (batch_size=2, channels=3, height=4, width=4)\n",
        "image_tensor = torch.arange(2*3*4*4).reshape(2, 3, 4, 4)\n",
        "\n",
        "# Convert from BCHW -> BHWC (used in TensorFlow, visualization)\n",
        "rearranged = rearrange(image_tensor, 'b c h w -> b h w c')\n",
        "print(\"Rearranged shape (BCHW -> BHWC):\", rearranged.shape)\n"
      ],
      "metadata": {
        "colab": {
          "base_uri": "https://localhost:8080/"
        },
        "id": "t50QE045Gm4R",
        "outputId": "6ccab268-1232-44e0-97c5-1040d1ba0237"
      },
      "execution_count": 19,
      "outputs": [
        {
          "output_type": "stream",
          "name": "stdout",
          "text": [
            "Rearranged shape (BCHW -> BHWC): torch.Size([2, 4, 4, 3])\n"
          ]
        }
      ]
    },
    {
      "cell_type": "markdown",
      "source": [
        "###Reducing Across Dimensions (like Global Pooling)"
      ],
      "metadata": {
        "id": "M-mca_KNNQ90"
      }
    },
    {
      "cell_type": "code",
      "source": [
        "# Reduce: mean over H and W (global average pooling)\n",
        "global_avg = reduce(image_tensor.float(), 'b c h w -> b c', 'mean') # Change to: image_tensor.float()\n",
        "print(\"Global average per channel:\", global_avg.shape)"
      ],
      "metadata": {
        "colab": {
          "base_uri": "https://localhost:8080/"
        },
        "id": "F2xrD9h6LXux",
        "outputId": "75ec46b5-783a-4a12-dfca-6f40d8c25a26"
      },
      "execution_count": 24,
      "outputs": [
        {
          "output_type": "stream",
          "name": "stdout",
          "text": [
            "Global average per channel: torch.Size([2, 3])\n"
          ]
        }
      ]
    },
    {
      "cell_type": "code",
      "source": [
        "# Repeat: like np.tile (e.g., repeat channels or batches)\n",
        "repeated = repeat(global_avg, 'b c -> b c h w', h=4, w=4)\n",
        "print(\"Repeated back to spatial shape:\", repeated.shape)\n"
      ],
      "metadata": {
        "colab": {
          "base_uri": "https://localhost:8080/"
        },
        "id": "ATJ0iMA1Ld7S",
        "outputId": "58a366d6-8a5b-4f6b-b912-2aba2ed5d041"
      },
      "execution_count": 25,
      "outputs": [
        {
          "output_type": "stream",
          "name": "stdout",
          "text": [
            "Repeated back to spatial shape: torch.Size([2, 3, 4, 4])\n"
          ]
        }
      ]
    },
    {
      "cell_type": "code",
      "source": [
        "# Simulate token embeddings\n",
        "batch = 2\n",
        "seq_len = 4\n",
        "dim = 8\n",
        "queries = torch.rand(batch, seq_len, dim)\n",
        "keys = torch.rand(batch, seq_len, dim)\n",
        "values = torch.rand(batch, seq_len, dim)\n",
        "\n",
        "# Step 1: Compute attention scores (Q·K^T)\n",
        "scores = torch.einsum('bij,bkj->bik', queries, keys) / dim**0.5  # shape: (batch, seq_len, seq_len)\n",
        "\n",
        "# Step 2: Softmax along last axis (attention weights)\n",
        "attn_weights = torch.softmax(scores, dim=-1)\n",
        "\n",
        "# Step 3: Weighted sum: A·V\n",
        "attn_output = torch.einsum('bij,bjd->bid', attn_weights, values)\n",
        "\n",
        "print(\"Attention output shape:\", attn_output.shape)  # (batch, seq_len, dim)\n"
      ],
      "metadata": {
        "colab": {
          "base_uri": "https://localhost:8080/"
        },
        "id": "WSOjlDn8L76N",
        "outputId": "15604fb6-40a7-4ffd-dea9-51cecefe87ec"
      },
      "execution_count": 26,
      "outputs": [
        {
          "output_type": "stream",
          "name": "stdout",
          "text": [
            "Attention output shape: torch.Size([2, 4, 8])\n"
          ]
        }
      ]
    },
    {
      "cell_type": "code",
      "source": [
        "# Simulate MHA tensor: (batch, seq_len, heads, head_dim)\n",
        "mha_tensor = torch.randn(2, 4, 8, 16)  # (b, s, h, d)\n",
        "\n",
        "# Rearrange to (b, s, h*d) before linear projection\n",
        "flattened = rearrange(mha_tensor, 'b s h d -> b s (h d)')\n",
        "print(\"Flattened shape for projection:\", flattened.shape)\n",
        "\n",
        "# Reshape back for splitting heads\n",
        "reconstructed = rearrange(flattened, 'b s (h d) -> b s h d', h=8)\n",
        "print(\"Reconstructed MHA shape:\", reconstructed.shape)\n"
      ],
      "metadata": {
        "colab": {
          "base_uri": "https://localhost:8080/"
        },
        "id": "asqJjPSFL_Kp",
        "outputId": "9f0e107c-577b-48a6-d711-6150f3589938"
      },
      "execution_count": 27,
      "outputs": [
        {
          "output_type": "stream",
          "name": "stdout",
          "text": [
            "Flattened shape for projection: torch.Size([2, 4, 128])\n",
            "Reconstructed MHA shape: torch.Size([2, 4, 8, 16])\n"
          ]
        }
      ]
    },
    {
      "cell_type": "code",
      "source": [
        "import matplotlib.pyplot as plt\n",
        "import seaborn as sns\n",
        "import torch\n",
        "\n",
        "# Setup (reuse or redefine Q, K, V)\n",
        "batch = 1         # single example for visualization\n",
        "seq_len = 6       # 6 tokens\n",
        "dim = 16          # embedding dim\n",
        "\n",
        "# Random Queries, Keys, Values\n",
        "queries = torch.rand(batch, seq_len, dim)\n",
        "keys    = torch.rand(batch, seq_len, dim)\n",
        "values  = torch.rand(batch, seq_len, dim)\n",
        "\n",
        "# Attention Scores: Q · K^T\n",
        "scores = torch.einsum('bij,bkj->bik', queries, keys) / dim**0.5  # shape: (1, 6, 6)\n",
        "\n",
        "# Attention Weights\n",
        "attn_weights = torch.softmax(scores, dim=-1)  # shape: (1, 6, 6)\n",
        "\n",
        "# Select the batch[0] weights\n",
        "weights = attn_weights[0].detach().numpy()\n"
      ],
      "metadata": {
        "id": "ScCYQOhSMwIh"
      },
      "execution_count": 28,
      "outputs": []
    },
    {
      "cell_type": "code",
      "source": [
        "# Optional: Token labels\n",
        "tokens = ['[CLS]', 'The', 'cat', 'sat', 'on', 'mat']\n",
        "\n",
        "plt.figure(figsize=(8, 6))\n",
        "sns.heatmap(weights, xticklabels=tokens, yticklabels=tokens, cmap=\"YlGnBu\", annot=True, fmt=\".2f\")\n",
        "plt.title(\"🧠 Attention Weights (Q·K^T → softmax)\")\n",
        "plt.xlabel(\"Key Tokens\")\n",
        "plt.ylabel(\"Query Tokens\")\n",
        "plt.show()\n"
      ],
      "metadata": {
        "colab": {
          "base_uri": "https://localhost:8080/",
          "height": 600
        },
        "id": "cKB69O2TM1aQ",
        "outputId": "1b382e03-b311-4ba4-dfda-92d6ac10acff"
      },
      "execution_count": 29,
      "outputs": [
        {
          "output_type": "stream",
          "name": "stderr",
          "text": [
            "/usr/local/lib/python3.11/dist-packages/IPython/core/pylabtools.py:151: UserWarning: Glyph 129504 (\\N{BRAIN}) missing from font(s) DejaVu Sans.\n",
            "  fig.canvas.print_figure(bytes_io, **kw)\n"
          ]
        },
        {
          "output_type": "display_data",
          "data": {
            "text/plain": [
              "<Figure size 800x600 with 2 Axes>"
            ],
            "image/png": "[encoded data removed]"
          },
          "metadata": {}
        }
      ]
    }
  ]
}