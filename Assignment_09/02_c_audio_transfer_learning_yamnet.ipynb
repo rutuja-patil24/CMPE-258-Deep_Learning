{
  "nbformat": 4,
  "nbformat_minor": 0,
  "metadata": {
    "colab": {
      "provenance": [],
      "gpuType": "T4",
      "authorship_tag": "ABX9TyNSwyHGZP1TfXMQEv9REkgR",
      "include_colab_link": true
    },
    "kernelspec": {
      "name": "python3",
      "display_name": "Python 3"
    },
    "language_info": {
      "name": "python"
    },
    "accelerator": "GPU"
  },
  "cells": [
    {
      "cell_type": "markdown",
      "metadata": {
        "id": "view-in-github",
        "colab_type": "text"
      },
      "source": [
        "<a href=\"https://colab.research.google.com/github/rutuja-patil24/CMPE-258-Deep_Learning/blob/main/Assignment_09/02_c_audio_transfer_learning_yamnet.ipynb\" target=\"_parent\"><img src=\"https://colab.research.google.com/assets/colab-badge.svg\" alt=\"Open In Colab\"/></a>"
      ]
    },
    {
      "cell_type": "markdown",
      "source": [
        "## Step 1: Setup & Download YAMNet"
      ],
      "metadata": {
        "id": "a2kYAIKSvElu"
      }
    },
    {
      "cell_type": "code",
      "execution_count": 1,
      "metadata": {
        "id": "0254kBwSuaKT"
      },
      "outputs": [],
      "source": [
        "import tensorflow as tf\n",
        "import tensorflow_hub as hub\n",
        "import numpy as np\n",
        "import matplotlib.pyplot as plt\n",
        "import librosa\n",
        "import librosa.display\n",
        "import IPython.display as display"
      ]
    },
    {
      "cell_type": "markdown",
      "source": [
        "## Step 2: Load YAMNet from TF Hub"
      ],
      "metadata": {
        "id": "vnJBqeI0vIYo"
      }
    },
    {
      "cell_type": "code",
      "source": [
        "yamnet_model_handle = \"https://tfhub.dev/google/yamnet/1\"\n",
        "yamnet_model = hub.load(yamnet_model_handle)\n",
        "print(\"YAMNet model loaded.\")"
      ],
      "metadata": {
        "colab": {
          "base_uri": "https://localhost:8080/"
        },
        "id": "Bsk6v_nsupZk",
        "outputId": "b94f1f68-7d29-4d00-8b65-3ebde36280ab"
      },
      "execution_count": 2,
      "outputs": [
        {
          "output_type": "stream",
          "name": "stdout",
          "text": [
            "YAMNet model loaded.\n"
          ]
        }
      ]
    },
    {
      "cell_type": "markdown",
      "source": [
        "## Step 3: Load Class Map"
      ],
      "metadata": {
        "id": "HNSbv2cLvLmU"
      }
    },
    {
      "cell_type": "code",
      "source": [
        "import csv\n",
        "import requests\n",
        "\n",
        "class_map_path = \"https://raw.githubusercontent.com/tensorflow/models/master/research/audioset/yamnet/yamnet_class_map.csv\"\n",
        "response = requests.get(class_map_path)\n",
        "lines = response.text.strip().split(\"\\n\")\n",
        "class_names = [row.split(\",\")[2] for row in lines[1:]]  # Extract display_name column"
      ],
      "metadata": {
        "id": "mcsj4ZzFusv3"
      },
      "execution_count": 3,
      "outputs": []
    },
    {
      "cell_type": "markdown",
      "source": [
        "## Step 4: Load Sample Audio File"
      ],
      "metadata": {
        "id": "3zl_ruLlvOmu"
      }
    },
    {
      "cell_type": "code",
      "source": [
        "# Load a sample audio (upload manually if needed)\n",
        "file_path = tf.keras.utils.get_file(\"cat_meow.wav\",\n",
        "    \"https://github.com/karoldvl/ESC-50/blob/master/audio/1-100032-A-0.wav?raw=true\")\n",
        "\n",
        "# Decode to waveform\n",
        "waveform, sr = librosa.load(file_path, sr=16000)  # YAMNet expects 16 kHz\n"
      ],
      "metadata": {
        "colab": {
          "base_uri": "https://localhost:8080/"
        },
        "id": "2lFwrkhFuxiS",
        "outputId": "6af2af85-b860-4093-b9bf-75b32301605f"
      },
      "execution_count": 4,
      "outputs": [
        {
          "output_type": "stream",
          "name": "stdout",
          "text": [
            "Downloading data from https://github.com/karoldvl/ESC-50/blob/master/audio/1-100032-A-0.wav?raw=true\n",
            "\u001b[1m441044/441044\u001b[0m \u001b[32m━━━━━━━━━━━━━━━━━━━━\u001b[0m\u001b[37m\u001b[0m \u001b[1m0s\u001b[0m 0us/step\n"
          ]
        }
      ]
    },
    {
      "cell_type": "markdown",
      "source": [
        "##  Step 5: Predict with YAMNet"
      ],
      "metadata": {
        "id": "DVwT_3U3vRoe"
      }
    },
    {
      "cell_type": "code",
      "source": [
        "# Run YAMNet\n",
        "scores, embeddings, spectrogram = yamnet_model(waveform)\n",
        "\n",
        "# Get top prediction\n",
        "mean_scores = tf.reduce_mean(scores, axis=0)\n",
        "top_class = tf.argmax(mean_scores).numpy()\n",
        "top_score = mean_scores[top_class].numpy()\n",
        "predicted_class = class_names[top_class]\n",
        "\n",
        "print(f\"Predicted Class: {predicted_class} (confidence: {top_score:.3f})\")\n"
      ],
      "metadata": {
        "colab": {
          "base_uri": "https://localhost:8080/"
        },
        "id": "vIm8mSJxu7nH",
        "outputId": "f9f9fa1a-b68f-4b37-851d-7fbbe29aef24"
      },
      "execution_count": 5,
      "outputs": [
        {
          "output_type": "stream",
          "name": "stdout",
          "text": [
            "Predicted Class: Silence\r (confidence: 0.702)\n"
          ]
        }
      ]
    },
    {
      "cell_type": "markdown",
      "source": [
        "##  Visualize Spectrogram"
      ],
      "metadata": {
        "id": "Z97dAmQyvUY2"
      }
    },
    {
      "cell_type": "code",
      "source": [
        "plt.figure(figsize=(10, 4))\n",
        "librosa.display.waveshow(waveform, sr=16000)\n",
        "plt.title(\"Waveform\")\n",
        "plt.show()\n"
      ],
      "metadata": {
        "colab": {
          "base_uri": "https://localhost:8080/",
          "height": 410
        },
        "id": "my8Xe3TavAuf",
        "outputId": "7a768ca0-62df-4710-c377-1ed6678d71d7"
      },
      "execution_count": 6,
      "outputs": [
        {
          "output_type": "display_data",
          "data": {
            "text/plain": [
              "<Figure size 1000x400 with 1 Axes>"
            ],
            "image/png": "[encoded data removed]"
          },
          "metadata": {}
        }
      ]
    }
  ]
}