{
  "cells": [
    {
      "cell_type": "markdown",
      "metadata": {
        "id": "view-in-github",
        "colab_type": "text"
      },
      "source": [
        "<a href=\"https://colab.research.google.com/github/rutuja-patil24/CMPE-258-Deep_Learning/blob/main/Assignment_09/Part_02_1_transfer_image.ipynb\" target=\"_parent\"><img src=\"https://colab.research.google.com/assets/colab-badge.svg\" alt=\"Open In Colab\"/></a>"
      ]
    },
    {
      "cell_type": "markdown",
      "metadata": {
        "id": "SkwklOqMBjwl"
      },
      "source": [
        "## Step 1: Imports and Setup"
      ],
      "id": "SkwklOqMBjwl"
    },
    {
      "cell_type": "code",
      "metadata": {
        "id": "TEQ1xCASBjwm"
      },
      "source": [
        "# Step 1: Imports and Setup\n",
        "import tensorflow as tf\n",
        "from tensorflow.keras import layers, models\n",
        "import tensorflow_datasets as tfds\n",
        "import matplotlib.pyplot as plt\n",
        "\n",
        "# Enable GPU memory growth if needed\n",
        "gpus = tf.config.list_physical_devices('GPU')\n",
        "if gpus:\n",
        "    tf.config.experimental.set_memory_growth(gpus[0], True)\n"
      ],
      "execution_count": null,
      "outputs": [],
      "id": "TEQ1xCASBjwm"
    },
    {
      "cell_type": "markdown",
      "metadata": {
        "id": "0U3_h9U4Bjwn"
      },
      "source": [
        "##  Step 2: Load Cats vs Dogs Dataset"
      ],
      "id": "0U3_h9U4Bjwn"
    },
    {
      "cell_type": "code",
      "metadata": {
        "id": "a6g81YlWBjwn"
      },
      "source": [
        "(train_ds, val_ds), ds_info = tfds.load(\n",
        "    'cats_vs_dogs',\n",
        "    split=['train[:80%]', 'train[80%:]'],\n",
        "    shuffle_files=True,\n",
        "    as_supervised=True,\n",
        "    with_info=True\n",
        ")\n",
        "\n",
        "IMG_SIZE = 224\n",
        "BATCH_SIZE = 32\n",
        "\n",
        "# Preprocessing pipeline\n",
        "def preprocess(image, label):\n",
        "    image = tf.image.resize(image, (IMG_SIZE, IMG_SIZE))\n",
        "    return image / 255.0, label\n",
        "\n",
        "train_ds = train_ds.map(preprocess).batch(BATCH_SIZE).prefetch(tf.data.AUTOTUNE)\n",
        "val_ds = val_ds.map(preprocess).batch(BATCH_SIZE).prefetch(tf.data.AUTOTUNE)\n"
      ],
      "execution_count": null,
      "outputs": [],
      "id": "a6g81YlWBjwn"
    },
    {
      "cell_type": "markdown",
      "metadata": {
        "id": "XYf2InBXBjwn"
      },
      "source": [
        "##  Step 3: Feature Extraction with MobileNetV2 (Frozen Base)"
      ],
      "id": "XYf2InBXBjwn"
    },
    {
      "cell_type": "code",
      "metadata": {
        "id": "gPTx0_IYBjwo"
      },
      "source": [
        "# Load base model\n",
        "base_model = tf.keras.applications.MobileNetV2(input_shape=(IMG_SIZE, IMG_SIZE, 3),\n",
        "                                               include_top=False,\n",
        "                                               weights='imagenet')\n",
        "base_model.trainable = False  # Freeze base\n",
        "\n",
        "# Create model\n",
        "model = models.Sequential([\n",
        "    base_model,\n",
        "    layers.GlobalAveragePooling2D(),\n",
        "    layers.Dense(1, activation='sigmoid')\n",
        "])\n",
        "\n",
        "model.compile(optimizer='adam',\n",
        "              loss='binary_crossentropy',\n",
        "              metrics=['accuracy'])\n",
        "\n",
        "# Train only the classification head\n",
        "history = model.fit(train_ds, validation_data=val_ds, epochs=5)\n"
      ],
      "execution_count": null,
      "outputs": [],
      "id": "gPTx0_IYBjwo"
    },
    {
      "cell_type": "markdown",
      "metadata": {
        "id": "UKu9w8FwBjwo"
      },
      "source": [
        "## Step 4: Fine-Tuning the Top Layers"
      ],
      "id": "UKu9w8FwBjwo"
    },
    {
      "cell_type": "code",
      "metadata": {
        "id": "7iooUiPsBjwo"
      },
      "source": [
        "# Unfreeze top layers of base model\n",
        "base_model.trainable = True\n",
        "\n",
        "# Freeze all layers before layer 100\n",
        "fine_tune_at = 100\n",
        "for layer in base_model.layers[:fine_tune_at]:\n",
        "    layer.trainable = False\n",
        "\n",
        "# Compile with lower learning rate\n",
        "model.compile(optimizer=tf.keras.optimizers.Adam(1e-5),\n",
        "              loss='binary_crossentropy',\n",
        "              metrics=['accuracy'])\n",
        "\n",
        "# Fine-tune the entire stack\n",
        "fine_tune_history = model.fit(train_ds, validation_data=val_ds, epochs=5)\n"
      ],
      "execution_count": null,
      "outputs": [],
      "id": "7iooUiPsBjwo"
    },
    {
      "cell_type": "markdown",
      "metadata": {
        "id": "AGzZYKaSBjwo"
      },
      "source": [
        "##  Step 5: Plot Results"
      ],
      "id": "AGzZYKaSBjwo"
    },
    {
      "cell_type": "code",
      "metadata": {
        "id": "AhUn42oYBjwo"
      },
      "source": [
        "plt.plot(history.history['accuracy'] + fine_tune_history.history['accuracy'])\n",
        "plt.plot(history.history['val_accuracy'] + fine_tune_history.history['val_accuracy'])\n",
        "plt.title('Training and Validation Accuracy')\n",
        "plt.ylabel('Accuracy')\n",
        "plt.xlabel('Epoch')\n",
        "plt.legend(['Train', 'Val'], loc='lower right')\n",
        "plt.show()"
      ],
      "execution_count": null,
      "outputs": [],
      "id": "AhUn42oYBjwo"
    }
  ],
  "metadata": {
    "kernelspec": {
      "display_name": "Python 3",
      "language": "python",
      "name": "python3"
    },
    "language_info": {
      "name": "python",
      "version": "3.11"
    },
    "colab": {
      "provenance": [],
      "include_colab_link": true
    }
  },
  "nbformat": 4,
  "nbformat_minor": 5
}